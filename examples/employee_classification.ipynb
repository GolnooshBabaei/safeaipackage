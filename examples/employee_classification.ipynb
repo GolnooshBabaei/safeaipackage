{
 "cells": [
  {
   "cell_type": "code",
   "execution_count": 3,
   "id": "99c9e2c5",
   "metadata": {},
   "outputs": [],
   "source": [
    "import pandas as pd\n",
    "import numpy as np\n",
    "import warnings\n",
    "import scipy\n",
    "import matplotlib.pyplot as plt\n",
    "from safeaipackage import check_accuracy, check_robustness, check_explainability, check_fairness, check_privacy\n",
    "from sklearn.model_selection import train_test_split\n",
    "from sklearn.ensemble import RandomForestClassifier\n",
    "\n",
    "warnings.filterwarnings('ignore')\n",
    "pd.set_option(\"display.max_rows\", 1000)\n",
    "pd.set_option(\"display.max_columns\", 10000)"
   ]
  },
  {
   "cell_type": "code",
   "execution_count": 4,
   "id": "82b793d3",
   "metadata": {
    "scrolled": true
   },
   "outputs": [
    {
     "name": "stdout",
     "output_type": "stream",
     "text": [
      "This dataset has 473 rows and 9 columns\n"
     ]
    },
    {
     "data": {
      "text/html": [
       "<div>\n",
       "<style scoped>\n",
       "    .dataframe tbody tr th:only-of-type {\n",
       "        vertical-align: middle;\n",
       "    }\n",
       "\n",
       "    .dataframe tbody tr th {\n",
       "        vertical-align: top;\n",
       "    }\n",
       "\n",
       "    .dataframe thead th {\n",
       "        text-align: right;\n",
       "    }\n",
       "</style>\n",
       "<table border=\"1\" class=\"dataframe\">\n",
       "  <thead>\n",
       "    <tr style=\"text-align: right;\">\n",
       "      <th></th>\n",
       "      <th>salary</th>\n",
       "      <th>age</th>\n",
       "      <th>edu</th>\n",
       "      <th>startsal</th>\n",
       "      <th>jobtime</th>\n",
       "      <th>prevexp</th>\n",
       "      <th>minority</th>\n",
       "      <th>gender</th>\n",
       "      <th>jobcat</th>\n",
       "    </tr>\n",
       "  </thead>\n",
       "  <tbody>\n",
       "    <tr>\n",
       "      <th>0</th>\n",
       "      <td>57000</td>\n",
       "      <td>36</td>\n",
       "      <td>15</td>\n",
       "      <td>27000</td>\n",
       "      <td>98</td>\n",
       "      <td>144</td>\n",
       "      <td>no_min</td>\n",
       "      <td>m</td>\n",
       "      <td>manager</td>\n",
       "    </tr>\n",
       "    <tr>\n",
       "      <th>1</th>\n",
       "      <td>40200</td>\n",
       "      <td>30</td>\n",
       "      <td>16</td>\n",
       "      <td>18750</td>\n",
       "      <td>98</td>\n",
       "      <td>36</td>\n",
       "      <td>no_min</td>\n",
       "      <td>m</td>\n",
       "      <td>Clerical</td>\n",
       "    </tr>\n",
       "    <tr>\n",
       "      <th>2</th>\n",
       "      <td>21450</td>\n",
       "      <td>59</td>\n",
       "      <td>12</td>\n",
       "      <td>12000</td>\n",
       "      <td>98</td>\n",
       "      <td>381</td>\n",
       "      <td>no_min</td>\n",
       "      <td>f</td>\n",
       "      <td>Clerical</td>\n",
       "    </tr>\n",
       "    <tr>\n",
       "      <th>3</th>\n",
       "      <td>21900</td>\n",
       "      <td>41</td>\n",
       "      <td>8</td>\n",
       "      <td>13200</td>\n",
       "      <td>98</td>\n",
       "      <td>190</td>\n",
       "      <td>no_min</td>\n",
       "      <td>f</td>\n",
       "      <td>Clerical</td>\n",
       "    </tr>\n",
       "    <tr>\n",
       "      <th>4</th>\n",
       "      <td>45000</td>\n",
       "      <td>33</td>\n",
       "      <td>15</td>\n",
       "      <td>21000</td>\n",
       "      <td>98</td>\n",
       "      <td>138</td>\n",
       "      <td>no_min</td>\n",
       "      <td>m</td>\n",
       "      <td>Clerical</td>\n",
       "    </tr>\n",
       "  </tbody>\n",
       "</table>\n",
       "</div>"
      ],
      "text/plain": [
       "   salary  age  edu  startsal  jobtime  prevexp minority gender    jobcat\n",
       "0   57000   36   15     27000       98      144   no_min      m   manager\n",
       "1   40200   30   16     18750       98       36   no_min      m  Clerical\n",
       "2   21450   59   12     12000       98      381   no_min      f  Clerical\n",
       "3   21900   41    8     13200       98      190   no_min      f  Clerical\n",
       "4   45000   33   15     21000       98      138   no_min      m  Clerical"
      ]
     },
     "execution_count": 4,
     "metadata": {},
     "output_type": "execute_result"
    }
   ],
   "source": [
    "data = pd.read_excel(\"D:/files/research_activities/ORGANIZED_FILES/safeaipackage/examples/employee.xlsx\")\n",
    "print(\"This dataset has {} rows and {} columns\".format(data.shape[0], data.shape[1]))\n",
    "data.head()"
   ]
  },
  {
   "cell_type": "code",
   "execution_count": 5,
   "id": "2676a648",
   "metadata": {},
   "outputs": [
    {
     "data": {
      "text/html": [
       "<div>\n",
       "<style scoped>\n",
       "    .dataframe tbody tr th:only-of-type {\n",
       "        vertical-align: middle;\n",
       "    }\n",
       "\n",
       "    .dataframe tbody tr th {\n",
       "        vertical-align: top;\n",
       "    }\n",
       "\n",
       "    .dataframe thead th {\n",
       "        text-align: right;\n",
       "    }\n",
       "</style>\n",
       "<table border=\"1\" class=\"dataframe\">\n",
       "  <thead>\n",
       "    <tr style=\"text-align: right;\">\n",
       "      <th></th>\n",
       "      <th>salary</th>\n",
       "      <th>age</th>\n",
       "      <th>edu</th>\n",
       "      <th>startsal</th>\n",
       "      <th>jobtime</th>\n",
       "      <th>prevexp</th>\n",
       "      <th>minority</th>\n",
       "      <th>gender</th>\n",
       "      <th>jobcat_Clerical</th>\n",
       "      <th>jobcat_Custodial</th>\n",
       "      <th>jobcat_manager</th>\n",
       "    </tr>\n",
       "  </thead>\n",
       "  <tbody>\n",
       "    <tr>\n",
       "      <th>0</th>\n",
       "      <td>57000</td>\n",
       "      <td>36</td>\n",
       "      <td>15</td>\n",
       "      <td>27000</td>\n",
       "      <td>98</td>\n",
       "      <td>144</td>\n",
       "      <td>0</td>\n",
       "      <td>0</td>\n",
       "      <td>0</td>\n",
       "      <td>0</td>\n",
       "      <td>1</td>\n",
       "    </tr>\n",
       "    <tr>\n",
       "      <th>1</th>\n",
       "      <td>40200</td>\n",
       "      <td>30</td>\n",
       "      <td>16</td>\n",
       "      <td>18750</td>\n",
       "      <td>98</td>\n",
       "      <td>36</td>\n",
       "      <td>0</td>\n",
       "      <td>0</td>\n",
       "      <td>1</td>\n",
       "      <td>0</td>\n",
       "      <td>0</td>\n",
       "    </tr>\n",
       "    <tr>\n",
       "      <th>2</th>\n",
       "      <td>21450</td>\n",
       "      <td>59</td>\n",
       "      <td>12</td>\n",
       "      <td>12000</td>\n",
       "      <td>98</td>\n",
       "      <td>381</td>\n",
       "      <td>0</td>\n",
       "      <td>1</td>\n",
       "      <td>1</td>\n",
       "      <td>0</td>\n",
       "      <td>0</td>\n",
       "    </tr>\n",
       "    <tr>\n",
       "      <th>3</th>\n",
       "      <td>21900</td>\n",
       "      <td>41</td>\n",
       "      <td>8</td>\n",
       "      <td>13200</td>\n",
       "      <td>98</td>\n",
       "      <td>190</td>\n",
       "      <td>0</td>\n",
       "      <td>1</td>\n",
       "      <td>1</td>\n",
       "      <td>0</td>\n",
       "      <td>0</td>\n",
       "    </tr>\n",
       "    <tr>\n",
       "      <th>4</th>\n",
       "      <td>45000</td>\n",
       "      <td>33</td>\n",
       "      <td>15</td>\n",
       "      <td>21000</td>\n",
       "      <td>98</td>\n",
       "      <td>138</td>\n",
       "      <td>0</td>\n",
       "      <td>0</td>\n",
       "      <td>1</td>\n",
       "      <td>0</td>\n",
       "      <td>0</td>\n",
       "    </tr>\n",
       "  </tbody>\n",
       "</table>\n",
       "</div>"
      ],
      "text/plain": [
       "   salary  age  edu  startsal  jobtime  prevexp  minority  gender  \\\n",
       "0   57000   36   15     27000       98      144         0       0   \n",
       "1   40200   30   16     18750       98       36         0       0   \n",
       "2   21450   59   12     12000       98      381         0       1   \n",
       "3   21900   41    8     13200       98      190         0       1   \n",
       "4   45000   33   15     21000       98      138         0       0   \n",
       "\n",
       "   jobcat_Clerical  jobcat_Custodial  jobcat_manager  \n",
       "0                0                 0               1  \n",
       "1                1                 0               0  \n",
       "2                1                 0               0  \n",
       "3                1                 0               0  \n",
       "4                1                 0               0  "
      ]
     },
     "execution_count": 5,
     "metadata": {},
     "output_type": "execute_result"
    }
   ],
   "source": [
    "data[\"gender\"] = np.where(data[\"gender\"]==\"m\", 0, 1)\n",
    "data[\"minority\"] = np.where(data[\"minority\"]==\"no_min\", 0, 1)\n",
    "data = pd.get_dummies(data, columns=[\"jobcat\"])\n",
    "data.head()"
   ]
  },
  {
   "cell_type": "code",
   "execution_count": 6,
   "id": "fc4bb2e3",
   "metadata": {},
   "outputs": [
    {
     "data": {
      "text/plain": [
       "0    253\n",
       "1    220\n",
       "Name: promoted, dtype: int64"
      ]
     },
     "execution_count": 6,
     "metadata": {},
     "output_type": "execute_result"
    }
   ],
   "source": [
    "data[\"promoted\"] = np.where(data[\"salary\"]/data[\"startsal\"] > 2,1,0)\n",
    "\n",
    "data[\"promoted\"].value_counts()"
   ]
  },
  {
   "cell_type": "code",
   "execution_count": 7,
   "id": "a7063206",
   "metadata": {},
   "outputs": [
    {
     "name": "stdout",
     "output_type": "stream",
     "text": [
      "(331, 9)\n",
      "(142, 9)\n"
     ]
    }
   ],
   "source": [
    "X = data.drop([\"promoted\", \"salary\", \"startsal\"], axis=1)\n",
    "y = data[\"promoted\"]\n",
    "\n",
    "xtrain, xtest, ytrain, ytest = train_test_split(X, y, test_size=0.3, random_state=1)\n",
    "\n",
    "print(xtrain.shape)\n",
    "print(xtest.shape)"
   ]
  },
  {
   "cell_type": "code",
   "execution_count": 8,
   "id": "3bf73d28",
   "metadata": {},
   "outputs": [
    {
     "data": {
      "text/plain": [
       "array([1, 1, 1, 1, 1, 1, 0, 0, 1, 0, 1, 0, 1, 0, 1, 1, 1, 0, 0, 0, 1, 1,\n",
       "       0, 0, 0, 0, 0, 0, 1, 1, 1, 0, 0, 0, 1, 1, 0, 0, 1, 1, 1, 1, 0, 0,\n",
       "       1, 0, 0, 1, 1, 1, 1, 1, 1, 1, 1, 0, 1, 0, 0, 1, 0, 0, 1, 0, 0, 0,\n",
       "       0, 1, 0, 0, 1, 0, 0, 1, 0, 0, 0, 1, 1, 1, 1, 0, 1, 1, 0, 1, 1, 1,\n",
       "       0, 1, 0, 1, 0, 0, 0, 0, 1, 0, 0, 1, 1, 1, 0, 0, 1, 0, 1, 1, 1, 0,\n",
       "       1, 0, 0, 1, 1, 1, 0, 1, 1, 0, 0, 0, 0, 0, 0, 0, 1, 0, 0, 1, 0, 1,\n",
       "       1, 0, 1, 0, 0, 0, 1, 1, 1, 0])"
      ]
     },
     "execution_count": 8,
     "metadata": {},
     "output_type": "execute_result"
    }
   ],
   "source": [
    "rf_model_full = RandomForestClassifier(random_state=1).fit(xtrain, ytrain)\n",
    "\n",
    "rf_predictions_full = rf_model_full.predict(xtest)\n",
    "rf_predictions_full"
   ]
  },
  {
   "cell_type": "markdown",
   "id": "615462d9",
   "metadata": {},
   "source": [
    "# ACCURACY"
   ]
  },
  {
   "cell_type": "markdown",
   "id": "78d2346f",
   "metadata": {},
   "source": [
    "## To check accuracy of the model trained to predict if an employee will be promoted or not, we can use the RGA function defined in the \"check_accuracy\" module of \"safeaipackage\" python package"
   ]
  },
  {
   "cell_type": "code",
   "execution_count": 9,
   "id": "997e7da6",
   "metadata": {},
   "outputs": [
    {
     "data": {
      "text/plain": [
       "0.6848958333333334"
      ]
     },
     "execution_count": 9,
     "metadata": {},
     "output_type": "execute_result"
    }
   ],
   "source": [
    "#ACCURACY\n",
    "\n",
    "rga_full = check_accuracy.rga(ytest, rf_predictions_full)\n",
    "rga_full"
   ]
  },
  {
   "cell_type": "markdown",
   "id": "9a0f15b8",
   "metadata": {},
   "source": [
    "### The higher RGA value (closer to one) the better concordance between the trained model and the actual values"
   ]
  },
  {
   "cell_type": "code",
   "execution_count": 10,
   "id": "714c7214",
   "metadata": {},
   "outputs": [
    {
     "name": "stdout",
     "output_type": "stream",
     "text": [
      "                   P_value\n",
      "age               0.425752\n",
      "edu               0.383272\n",
      "jobtime           0.563593\n",
      "prevexp           0.455730\n",
      "minority          0.353790\n",
      "gender            0.665772\n",
      "jobcat_Clerical   0.297502\n",
      "jobcat_Custodial  0.442390\n",
      "jobcat_manager    0.079890\n"
     ]
    }
   ],
   "source": [
    "rga_pvalues = []\n",
    "for i in xtrain.columns:\n",
    "    xtrain_rm = xtrain.drop(i, axis=1)\n",
    "    xtest_rm = xtest.drop(i, axis=1)\n",
    "    model_rm = rf_model_full.fit(xtrain_rm, ytrain)\n",
    "    yhat_rm = model_rm.predict(xtest_rm)\n",
    "    rga_pvalues.append(check_accuracy.rga_statistic_test(ytest, yhat_rm, rf_predictions_full))\n",
    "print(pd.DataFrame(rga_pvalues, index=xtest.columns, columns=[\"P_value\"]))"
   ]
  },
  {
   "cell_type": "markdown",
   "id": "2aaa462c",
   "metadata": {},
   "source": [
    "# EXPLAINABILITY"
   ]
  },
  {
   "cell_type": "markdown",
   "id": "af810f01",
   "metadata": {},
   "source": [
    "# To find the contribution of explanatory variables to the output of the model, we can use the RGE function defined in the \"check_explainability\" module of \"safeaipackage\" python package"
   ]
  },
  {
   "cell_type": "code",
   "execution_count": 12,
   "id": "1411abc2",
   "metadata": {},
   "outputs": [
    {
     "data": {
      "image/png": "[encoded data removed]",
      "text/plain": [
       "<Figure size 720x432 with 1 Axes>"
      ]
     },
     "metadata": {
      "needs_background": "light"
     },
     "output_type": "display_data"
    },
    {
     "data": {
      "text/html": [
       "<div>\n",
       "<style scoped>\n",
       "    .dataframe tbody tr th:only-of-type {\n",
       "        vertical-align: middle;\n",
       "    }\n",
       "\n",
       "    .dataframe tbody tr th {\n",
       "        vertical-align: top;\n",
       "    }\n",
       "\n",
       "    .dataframe thead th {\n",
       "        text-align: right;\n",
       "    }\n",
       "</style>\n",
       "<table border=\"1\" class=\"dataframe\">\n",
       "  <thead>\n",
       "    <tr style=\"text-align: right;\">\n",
       "      <th></th>\n",
       "      <th>RGE</th>\n",
       "    </tr>\n",
       "  </thead>\n",
       "  <tbody>\n",
       "    <tr>\n",
       "      <th>jobtime</th>\n",
       "      <td>0.211268</td>\n",
       "    </tr>\n",
       "    <tr>\n",
       "      <th>age</th>\n",
       "      <td>0.190141</td>\n",
       "    </tr>\n",
       "    <tr>\n",
       "      <th>prevexp</th>\n",
       "      <td>0.119718</td>\n",
       "    </tr>\n",
       "    <tr>\n",
       "      <th>edu</th>\n",
       "      <td>0.105634</td>\n",
       "    </tr>\n",
       "    <tr>\n",
       "      <th>jobcat_Clerical</th>\n",
       "      <td>0.098592</td>\n",
       "    </tr>\n",
       "    <tr>\n",
       "      <th>jobcat_manager</th>\n",
       "      <td>0.098592</td>\n",
       "    </tr>\n",
       "    <tr>\n",
       "      <th>minority</th>\n",
       "      <td>0.091549</td>\n",
       "    </tr>\n",
       "    <tr>\n",
       "      <th>gender</th>\n",
       "      <td>0.063380</td>\n",
       "    </tr>\n",
       "    <tr>\n",
       "      <th>jobcat_Custodial</th>\n",
       "      <td>0.056338</td>\n",
       "    </tr>\n",
       "  </tbody>\n",
       "</table>\n",
       "</div>"
      ],
      "text/plain": [
       "                       RGE\n",
       "jobtime           0.211268\n",
       "age               0.190141\n",
       "prevexp           0.119718\n",
       "edu               0.105634\n",
       "jobcat_Clerical   0.098592\n",
       "jobcat_manager    0.098592\n",
       "minority          0.091549\n",
       "gender            0.063380\n",
       "jobcat_Custodial  0.056338"
      ]
     },
     "execution_count": 12,
     "metadata": {},
     "output_type": "execute_result"
    }
   ],
   "source": [
    "check_explainability.rge(xtrain, xtest, ytrain, ytest, rf_model_full)"
   ]
  },
  {
   "cell_type": "markdown",
   "id": "841a8d90",
   "metadata": {},
   "source": [
    "# ROBUSTNESS"
   ]
  },
  {
   "cell_type": "code",
   "execution_count": 12,
   "id": "5e053934",
   "metadata": {},
   "outputs": [
    {
     "data": {
      "text/html": [
       "<div>\n",
       "<style scoped>\n",
       "    .dataframe tbody tr th:only-of-type {\n",
       "        vertical-align: middle;\n",
       "    }\n",
       "\n",
       "    .dataframe tbody tr th {\n",
       "        vertical-align: top;\n",
       "    }\n",
       "\n",
       "    .dataframe thead th {\n",
       "        text-align: right;\n",
       "    }\n",
       "</style>\n",
       "<table border=\"1\" class=\"dataframe\">\n",
       "  <thead>\n",
       "    <tr style=\"text-align: right;\">\n",
       "      <th></th>\n",
       "      <th>RGR</th>\n",
       "    </tr>\n",
       "  </thead>\n",
       "  <tbody>\n",
       "    <tr>\n",
       "      <th>age</th>\n",
       "      <td>0.748592</td>\n",
       "    </tr>\n",
       "    <tr>\n",
       "      <th>edu</th>\n",
       "      <td>0.746479</td>\n",
       "    </tr>\n",
       "    <tr>\n",
       "      <th>jobtime</th>\n",
       "      <td>0.706338</td>\n",
       "    </tr>\n",
       "    <tr>\n",
       "      <th>prevexp</th>\n",
       "      <td>0.666197</td>\n",
       "    </tr>\n",
       "    <tr>\n",
       "      <th>minority</th>\n",
       "      <td>0.678169</td>\n",
       "    </tr>\n",
       "    <tr>\n",
       "      <th>gender</th>\n",
       "      <td>0.677465</td>\n",
       "    </tr>\n",
       "    <tr>\n",
       "      <th>jobcat_Clerical</th>\n",
       "      <td>0.673944</td>\n",
       "    </tr>\n",
       "    <tr>\n",
       "      <th>jobcat_Custodial</th>\n",
       "      <td>0.663380</td>\n",
       "    </tr>\n",
       "    <tr>\n",
       "      <th>jobcat_manager</th>\n",
       "      <td>0.680282</td>\n",
       "    </tr>\n",
       "  </tbody>\n",
       "</table>\n",
       "</div>"
      ],
      "text/plain": [
       "                       RGR\n",
       "age               0.748592\n",
       "edu               0.746479\n",
       "jobtime           0.706338\n",
       "prevexp           0.666197\n",
       "minority          0.678169\n",
       "gender            0.677465\n",
       "jobcat_Clerical   0.673944\n",
       "jobcat_Custodial  0.663380\n",
       "jobcat_manager    0.680282"
      ]
     },
     "execution_count": 12,
     "metadata": {},
     "output_type": "execute_result"
    }
   ],
   "source": [
    "features_tobe_perturbed = ['age', 'edu', 'jobtime', 'prevexp', 'minority','gender', 'jobcat_Clerical', \n",
    "                           'jobcat_Custodial', 'jobcat_manager']\n",
    "rgr_values = []\n",
    "for i in features_tobe_perturbed:\n",
    "    data_ = data\n",
    "    rgr_ = []\n",
    "    for n in range(10):\n",
    "        data_[i] = np.random.permutation(data_[i])\n",
    "        X = data_.drop([\"promoted\"], axis=1)\n",
    "        y = data_[\"promoted\"]\n",
    "        xtrain, xtest, ytrain, ytest = train_test_split(X, y, test_size=0.3, random_state=1)\n",
    "        rf_perturbed = RandomForestClassifier(random_state=1).fit(xtrain, ytrain)\n",
    "        rf_predictions_perturbed = rf_perturbed.predict(xtest)\n",
    "        rgr_.append(check_robustness.rgr(rf_predictions_full, rf_predictions_perturbed))\n",
    "    rgr_values.append(np.mean(rgr_))\n",
    "pd.DataFrame(rgr_values, index=features_tobe_perturbed, columns=[\"RGR\"])"
   ]
  },
  {
   "cell_type": "code",
   "execution_count": null,
   "id": "737e684c",
   "metadata": {},
   "outputs": [],
   "source": [
    "check_robustness.rgr(xtrain, xtest, ytrain)"
   ]
  },
  {
   "cell_type": "markdown",
   "id": "93322647",
   "metadata": {},
   "source": [
    "# FAIRNESS"
   ]
  },
  {
   "cell_type": "code",
   "execution_count": 40,
   "id": "3893d787",
   "metadata": {},
   "outputs": [
    {
     "data": {
      "text/plain": [
       "0.06259936406995215"
      ]
     },
     "execution_count": 40,
     "metadata": {},
     "output_type": "execute_result"
    }
   ],
   "source": [
    "check_fairness.rgf(rf_predictions_gender, rf_predictions_full)"
   ]
  }
 ],
 "metadata": {
  "kernelspec": {
   "display_name": "Python 3",
   "language": "python",
   "name": "python3"
  },
  "language_info": {
   "codemirror_mode": {
    "name": "ipython",
    "version": 3
   },
   "file_extension": ".py",
   "mimetype": "text/x-python",
   "name": "python",
   "nbconvert_exporter": "python",
   "pygments_lexer": "ipython3",
   "version": "3.8.8"
  }
 },
 "nbformat": 4,
 "nbformat_minor": 5
}
