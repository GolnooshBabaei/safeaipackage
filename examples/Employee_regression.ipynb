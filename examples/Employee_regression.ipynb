{
 "cells": [
  {
   "cell_type": "markdown",
   "id": "9f245402",
   "metadata": {},
   "source": [
    "# In this notebook, we show a regression example using the employee dataset. In this problem, the target variable is \"salary_growth\" that represents the amount of increase in an employee's salary. \n",
    "\n",
    "# The explanatory variables include age, edu, jobtime, prevexp, minority, gender, and jobcat. Definition of these explanatory variables is presented below. \n"
   ]
  },
  {
   "cell_type": "code",
   "execution_count": 8,
   "id": "99c9e2c5",
   "metadata": {},
   "outputs": [],
   "source": [
    "import pandas as pd\n",
    "import numpy as np\n",
    "import warnings\n",
    "import scipy\n",
    "import matplotlib.pyplot as plt\n",
    "import seaborn as sns\n",
    "from safeaipackage import check_accuracy, check_robustness, check_explainability, check_fairness, check_privacy\n",
    "from sklearn.model_selection import train_test_split\n",
    "from sklearn.ensemble import RandomForestRegressor\n",
    "from sklearn.linear_model import LinearRegression\n",
    "\n",
    "warnings.filterwarnings('ignore')\n",
    "pd.set_option(\"display.max_rows\", 1000)\n",
    "pd.set_option(\"display.max_columns\", 10000)"
   ]
  },
  {
   "cell_type": "code",
   "execution_count": 2,
   "id": "82b793d3",
   "metadata": {
    "scrolled": true
   },
   "outputs": [
    {
     "name": "stdout",
     "output_type": "stream",
     "text": [
      "This dataset has 473 rows and 9 columns\n"
     ]
    },
    {
     "data": {
      "text/html": [
       "<div>\n",
       "<style scoped>\n",
       "    .dataframe tbody tr th:only-of-type {\n",
       "        vertical-align: middle;\n",
       "    }\n",
       "\n",
       "    .dataframe tbody tr th {\n",
       "        vertical-align: top;\n",
       "    }\n",
       "\n",
       "    .dataframe thead th {\n",
       "        text-align: right;\n",
       "    }\n",
       "</style>\n",
       "<table border=\"1\" class=\"dataframe\">\n",
       "  <thead>\n",
       "    <tr style=\"text-align: right;\">\n",
       "      <th></th>\n",
       "      <th>salary</th>\n",
       "      <th>age</th>\n",
       "      <th>edu</th>\n",
       "      <th>startsal</th>\n",
       "      <th>jobtime</th>\n",
       "      <th>prevexp</th>\n",
       "      <th>minority</th>\n",
       "      <th>gender</th>\n",
       "      <th>jobcat</th>\n",
       "    </tr>\n",
       "  </thead>\n",
       "  <tbody>\n",
       "    <tr>\n",
       "      <th>0</th>\n",
       "      <td>57000</td>\n",
       "      <td>36</td>\n",
       "      <td>15</td>\n",
       "      <td>27000</td>\n",
       "      <td>98</td>\n",
       "      <td>144</td>\n",
       "      <td>no_min</td>\n",
       "      <td>m</td>\n",
       "      <td>manager</td>\n",
       "    </tr>\n",
       "    <tr>\n",
       "      <th>1</th>\n",
       "      <td>40200</td>\n",
       "      <td>30</td>\n",
       "      <td>16</td>\n",
       "      <td>18750</td>\n",
       "      <td>98</td>\n",
       "      <td>36</td>\n",
       "      <td>no_min</td>\n",
       "      <td>m</td>\n",
       "      <td>Clerical</td>\n",
       "    </tr>\n",
       "    <tr>\n",
       "      <th>2</th>\n",
       "      <td>21450</td>\n",
       "      <td>59</td>\n",
       "      <td>12</td>\n",
       "      <td>12000</td>\n",
       "      <td>98</td>\n",
       "      <td>381</td>\n",
       "      <td>no_min</td>\n",
       "      <td>f</td>\n",
       "      <td>Clerical</td>\n",
       "    </tr>\n",
       "    <tr>\n",
       "      <th>3</th>\n",
       "      <td>21900</td>\n",
       "      <td>41</td>\n",
       "      <td>8</td>\n",
       "      <td>13200</td>\n",
       "      <td>98</td>\n",
       "      <td>190</td>\n",
       "      <td>no_min</td>\n",
       "      <td>f</td>\n",
       "      <td>Clerical</td>\n",
       "    </tr>\n",
       "    <tr>\n",
       "      <th>4</th>\n",
       "      <td>45000</td>\n",
       "      <td>33</td>\n",
       "      <td>15</td>\n",
       "      <td>21000</td>\n",
       "      <td>98</td>\n",
       "      <td>138</td>\n",
       "      <td>no_min</td>\n",
       "      <td>m</td>\n",
       "      <td>Clerical</td>\n",
       "    </tr>\n",
       "  </tbody>\n",
       "</table>\n",
       "</div>"
      ],
      "text/plain": [
       "   salary  age  edu  startsal  jobtime  prevexp minority gender    jobcat\n",
       "0   57000   36   15     27000       98      144   no_min      m   manager\n",
       "1   40200   30   16     18750       98       36   no_min      m  Clerical\n",
       "2   21450   59   12     12000       98      381   no_min      f  Clerical\n",
       "3   21900   41    8     13200       98      190   no_min      f  Clerical\n",
       "4   45000   33   15     21000       98      138   no_min      m  Clerical"
      ]
     },
     "execution_count": 2,
     "metadata": {},
     "output_type": "execute_result"
    }
   ],
   "source": [
    "data = pd.read_excel(\"D:/files/research_activities/ORGANIZED_FILES/safeaipackage/examples/employee.xlsx\")\n",
    "print(\"This dataset has {} rows and {} columns\".format(data.shape[0], data.shape[1]))\n",
    "data.head()"
   ]
  },
  {
   "attachments": {
    "Screenshot%202024-02-18%20142349.png": {
     "image/png": "[encoded data removed]"
    }
   },
   "cell_type": "markdown",
   "id": "3793ae6f",
   "metadata": {},
   "source": [
    "![Screenshot%202024-02-18%20142349.png](attachment:Screenshot%202024-02-18%20142349.png)"
   ]
  },
  {
   "cell_type": "code",
   "execution_count": 3,
   "id": "2676a648",
   "metadata": {},
   "outputs": [
    {
     "data": {
      "text/html": [
       "<div>\n",
       "<style scoped>\n",
       "    .dataframe tbody tr th:only-of-type {\n",
       "        vertical-align: middle;\n",
       "    }\n",
       "\n",
       "    .dataframe tbody tr th {\n",
       "        vertical-align: top;\n",
       "    }\n",
       "\n",
       "    .dataframe thead th {\n",
       "        text-align: right;\n",
       "    }\n",
       "</style>\n",
       "<table border=\"1\" class=\"dataframe\">\n",
       "  <thead>\n",
       "    <tr style=\"text-align: right;\">\n",
       "      <th></th>\n",
       "      <th>salary</th>\n",
       "      <th>age</th>\n",
       "      <th>edu</th>\n",
       "      <th>startsal</th>\n",
       "      <th>jobtime</th>\n",
       "      <th>prevexp</th>\n",
       "      <th>minority</th>\n",
       "      <th>gender</th>\n",
       "      <th>jobcat_Clerical</th>\n",
       "      <th>jobcat_Custodial</th>\n",
       "      <th>jobcat_manager</th>\n",
       "    </tr>\n",
       "  </thead>\n",
       "  <tbody>\n",
       "    <tr>\n",
       "      <th>0</th>\n",
       "      <td>57000</td>\n",
       "      <td>36</td>\n",
       "      <td>15</td>\n",
       "      <td>27000</td>\n",
       "      <td>98</td>\n",
       "      <td>144</td>\n",
       "      <td>0</td>\n",
       "      <td>0</td>\n",
       "      <td>0</td>\n",
       "      <td>0</td>\n",
       "      <td>1</td>\n",
       "    </tr>\n",
       "    <tr>\n",
       "      <th>1</th>\n",
       "      <td>40200</td>\n",
       "      <td>30</td>\n",
       "      <td>16</td>\n",
       "      <td>18750</td>\n",
       "      <td>98</td>\n",
       "      <td>36</td>\n",
       "      <td>0</td>\n",
       "      <td>0</td>\n",
       "      <td>1</td>\n",
       "      <td>0</td>\n",
       "      <td>0</td>\n",
       "    </tr>\n",
       "    <tr>\n",
       "      <th>2</th>\n",
       "      <td>21450</td>\n",
       "      <td>59</td>\n",
       "      <td>12</td>\n",
       "      <td>12000</td>\n",
       "      <td>98</td>\n",
       "      <td>381</td>\n",
       "      <td>0</td>\n",
       "      <td>1</td>\n",
       "      <td>1</td>\n",
       "      <td>0</td>\n",
       "      <td>0</td>\n",
       "    </tr>\n",
       "    <tr>\n",
       "      <th>3</th>\n",
       "      <td>21900</td>\n",
       "      <td>41</td>\n",
       "      <td>8</td>\n",
       "      <td>13200</td>\n",
       "      <td>98</td>\n",
       "      <td>190</td>\n",
       "      <td>0</td>\n",
       "      <td>1</td>\n",
       "      <td>1</td>\n",
       "      <td>0</td>\n",
       "      <td>0</td>\n",
       "    </tr>\n",
       "    <tr>\n",
       "      <th>4</th>\n",
       "      <td>45000</td>\n",
       "      <td>33</td>\n",
       "      <td>15</td>\n",
       "      <td>21000</td>\n",
       "      <td>98</td>\n",
       "      <td>138</td>\n",
       "      <td>0</td>\n",
       "      <td>0</td>\n",
       "      <td>1</td>\n",
       "      <td>0</td>\n",
       "      <td>0</td>\n",
       "    </tr>\n",
       "  </tbody>\n",
       "</table>\n",
       "</div>"
      ],
      "text/plain": [
       "   salary  age  edu  startsal  jobtime  prevexp  minority  gender  \\\n",
       "0   57000   36   15     27000       98      144         0       0   \n",
       "1   40200   30   16     18750       98       36         0       0   \n",
       "2   21450   59   12     12000       98      381         0       1   \n",
       "3   21900   41    8     13200       98      190         0       1   \n",
       "4   45000   33   15     21000       98      138         0       0   \n",
       "\n",
       "   jobcat_Clerical  jobcat_Custodial  jobcat_manager  \n",
       "0                0                 0               1  \n",
       "1                1                 0               0  \n",
       "2                1                 0               0  \n",
       "3                1                 0               0  \n",
       "4                1                 0               0  "
      ]
     },
     "execution_count": 3,
     "metadata": {},
     "output_type": "execute_result"
    }
   ],
   "source": [
    "data[\"gender\"] = np.where(data[\"gender\"]==\"m\", 0, 1)\n",
    "data[\"minority\"] = np.where(data[\"minority\"]==\"no_min\", 0, 1)\n",
    "data = pd.get_dummies(data, columns=[\"jobcat\"])\n",
    "data.head()"
   ]
  },
  {
   "cell_type": "code",
   "execution_count": 4,
   "id": "fc4bb2e3",
   "metadata": {},
   "outputs": [
    {
     "data": {
      "text/html": [
       "<div>\n",
       "<style scoped>\n",
       "    .dataframe tbody tr th:only-of-type {\n",
       "        vertical-align: middle;\n",
       "    }\n",
       "\n",
       "    .dataframe tbody tr th {\n",
       "        vertical-align: top;\n",
       "    }\n",
       "\n",
       "    .dataframe thead th {\n",
       "        text-align: right;\n",
       "    }\n",
       "</style>\n",
       "<table border=\"1\" class=\"dataframe\">\n",
       "  <thead>\n",
       "    <tr style=\"text-align: right;\">\n",
       "      <th></th>\n",
       "      <th>age</th>\n",
       "      <th>edu</th>\n",
       "      <th>jobtime</th>\n",
       "      <th>prevexp</th>\n",
       "      <th>minority</th>\n",
       "      <th>gender</th>\n",
       "      <th>jobcat_Clerical</th>\n",
       "      <th>jobcat_Custodial</th>\n",
       "      <th>jobcat_manager</th>\n",
       "      <th>salary_growth</th>\n",
       "    </tr>\n",
       "  </thead>\n",
       "  <tbody>\n",
       "    <tr>\n",
       "      <th>0</th>\n",
       "      <td>36</td>\n",
       "      <td>15</td>\n",
       "      <td>98</td>\n",
       "      <td>144</td>\n",
       "      <td>0</td>\n",
       "      <td>0</td>\n",
       "      <td>0</td>\n",
       "      <td>0</td>\n",
       "      <td>1</td>\n",
       "      <td>30000</td>\n",
       "    </tr>\n",
       "    <tr>\n",
       "      <th>1</th>\n",
       "      <td>30</td>\n",
       "      <td>16</td>\n",
       "      <td>98</td>\n",
       "      <td>36</td>\n",
       "      <td>0</td>\n",
       "      <td>0</td>\n",
       "      <td>1</td>\n",
       "      <td>0</td>\n",
       "      <td>0</td>\n",
       "      <td>21450</td>\n",
       "    </tr>\n",
       "    <tr>\n",
       "      <th>2</th>\n",
       "      <td>59</td>\n",
       "      <td>12</td>\n",
       "      <td>98</td>\n",
       "      <td>381</td>\n",
       "      <td>0</td>\n",
       "      <td>1</td>\n",
       "      <td>1</td>\n",
       "      <td>0</td>\n",
       "      <td>0</td>\n",
       "      <td>9450</td>\n",
       "    </tr>\n",
       "    <tr>\n",
       "      <th>3</th>\n",
       "      <td>41</td>\n",
       "      <td>8</td>\n",
       "      <td>98</td>\n",
       "      <td>190</td>\n",
       "      <td>0</td>\n",
       "      <td>1</td>\n",
       "      <td>1</td>\n",
       "      <td>0</td>\n",
       "      <td>0</td>\n",
       "      <td>8700</td>\n",
       "    </tr>\n",
       "    <tr>\n",
       "      <th>4</th>\n",
       "      <td>33</td>\n",
       "      <td>15</td>\n",
       "      <td>98</td>\n",
       "      <td>138</td>\n",
       "      <td>0</td>\n",
       "      <td>0</td>\n",
       "      <td>1</td>\n",
       "      <td>0</td>\n",
       "      <td>0</td>\n",
       "      <td>24000</td>\n",
       "    </tr>\n",
       "  </tbody>\n",
       "</table>\n",
       "</div>"
      ],
      "text/plain": [
       "   age  edu  jobtime  prevexp  minority  gender  jobcat_Clerical  \\\n",
       "0   36   15       98      144         0       0                0   \n",
       "1   30   16       98       36         0       0                1   \n",
       "2   59   12       98      381         0       1                1   \n",
       "3   41    8       98      190         0       1                1   \n",
       "4   33   15       98      138         0       0                1   \n",
       "\n",
       "   jobcat_Custodial  jobcat_manager  salary_growth  \n",
       "0                 0               1          30000  \n",
       "1                 0               0          21450  \n",
       "2                 0               0           9450  \n",
       "3                 0               0           8700  \n",
       "4                 0               0          24000  "
      ]
     },
     "execution_count": 4,
     "metadata": {},
     "output_type": "execute_result"
    }
   ],
   "source": [
    "data[\"salary_growth\"] = data[\"salary\"]-data[\"startsal\"]\n",
    "\n",
    "data.drop([\"salary\", \"startsal\"], axis=1, inplace=True)\n",
    "data.head()"
   ]
  },
  {
   "cell_type": "markdown",
   "id": "98b1f217",
   "metadata": {},
   "source": [
    "# Data analysis"
   ]
  },
  {
   "cell_type": "code",
   "execution_count": 5,
   "id": "5416e292",
   "metadata": {},
   "outputs": [
    {
     "data": {
      "text/html": [
       "<div>\n",
       "<style scoped>\n",
       "    .dataframe tbody tr th:only-of-type {\n",
       "        vertical-align: middle;\n",
       "    }\n",
       "\n",
       "    .dataframe tbody tr th {\n",
       "        vertical-align: top;\n",
       "    }\n",
       "\n",
       "    .dataframe thead th {\n",
       "        text-align: right;\n",
       "    }\n",
       "</style>\n",
       "<table border=\"1\" class=\"dataframe\">\n",
       "  <thead>\n",
       "    <tr style=\"text-align: right;\">\n",
       "      <th></th>\n",
       "      <th>age</th>\n",
       "      <th>edu</th>\n",
       "      <th>jobtime</th>\n",
       "      <th>prevexp</th>\n",
       "      <th>minority</th>\n",
       "      <th>gender</th>\n",
       "      <th>jobcat_Clerical</th>\n",
       "      <th>jobcat_Custodial</th>\n",
       "      <th>jobcat_manager</th>\n",
       "      <th>salary_growth</th>\n",
       "    </tr>\n",
       "  </thead>\n",
       "  <tbody>\n",
       "    <tr>\n",
       "      <th>count</th>\n",
       "      <td>473.000000</td>\n",
       "      <td>473.000000</td>\n",
       "      <td>473.000000</td>\n",
       "      <td>473.000000</td>\n",
       "      <td>473.000000</td>\n",
       "      <td>473.000000</td>\n",
       "      <td>473.000000</td>\n",
       "      <td>473.000000</td>\n",
       "      <td>473.000000</td>\n",
       "      <td>473.000000</td>\n",
       "    </tr>\n",
       "    <tr>\n",
       "      <th>mean</th>\n",
       "      <td>31.672304</td>\n",
       "      <td>13.486258</td>\n",
       "      <td>81.141649</td>\n",
       "      <td>95.947146</td>\n",
       "      <td>0.219873</td>\n",
       "      <td>0.456660</td>\n",
       "      <td>0.765328</td>\n",
       "      <td>0.057082</td>\n",
       "      <td>0.177590</td>\n",
       "      <td>17409.196617</td>\n",
       "    </tr>\n",
       "    <tr>\n",
       "      <th>std</th>\n",
       "      <td>11.784093</td>\n",
       "      <td>2.885587</td>\n",
       "      <td>10.047505</td>\n",
       "      <td>104.680038</td>\n",
       "      <td>0.414599</td>\n",
       "      <td>0.498645</td>\n",
       "      <td>0.424243</td>\n",
       "      <td>0.232246</td>\n",
       "      <td>0.382572</td>\n",
       "      <td>10825.353367</td>\n",
       "    </tr>\n",
       "    <tr>\n",
       "      <th>min</th>\n",
       "      <td>17.000000</td>\n",
       "      <td>8.000000</td>\n",
       "      <td>63.000000</td>\n",
       "      <td>0.000000</td>\n",
       "      <td>0.000000</td>\n",
       "      <td>0.000000</td>\n",
       "      <td>0.000000</td>\n",
       "      <td>0.000000</td>\n",
       "      <td>0.000000</td>\n",
       "      <td>5550.000000</td>\n",
       "    </tr>\n",
       "    <tr>\n",
       "      <th>25%</th>\n",
       "      <td>23.000000</td>\n",
       "      <td>12.000000</td>\n",
       "      <td>72.000000</td>\n",
       "      <td>19.000000</td>\n",
       "      <td>0.000000</td>\n",
       "      <td>0.000000</td>\n",
       "      <td>1.000000</td>\n",
       "      <td>0.000000</td>\n",
       "      <td>0.000000</td>\n",
       "      <td>10650.000000</td>\n",
       "    </tr>\n",
       "    <tr>\n",
       "      <th>50%</th>\n",
       "      <td>26.000000</td>\n",
       "      <td>12.000000</td>\n",
       "      <td>81.000000</td>\n",
       "      <td>55.000000</td>\n",
       "      <td>0.000000</td>\n",
       "      <td>0.000000</td>\n",
       "      <td>1.000000</td>\n",
       "      <td>0.000000</td>\n",
       "      <td>0.000000</td>\n",
       "      <td>14250.000000</td>\n",
       "    </tr>\n",
       "    <tr>\n",
       "      <th>75%</th>\n",
       "      <td>40.000000</td>\n",
       "      <td>15.000000</td>\n",
       "      <td>90.000000</td>\n",
       "      <td>139.000000</td>\n",
       "      <td>0.000000</td>\n",
       "      <td>1.000000</td>\n",
       "      <td>1.000000</td>\n",
       "      <td>0.000000</td>\n",
       "      <td>0.000000</td>\n",
       "      <td>20020.000000</td>\n",
       "    </tr>\n",
       "    <tr>\n",
       "      <th>max</th>\n",
       "      <td>59.000000</td>\n",
       "      <td>21.000000</td>\n",
       "      <td>98.000000</td>\n",
       "      <td>476.000000</td>\n",
       "      <td>1.000000</td>\n",
       "      <td>1.000000</td>\n",
       "      <td>1.000000</td>\n",
       "      <td>1.000000</td>\n",
       "      <td>1.000000</td>\n",
       "      <td>76240.000000</td>\n",
       "    </tr>\n",
       "  </tbody>\n",
       "</table>\n",
       "</div>"
      ],
      "text/plain": [
       "              age         edu     jobtime     prevexp    minority      gender  \\\n",
       "count  473.000000  473.000000  473.000000  473.000000  473.000000  473.000000   \n",
       "mean    31.672304   13.486258   81.141649   95.947146    0.219873    0.456660   \n",
       "std     11.784093    2.885587   10.047505  104.680038    0.414599    0.498645   \n",
       "min     17.000000    8.000000   63.000000    0.000000    0.000000    0.000000   \n",
       "25%     23.000000   12.000000   72.000000   19.000000    0.000000    0.000000   \n",
       "50%     26.000000   12.000000   81.000000   55.000000    0.000000    0.000000   \n",
       "75%     40.000000   15.000000   90.000000  139.000000    0.000000    1.000000   \n",
       "max     59.000000   21.000000   98.000000  476.000000    1.000000    1.000000   \n",
       "\n",
       "       jobcat_Clerical  jobcat_Custodial  jobcat_manager  salary_growth  \n",
       "count       473.000000        473.000000      473.000000     473.000000  \n",
       "mean          0.765328          0.057082        0.177590   17409.196617  \n",
       "std           0.424243          0.232246        0.382572   10825.353367  \n",
       "min           0.000000          0.000000        0.000000    5550.000000  \n",
       "25%           1.000000          0.000000        0.000000   10650.000000  \n",
       "50%           1.000000          0.000000        0.000000   14250.000000  \n",
       "75%           1.000000          0.000000        0.000000   20020.000000  \n",
       "max           1.000000          1.000000        1.000000   76240.000000  "
      ]
     },
     "execution_count": 5,
     "metadata": {},
     "output_type": "execute_result"
    }
   ],
   "source": [
    "data.describe()"
   ]
  },
  {
   "cell_type": "markdown",
   "id": "367f6e0b",
   "metadata": {},
   "source": [
    "## Check for missing values"
   ]
  },
  {
   "cell_type": "code",
   "execution_count": 6,
   "id": "4d4efcd1",
   "metadata": {},
   "outputs": [
    {
     "data": {
      "text/plain": [
       "age                 0\n",
       "edu                 0\n",
       "jobtime             0\n",
       "prevexp             0\n",
       "minority            0\n",
       "gender              0\n",
       "jobcat_Clerical     0\n",
       "jobcat_Custodial    0\n",
       "jobcat_manager      0\n",
       "salary_growth       0\n",
       "dtype: int64"
      ]
     },
     "execution_count": 6,
     "metadata": {},
     "output_type": "execute_result"
    }
   ],
   "source": [
    "data.isna().sum()"
   ]
  },
  {
   "cell_type": "markdown",
   "id": "1aaec902",
   "metadata": {},
   "source": [
    "## Distribution of the explanatory variables"
   ]
  },
  {
   "cell_type": "code",
   "execution_count": 9,
   "id": "232e44a2",
   "metadata": {},
   "outputs": [
    {
     "data": {
      "text/plain": [
       "<AxesSubplot: xlabel='age', ylabel='count'>"
      ]
     },
     "execution_count": 9,
     "metadata": {},
     "output_type": "execute_result"
    },
    {
     "data": {
      "image/png": "[encoded data removed]",
      "text/plain": [
       "<Figure size 1080x360 with 1 Axes>"
      ]
     },
     "metadata": {
      "needs_background": "light"
     },
     "output_type": "display_data"
    }
   ],
   "source": [
    "plt.figure(figsize=(15,5))\n",
    "sns.countplot(data[\"age\"])"
   ]
  },
  {
   "cell_type": "code",
   "execution_count": 10,
   "id": "5307c8dc",
   "metadata": {},
   "outputs": [
    {
     "data": {
      "text/plain": [
       "<AxesSubplot: xlabel='edu', ylabel='count'>"
      ]
     },
     "execution_count": 10,
     "metadata": {},
     "output_type": "execute_result"
    },
    {
     "data": {
      "image/png": "[encoded data removed]",
      "text/plain": [
       "<Figure size 1080x360 with 1 Axes>"
      ]
     },
     "metadata": {
      "needs_background": "light"
     },
     "output_type": "display_data"
    }
   ],
   "source": [
    "plt.figure(figsize=(15,5))\n",
    "sns.countplot(data[\"edu\"])"
   ]
  },
  {
   "cell_type": "code",
   "execution_count": 11,
   "id": "fac2f77c",
   "metadata": {},
   "outputs": [
    {
     "data": {
      "text/plain": [
       "<AxesSubplot: xlabel='jobtime', ylabel='count'>"
      ]
     },
     "execution_count": 11,
     "metadata": {},
     "output_type": "execute_result"
    },
    {
     "data": {
      "image/png": "[encoded data removed]",
      "text/plain": [
       "<Figure size 1080x360 with 1 Axes>"
      ]
     },
     "metadata": {
      "needs_background": "light"
     },
     "output_type": "display_data"
    }
   ],
   "source": [
    "plt.figure(figsize=(15,5))\n",
    "sns.countplot(data[\"jobtime\"])"
   ]
  },
  {
   "cell_type": "code",
   "execution_count": 12,
   "id": "9753a264",
   "metadata": {},
   "outputs": [
    {
     "data": {
      "text/plain": [
       "<AxesSubplot: ylabel='prevexp'>"
      ]
     },
     "execution_count": 12,
     "metadata": {},
     "output_type": "execute_result"
    },
    {
     "data": {
      "image/png": "[encoded data removed]",
      "text/plain": [
       "<Figure size 1080x360 with 1 Axes>"
      ]
     },
     "metadata": {
      "needs_background": "light"
     },
     "output_type": "display_data"
    }
   ],
   "source": [
    "plt.figure(figsize=(15,5))\n",
    "sns.lineplot(x=data.index, y=data[\"prevexp\"])"
   ]
  },
  {
   "cell_type": "markdown",
   "id": "fd390c97",
   "metadata": {},
   "source": [
    "## Define X and y for the classification problem. We use 30% of data as the train data for a Random Forest model."
   ]
  },
  {
   "cell_type": "code",
   "execution_count": 13,
   "id": "a7063206",
   "metadata": {},
   "outputs": [
    {
     "name": "stdout",
     "output_type": "stream",
     "text": [
      "(331, 9)\n"
     ]
    }
   ],
   "source": [
    "X = data.drop([\"salary_growth\"], axis=1)\n",
    "y = data[\"salary_growth\"]\n",
    "\n",
    "xtrain, xtest, ytrain, ytest = train_test_split(X, y, test_size=0.3, random_state=1)\n",
    "\n",
    "print(xtrain.shape)"
   ]
  },
  {
   "cell_type": "code",
   "execution_count": 14,
   "id": "3bf73d28",
   "metadata": {},
   "outputs": [],
   "source": [
    "rf_regressor = RandomForestRegressor(random_state=1).fit(xtrain, ytrain)\n",
    "yhat = rf_regressor.predict(xtest)"
   ]
  },
  {
   "cell_type": "markdown",
   "id": "615462d9",
   "metadata": {},
   "source": [
    "# ACCURACY"
   ]
  },
  {
   "cell_type": "markdown",
   "id": "78d2346f",
   "metadata": {},
   "source": [
    "## To check accuracy of the classification model, we can use the rga function defined in the \"check_accuracy\" module of \"safeaipackage\" python package"
   ]
  },
  {
   "cell_type": "code",
   "execution_count": 15,
   "id": "997e7da6",
   "metadata": {},
   "outputs": [
    {
     "data": {
      "text/plain": [
       "0.9149516963330642"
      ]
     },
     "execution_count": 15,
     "metadata": {},
     "output_type": "execute_result"
    }
   ],
   "source": [
    "#ACCURACY\n",
    "rga = check_accuracy.rga(ytest, yhat)\n",
    "rga"
   ]
  },
  {
   "cell_type": "markdown",
   "id": "9a0f15b8",
   "metadata": {},
   "source": [
    "#### The higher RGA value (closer to one) the better concordance between the trained model and the actual values"
   ]
  },
  {
   "cell_type": "markdown",
   "id": "df7be81d",
   "metadata": {},
   "source": [
    "## \"check_accuracy\" module includes the rga_statistic_test function that is an RGA based test for comparing the predictive accuracy of a reduced model with that of a more complex model. In the following cell, we do the test for \"minority\""
   ]
  },
  {
   "cell_type": "code",
   "execution_count": 16,
   "id": "d3073b18",
   "metadata": {},
   "outputs": [
    {
     "data": {
      "text/plain": [
       "0.03637343872427377"
      ]
     },
     "execution_count": 16,
     "metadata": {},
     "output_type": "execute_result"
    }
   ],
   "source": [
    "xtrain_rm = xtrain.drop(\"minority\", axis=1)\n",
    "xtest_rm = xtest.drop(\"minority\", axis=1)\n",
    "model_minority = RandomForestRegressor(random_state=1).fit(xtrain_rm, ytrain)\n",
    "yhat_minority = model_minority.predict(xtest_rm)\n",
    "check_accuracy.rga_statistic_test(ytest, yhat_minority, yhat)"
   ]
  },
  {
   "cell_type": "markdown",
   "id": "c8cf0892",
   "metadata": {},
   "source": [
    "### p_value is smaller than our considered significance level, 5% meaning that the null hypothesis is rejected indicating that the reduced model has almost the same predictive accuracy as the full model."
   ]
  },
  {
   "cell_type": "markdown",
   "id": "2aaa462c",
   "metadata": {},
   "source": [
    "# EXPLAINABILITY"
   ]
  },
  {
   "cell_type": "markdown",
   "id": "af810f01",
   "metadata": {},
   "source": [
    "## To find the contribution of explanatory variables to the output of the model, we can use the rge function defined in the \"check_explainability\" module "
   ]
  },
  {
   "cell_type": "code",
   "execution_count": 17,
   "id": "1411abc2",
   "metadata": {},
   "outputs": [
    {
     "data": {
      "image/png": "[encoded data removed]",
      "text/plain": [
       "<Figure size 720x432 with 1 Axes>"
      ]
     },
     "metadata": {
      "needs_background": "light"
     },
     "output_type": "display_data"
    },
    {
     "data": {
      "text/html": [
       "<div>\n",
       "<style scoped>\n",
       "    .dataframe tbody tr th:only-of-type {\n",
       "        vertical-align: middle;\n",
       "    }\n",
       "\n",
       "    .dataframe tbody tr th {\n",
       "        vertical-align: top;\n",
       "    }\n",
       "\n",
       "    .dataframe thead th {\n",
       "        text-align: right;\n",
       "    }\n",
       "</style>\n",
       "<table border=\"1\" class=\"dataframe\">\n",
       "  <thead>\n",
       "    <tr style=\"text-align: right;\">\n",
       "      <th></th>\n",
       "      <th>RGE</th>\n",
       "    </tr>\n",
       "  </thead>\n",
       "  <tbody>\n",
       "    <tr>\n",
       "      <th>jobtime</th>\n",
       "      <td>0.035521</td>\n",
       "    </tr>\n",
       "    <tr>\n",
       "      <th>edu</th>\n",
       "      <td>0.018036</td>\n",
       "    </tr>\n",
       "    <tr>\n",
       "      <th>age</th>\n",
       "      <td>0.015171</td>\n",
       "    </tr>\n",
       "    <tr>\n",
       "      <th>prevexp</th>\n",
       "      <td>0.013059</td>\n",
       "    </tr>\n",
       "    <tr>\n",
       "      <th>jobcat_manager</th>\n",
       "      <td>0.003906</td>\n",
       "    </tr>\n",
       "    <tr>\n",
       "      <th>minority</th>\n",
       "      <td>0.001639</td>\n",
       "    </tr>\n",
       "    <tr>\n",
       "      <th>gender</th>\n",
       "      <td>0.001571</td>\n",
       "    </tr>\n",
       "    <tr>\n",
       "      <th>jobcat_Clerical</th>\n",
       "      <td>0.000494</td>\n",
       "    </tr>\n",
       "    <tr>\n",
       "      <th>jobcat_Custodial</th>\n",
       "      <td>0.000481</td>\n",
       "    </tr>\n",
       "  </tbody>\n",
       "</table>\n",
       "</div>"
      ],
      "text/plain": [
       "                       RGE\n",
       "jobtime           0.035521\n",
       "edu               0.018036\n",
       "age               0.015171\n",
       "prevexp           0.013059\n",
       "jobcat_manager    0.003906\n",
       "minority          0.001639\n",
       "gender            0.001571\n",
       "jobcat_Clerical   0.000494\n",
       "jobcat_Custodial  0.000481"
      ]
     },
     "execution_count": 17,
     "metadata": {},
     "output_type": "execute_result"
    }
   ],
   "source": [
    "check_explainability.rge(xtrain, xtest, ytrain, ytest, RandomForestRegressor(random_state=1))"
   ]
  },
  {
   "cell_type": "markdown",
   "id": "b49155e6",
   "metadata": {},
   "source": [
    "## \"jobtime\" has the highest contribution with a contribution value equal to 0.035521. This means that adding \"jobtime\" to the model contributes to an increase of 0.035521 in the predictive accuracy."
   ]
  },
  {
   "cell_type": "markdown",
   "id": "3c7c0858",
   "metadata": {},
   "source": [
    "## Here we apply the RGE based statistical test for \"jobtime\". Therefore, this variable is removed from the model to find the yhat_rm for the test function."
   ]
  },
  {
   "cell_type": "markdown",
   "id": "214c9b5c",
   "metadata": {},
   "source": [
    "# RGE test"
   ]
  },
  {
   "cell_type": "code",
   "execution_count": 18,
   "id": "9f2106e7",
   "metadata": {},
   "outputs": [],
   "source": [
    "xtrain_jobtime = xtrain.drop(\"jobtime\", axis=1)\n",
    "xtest_jobtime = xtest.drop(\"jobtime\", axis=1)\n",
    "\n",
    "rf_model_jobtime = RandomForestRegressor(random_state=1).fit(xtrain_jobtime, ytrain)\n",
    "yhat_jobtime = rf_model_jobtime.predict(xtest_jobtime)"
   ]
  },
  {
   "cell_type": "code",
   "execution_count": 19,
   "id": "2671b743",
   "metadata": {},
   "outputs": [
    {
     "data": {
      "text/plain": [
       "1.708275976442496e-08"
      ]
     },
     "execution_count": 19,
     "metadata": {},
     "output_type": "execute_result"
    }
   ],
   "source": [
    "check_explainability.rge_statistic_test(yhat, yhat_jobtime)"
   ]
  },
  {
   "cell_type": "markdown",
   "id": "55a6496e",
   "metadata": {},
   "source": [
    "## The p_value is smaller than 5% so we can reject the null hypothesis indicating the eqaulity of the ranks of predictions of the model including the variable, \"jobtime\" and excluding \"jobtime\". This means that adding jobtime is valuable."
   ]
  },
  {
   "cell_type": "markdown",
   "id": "841a8d90",
   "metadata": {},
   "source": [
    "# ROBUSTNESS"
   ]
  },
  {
   "cell_type": "markdown",
   "id": "e2733f43",
   "metadata": {},
   "source": [
    "## Using the rgr_single function and selecting a variable, we can find the robustness of the model regarding the perturbations of the selected variable."
   ]
  },
  {
   "cell_type": "code",
   "execution_count": 20,
   "id": "4e1770ce",
   "metadata": {},
   "outputs": [
    {
     "data": {
      "text/plain": [
       "0.978690091795611"
      ]
     },
     "execution_count": 20,
     "metadata": {},
     "output_type": "execute_result"
    }
   ],
   "source": [
    "check_robustness.rgr_single(xtrain, xtest, ytrain, ytest, RandomForestRegressor(random_state=1), \"prevexp\", perturbation_percentage=0.25)"
   ]
  },
  {
   "cell_type": "markdown",
   "id": "a4be364d",
   "metadata": {},
   "source": []
  },
  {
   "cell_type": "markdown",
   "id": "0c46719f",
   "metadata": {},
   "source": [
    "## There is also rgr_all which perturbs all the variables simultaneously."
   ]
  },
  {
   "cell_type": "code",
   "execution_count": 21,
   "id": "406680e6",
   "metadata": {},
   "outputs": [
    {
     "data": {
      "text/plain": [
       "0.4697234905773624"
      ]
     },
     "execution_count": 21,
     "metadata": {},
     "output_type": "execute_result"
    }
   ],
   "source": [
    "check_robustness.rgr_all(xtrain, xtest, ytrain, ytest, RandomForestRegressor(random_state=1), perturbation_percentage=0.25)"
   ]
  },
  {
   "cell_type": "markdown",
   "id": "37ae445b",
   "metadata": {},
   "source": []
  },
  {
   "cell_type": "markdown",
   "id": "bd003774",
   "metadata": {},
   "source": [
    "## RGR test"
   ]
  },
  {
   "cell_type": "markdown",
   "id": "2a35cb6e",
   "metadata": {},
   "source": [
    "## To do the RGR based test, we need to have another model to compare the predictions of this model with our base model. For this purpose, in this example, we utilize a  linear regression. Moreover, to do this test, we need to perturb the variable of interest. \"check_robustness\" module provides a function named \"perturb\" that follows the same perturbartion process as the rgr_single and rgr_all functions. Here, we consider \"age\" and apply the test as follows:"
   ]
  },
  {
   "cell_type": "code",
   "execution_count": 24,
   "id": "265aa243",
   "metadata": {},
   "outputs": [],
   "source": [
    "regression_model = LinearRegression().fit(xtrain,ytrain)\n",
    "yhat_reg = regression_model.predict(xtest)\n",
    "\n",
    "# perturb \"age\" then find yhat_pert of the two models\n",
    "perturbed_xtrain = check_robustness.perturb(xtrain, \"age\")\n",
    "# perturbed Random Forest\n",
    "rf_model_pert = RandomForestRegressor(random_state=1).fit(perturbed_xtrain, ytrain)\n",
    "yhat_rf_pert = rf_model_pert.predict(xtest)\n",
    "# perturbed Linear Regression\n",
    "lr_model_pert = LinearRegression().fit(perturbed_xtrain, ytrain)\n",
    "yhat_lr_pert = lr_model_pert.predict(xtest)"
   ]
  },
  {
   "cell_type": "code",
   "execution_count": 25,
   "id": "eb065706",
   "metadata": {},
   "outputs": [
    {
     "data": {
      "text/plain": [
       "0.12770868076878922"
      ]
     },
     "execution_count": 25,
     "metadata": {},
     "output_type": "execute_result"
    }
   ],
   "source": [
    "check_robustness.rgr_statistic_test(yhat, yhat_reg, yhat_rf_pert, yhat_lr_pert)"
   ]
  },
  {
   "cell_type": "markdown",
   "id": "66eb77a3",
   "metadata": {},
   "source": []
  },
  {
   "cell_type": "markdown",
   "id": "93322647",
   "metadata": {},
   "source": [
    "# FAIRNESS"
   ]
  },
  {
   "cell_type": "markdown",
   "id": "52390b77",
   "metadata": {},
   "source": [
    "## Fairness of a model can be measured using the rgf function in the \"check_fairness\" module"
   ]
  },
  {
   "cell_type": "code",
   "execution_count": 25,
   "id": "3893d787",
   "metadata": {},
   "outputs": [
    {
     "data": {
      "text/html": [
       "<div>\n",
       "<style scoped>\n",
       "    .dataframe tbody tr th:only-of-type {\n",
       "        vertical-align: middle;\n",
       "    }\n",
       "\n",
       "    .dataframe tbody tr th {\n",
       "        vertical-align: top;\n",
       "    }\n",
       "\n",
       "    .dataframe thead th {\n",
       "        text-align: right;\n",
       "    }\n",
       "</style>\n",
       "<table border=\"1\" class=\"dataframe\">\n",
       "  <thead>\n",
       "    <tr style=\"text-align: right;\">\n",
       "      <th></th>\n",
       "      <th>RGF</th>\n",
       "    </tr>\n",
       "  </thead>\n",
       "  <tbody>\n",
       "    <tr>\n",
       "      <th>gender</th>\n",
       "      <td>0.998429</td>\n",
       "    </tr>\n",
       "    <tr>\n",
       "      <th>minority</th>\n",
       "      <td>0.998361</td>\n",
       "    </tr>\n",
       "  </tbody>\n",
       "</table>\n",
       "</div>"
      ],
      "text/plain": [
       "               RGF\n",
       "gender    0.998429\n",
       "minority  0.998361"
      ]
     },
     "execution_count": 25,
     "metadata": {},
     "output_type": "execute_result"
    }
   ],
   "source": [
    "check_fairness.rgf(xtrain, xtest, ytrain, ytest, [\"gender\", \"minority\"], RandomForestRegressor(random_state=1))"
   ]
  },
  {
   "cell_type": "markdown",
   "id": "3bc6f0f1",
   "metadata": {},
   "source": [
    "# RGF test"
   ]
  },
  {
   "cell_type": "markdown",
   "id": "24e4d710",
   "metadata": {},
   "source": [
    "## In the following cell, we do the RGF based test for \"gender\""
   ]
  },
  {
   "cell_type": "code",
   "execution_count": 26,
   "id": "9e03c168",
   "metadata": {},
   "outputs": [],
   "source": [
    "xtrain_gender = xtrain.drop(\"gender\", axis=1)\n",
    "xtest_gender = xtest.drop(\"gender\", axis=1)\n",
    "\n",
    "rf_model_gender = RandomForestRegressor(random_state=1).fit(xtrain_gender, ytrain)\n",
    "yhat_gender = rf_model_gender.predict(xtest_gender)"
   ]
  },
  {
   "cell_type": "code",
   "execution_count": 27,
   "id": "e0064d54",
   "metadata": {},
   "outputs": [
    {
     "data": {
      "text/plain": [
       "0.003146313784039523"
      ]
     },
     "execution_count": 27,
     "metadata": {},
     "output_type": "execute_result"
    }
   ],
   "source": [
    "check_fairness.rgf_statistic_test(yhat, yhat_gender)"
   ]
  },
  {
   "cell_type": "markdown",
   "id": "734ac88b",
   "metadata": {},
   "source": []
  },
  {
   "cell_type": "markdown",
   "id": "c9a20e94",
   "metadata": {},
   "source": [
    "# PRIVACY"
   ]
  },
  {
   "cell_type": "markdown",
   "id": "8fb2022b",
   "metadata": {},
   "source": [
    "## Using the rgp function in \"check_privacy\" module, we check privacy of each observation used in the model. Here we find the RGP metric for the 10th and 12th observations:"
   ]
  },
  {
   "cell_type": "code",
   "execution_count": 28,
   "id": "14f21b19",
   "metadata": {},
   "outputs": [
    {
     "data": {
      "text/html": [
       "<div>\n",
       "<style scoped>\n",
       "    .dataframe tbody tr th:only-of-type {\n",
       "        vertical-align: middle;\n",
       "    }\n",
       "\n",
       "    .dataframe tbody tr th {\n",
       "        vertical-align: top;\n",
       "    }\n",
       "\n",
       "    .dataframe thead th {\n",
       "        text-align: right;\n",
       "    }\n",
       "</style>\n",
       "<table border=\"1\" class=\"dataframe\">\n",
       "  <thead>\n",
       "    <tr style=\"text-align: right;\">\n",
       "      <th></th>\n",
       "      <th>RGP</th>\n",
       "    </tr>\n",
       "  </thead>\n",
       "  <tbody>\n",
       "    <tr>\n",
       "      <th>10</th>\n",
       "      <td>0.004057</td>\n",
       "    </tr>\n",
       "    <tr>\n",
       "      <th>12</th>\n",
       "      <td>0.003356</td>\n",
       "    </tr>\n",
       "  </tbody>\n",
       "</table>\n",
       "</div>"
      ],
      "text/plain": [
       "         RGP\n",
       "10  0.004057\n",
       "12  0.003356"
      ]
     },
     "execution_count": 28,
     "metadata": {},
     "output_type": "execute_result"
    }
   ],
   "source": [
    "check_privacy.rgp(xtrain, xtest, ytrain, ytest, [10,12],RandomForestRegressor(random_state=1))"
   ]
  },
  {
   "cell_type": "markdown",
   "id": "8b0050d7",
   "metadata": {},
   "source": [
    "# RGP test"
   ]
  },
  {
   "cell_type": "markdown",
   "id": "d60305ca",
   "metadata": {},
   "source": [
    "## The RGP test can be done for the 12th observation like below:"
   ]
  },
  {
   "cell_type": "code",
   "execution_count": 29,
   "id": "5eb272e7",
   "metadata": {},
   "outputs": [],
   "source": [
    "xtrain_12 = xtrain.drop(12, axis=0)\n",
    "ytrain_12 = ytrain.drop(12, axis=0)\n",
    "\n",
    "rf_model_12 = RandomForestRegressor(random_state=1).fit(xtrain_12, ytrain_12)\n",
    "yhat_12 = rf_model_12.predict(xtest)"
   ]
  },
  {
   "cell_type": "code",
   "execution_count": 30,
   "id": "797a8933",
   "metadata": {},
   "outputs": [
    {
     "data": {
      "text/plain": [
       "1.6581279400400763e-08"
      ]
     },
     "execution_count": 30,
     "metadata": {},
     "output_type": "execute_result"
    }
   ],
   "source": [
    "check_privacy.rgp_statistic_test(yhat, yhat_12)"
   ]
  },
  {
   "cell_type": "markdown",
   "id": "feea6b8f",
   "metadata": {},
   "source": []
  }
 ],
 "metadata": {
  "kernelspec": {
   "display_name": "Python 3",
   "language": "python",
   "name": "python3"
  },
  "language_info": {
   "codemirror_mode": {
    "name": "ipython",
    "version": 3
   },
   "file_extension": ".py",
   "mimetype": "text/x-python",
   "name": "python",
   "nbconvert_exporter": "python",
   "pygments_lexer": "ipython3",
   "version": "3.8.8"
  }
 },
 "nbformat": 4,
 "nbformat_minor": 5
}
