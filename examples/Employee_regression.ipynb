{
 "cells": [
  {
   "cell_type": "markdown",
   "id": "9f245402",
   "metadata": {},
   "source": [
    "# In this notebook, we show a regression example using the employee dataset. In this problem, the target variable is \"salary_growth\" that represents the amount of increase in an employee's salary. The explanatory variables include age, edu, jobtime, prevexp, minority, gender, and jobcat. Definition of these explanatory variables is presented in \n"
   ]
  },
  {
   "cell_type": "code",
   "execution_count": 2,
   "id": "99c9e2c5",
   "metadata": {},
   "outputs": [],
   "source": [
    "import pandas as pd\n",
    "import numpy as np\n",
    "import warnings\n",
    "import scipy\n",
    "import matplotlib.pyplot as plt\n",
    "from safeaipackage import check_accuracy, check_robustness, check_explainability, check_fairness, check_privacy\n",
    "from sklearn.model_selection import train_test_split\n",
    "#from sklearn.neural_network import MLPRegressor\n",
    "from sklearn.ensemble import RandomForestRegressor\n",
    "\n",
    "warnings.filterwarnings('ignore')\n",
    "pd.set_option(\"display.max_rows\", 1000)\n",
    "pd.set_option(\"display.max_columns\", 10000)"
   ]
  },
  {
   "cell_type": "code",
   "execution_count": 3,
   "id": "82b793d3",
   "metadata": {
    "scrolled": true
   },
   "outputs": [
    {
     "name": "stdout",
     "output_type": "stream",
     "text": [
      "This dataset has 473 rows and 9 columns\n"
     ]
    },
    {
     "data": {
      "text/html": [
       "<div>\n",
       "<style scoped>\n",
       "    .dataframe tbody tr th:only-of-type {\n",
       "        vertical-align: middle;\n",
       "    }\n",
       "\n",
       "    .dataframe tbody tr th {\n",
       "        vertical-align: top;\n",
       "    }\n",
       "\n",
       "    .dataframe thead th {\n",
       "        text-align: right;\n",
       "    }\n",
       "</style>\n",
       "<table border=\"1\" class=\"dataframe\">\n",
       "  <thead>\n",
       "    <tr style=\"text-align: right;\">\n",
       "      <th></th>\n",
       "      <th>salary</th>\n",
       "      <th>age</th>\n",
       "      <th>edu</th>\n",
       "      <th>startsal</th>\n",
       "      <th>jobtime</th>\n",
       "      <th>prevexp</th>\n",
       "      <th>minority</th>\n",
       "      <th>gender</th>\n",
       "      <th>jobcat</th>\n",
       "    </tr>\n",
       "  </thead>\n",
       "  <tbody>\n",
       "    <tr>\n",
       "      <th>0</th>\n",
       "      <td>57000</td>\n",
       "      <td>36</td>\n",
       "      <td>15</td>\n",
       "      <td>27000</td>\n",
       "      <td>98</td>\n",
       "      <td>144</td>\n",
       "      <td>no_min</td>\n",
       "      <td>m</td>\n",
       "      <td>manager</td>\n",
       "    </tr>\n",
       "    <tr>\n",
       "      <th>1</th>\n",
       "      <td>40200</td>\n",
       "      <td>30</td>\n",
       "      <td>16</td>\n",
       "      <td>18750</td>\n",
       "      <td>98</td>\n",
       "      <td>36</td>\n",
       "      <td>no_min</td>\n",
       "      <td>m</td>\n",
       "      <td>Clerical</td>\n",
       "    </tr>\n",
       "    <tr>\n",
       "      <th>2</th>\n",
       "      <td>21450</td>\n",
       "      <td>59</td>\n",
       "      <td>12</td>\n",
       "      <td>12000</td>\n",
       "      <td>98</td>\n",
       "      <td>381</td>\n",
       "      <td>no_min</td>\n",
       "      <td>f</td>\n",
       "      <td>Clerical</td>\n",
       "    </tr>\n",
       "    <tr>\n",
       "      <th>3</th>\n",
       "      <td>21900</td>\n",
       "      <td>41</td>\n",
       "      <td>8</td>\n",
       "      <td>13200</td>\n",
       "      <td>98</td>\n",
       "      <td>190</td>\n",
       "      <td>no_min</td>\n",
       "      <td>f</td>\n",
       "      <td>Clerical</td>\n",
       "    </tr>\n",
       "    <tr>\n",
       "      <th>4</th>\n",
       "      <td>45000</td>\n",
       "      <td>33</td>\n",
       "      <td>15</td>\n",
       "      <td>21000</td>\n",
       "      <td>98</td>\n",
       "      <td>138</td>\n",
       "      <td>no_min</td>\n",
       "      <td>m</td>\n",
       "      <td>Clerical</td>\n",
       "    </tr>\n",
       "  </tbody>\n",
       "</table>\n",
       "</div>"
      ],
      "text/plain": [
       "   salary  age  edu  startsal  jobtime  prevexp minority gender    jobcat\n",
       "0   57000   36   15     27000       98      144   no_min      m   manager\n",
       "1   40200   30   16     18750       98       36   no_min      m  Clerical\n",
       "2   21450   59   12     12000       98      381   no_min      f  Clerical\n",
       "3   21900   41    8     13200       98      190   no_min      f  Clerical\n",
       "4   45000   33   15     21000       98      138   no_min      m  Clerical"
      ]
     },
     "execution_count": 3,
     "metadata": {},
     "output_type": "execute_result"
    }
   ],
   "source": [
    "data = pd.read_excel(\"D:/files/research_activities/ORGANIZED_FILES/safeaipackage/examples/employee.xlsx\")\n",
    "print(\"This dataset has {} rows and {} columns\".format(data.shape[0], data.shape[1]))\n",
    "data.head()"
   ]
  },
  {
   "cell_type": "code",
   "execution_count": 4,
   "id": "2676a648",
   "metadata": {},
   "outputs": [
    {
     "data": {
      "text/html": [
       "<div>\n",
       "<style scoped>\n",
       "    .dataframe tbody tr th:only-of-type {\n",
       "        vertical-align: middle;\n",
       "    }\n",
       "\n",
       "    .dataframe tbody tr th {\n",
       "        vertical-align: top;\n",
       "    }\n",
       "\n",
       "    .dataframe thead th {\n",
       "        text-align: right;\n",
       "    }\n",
       "</style>\n",
       "<table border=\"1\" class=\"dataframe\">\n",
       "  <thead>\n",
       "    <tr style=\"text-align: right;\">\n",
       "      <th></th>\n",
       "      <th>salary</th>\n",
       "      <th>age</th>\n",
       "      <th>edu</th>\n",
       "      <th>startsal</th>\n",
       "      <th>jobtime</th>\n",
       "      <th>prevexp</th>\n",
       "      <th>minority</th>\n",
       "      <th>gender</th>\n",
       "      <th>jobcat_Clerical</th>\n",
       "      <th>jobcat_Custodial</th>\n",
       "      <th>jobcat_manager</th>\n",
       "    </tr>\n",
       "  </thead>\n",
       "  <tbody>\n",
       "    <tr>\n",
       "      <th>0</th>\n",
       "      <td>57000</td>\n",
       "      <td>36</td>\n",
       "      <td>15</td>\n",
       "      <td>27000</td>\n",
       "      <td>98</td>\n",
       "      <td>144</td>\n",
       "      <td>0</td>\n",
       "      <td>0</td>\n",
       "      <td>0</td>\n",
       "      <td>0</td>\n",
       "      <td>1</td>\n",
       "    </tr>\n",
       "    <tr>\n",
       "      <th>1</th>\n",
       "      <td>40200</td>\n",
       "      <td>30</td>\n",
       "      <td>16</td>\n",
       "      <td>18750</td>\n",
       "      <td>98</td>\n",
       "      <td>36</td>\n",
       "      <td>0</td>\n",
       "      <td>0</td>\n",
       "      <td>1</td>\n",
       "      <td>0</td>\n",
       "      <td>0</td>\n",
       "    </tr>\n",
       "    <tr>\n",
       "      <th>2</th>\n",
       "      <td>21450</td>\n",
       "      <td>59</td>\n",
       "      <td>12</td>\n",
       "      <td>12000</td>\n",
       "      <td>98</td>\n",
       "      <td>381</td>\n",
       "      <td>0</td>\n",
       "      <td>1</td>\n",
       "      <td>1</td>\n",
       "      <td>0</td>\n",
       "      <td>0</td>\n",
       "    </tr>\n",
       "    <tr>\n",
       "      <th>3</th>\n",
       "      <td>21900</td>\n",
       "      <td>41</td>\n",
       "      <td>8</td>\n",
       "      <td>13200</td>\n",
       "      <td>98</td>\n",
       "      <td>190</td>\n",
       "      <td>0</td>\n",
       "      <td>1</td>\n",
       "      <td>1</td>\n",
       "      <td>0</td>\n",
       "      <td>0</td>\n",
       "    </tr>\n",
       "    <tr>\n",
       "      <th>4</th>\n",
       "      <td>45000</td>\n",
       "      <td>33</td>\n",
       "      <td>15</td>\n",
       "      <td>21000</td>\n",
       "      <td>98</td>\n",
       "      <td>138</td>\n",
       "      <td>0</td>\n",
       "      <td>0</td>\n",
       "      <td>1</td>\n",
       "      <td>0</td>\n",
       "      <td>0</td>\n",
       "    </tr>\n",
       "  </tbody>\n",
       "</table>\n",
       "</div>"
      ],
      "text/plain": [
       "   salary  age  edu  startsal  jobtime  prevexp  minority  gender  \\\n",
       "0   57000   36   15     27000       98      144         0       0   \n",
       "1   40200   30   16     18750       98       36         0       0   \n",
       "2   21450   59   12     12000       98      381         0       1   \n",
       "3   21900   41    8     13200       98      190         0       1   \n",
       "4   45000   33   15     21000       98      138         0       0   \n",
       "\n",
       "   jobcat_Clerical  jobcat_Custodial  jobcat_manager  \n",
       "0                0                 0               1  \n",
       "1                1                 0               0  \n",
       "2                1                 0               0  \n",
       "3                1                 0               0  \n",
       "4                1                 0               0  "
      ]
     },
     "execution_count": 4,
     "metadata": {},
     "output_type": "execute_result"
    }
   ],
   "source": [
    "data[\"gender\"] = np.where(data[\"gender\"]==\"m\", 0, 1)\n",
    "data[\"minority\"] = np.where(data[\"minority\"]==\"no_min\", 0, 1)\n",
    "data = pd.get_dummies(data, columns=[\"jobcat\"])\n",
    "data.head()"
   ]
  },
  {
   "cell_type": "code",
   "execution_count": 5,
   "id": "fc4bb2e3",
   "metadata": {},
   "outputs": [
    {
     "data": {
      "text/html": [
       "<div>\n",
       "<style scoped>\n",
       "    .dataframe tbody tr th:only-of-type {\n",
       "        vertical-align: middle;\n",
       "    }\n",
       "\n",
       "    .dataframe tbody tr th {\n",
       "        vertical-align: top;\n",
       "    }\n",
       "\n",
       "    .dataframe thead th {\n",
       "        text-align: right;\n",
       "    }\n",
       "</style>\n",
       "<table border=\"1\" class=\"dataframe\">\n",
       "  <thead>\n",
       "    <tr style=\"text-align: right;\">\n",
       "      <th></th>\n",
       "      <th>age</th>\n",
       "      <th>edu</th>\n",
       "      <th>jobtime</th>\n",
       "      <th>prevexp</th>\n",
       "      <th>minority</th>\n",
       "      <th>gender</th>\n",
       "      <th>jobcat_Clerical</th>\n",
       "      <th>jobcat_Custodial</th>\n",
       "      <th>jobcat_manager</th>\n",
       "      <th>salary_growth</th>\n",
       "    </tr>\n",
       "  </thead>\n",
       "  <tbody>\n",
       "    <tr>\n",
       "      <th>0</th>\n",
       "      <td>36</td>\n",
       "      <td>15</td>\n",
       "      <td>98</td>\n",
       "      <td>144</td>\n",
       "      <td>0</td>\n",
       "      <td>0</td>\n",
       "      <td>0</td>\n",
       "      <td>0</td>\n",
       "      <td>1</td>\n",
       "      <td>30000</td>\n",
       "    </tr>\n",
       "    <tr>\n",
       "      <th>1</th>\n",
       "      <td>30</td>\n",
       "      <td>16</td>\n",
       "      <td>98</td>\n",
       "      <td>36</td>\n",
       "      <td>0</td>\n",
       "      <td>0</td>\n",
       "      <td>1</td>\n",
       "      <td>0</td>\n",
       "      <td>0</td>\n",
       "      <td>21450</td>\n",
       "    </tr>\n",
       "    <tr>\n",
       "      <th>2</th>\n",
       "      <td>59</td>\n",
       "      <td>12</td>\n",
       "      <td>98</td>\n",
       "      <td>381</td>\n",
       "      <td>0</td>\n",
       "      <td>1</td>\n",
       "      <td>1</td>\n",
       "      <td>0</td>\n",
       "      <td>0</td>\n",
       "      <td>9450</td>\n",
       "    </tr>\n",
       "    <tr>\n",
       "      <th>3</th>\n",
       "      <td>41</td>\n",
       "      <td>8</td>\n",
       "      <td>98</td>\n",
       "      <td>190</td>\n",
       "      <td>0</td>\n",
       "      <td>1</td>\n",
       "      <td>1</td>\n",
       "      <td>0</td>\n",
       "      <td>0</td>\n",
       "      <td>8700</td>\n",
       "    </tr>\n",
       "    <tr>\n",
       "      <th>4</th>\n",
       "      <td>33</td>\n",
       "      <td>15</td>\n",
       "      <td>98</td>\n",
       "      <td>138</td>\n",
       "      <td>0</td>\n",
       "      <td>0</td>\n",
       "      <td>1</td>\n",
       "      <td>0</td>\n",
       "      <td>0</td>\n",
       "      <td>24000</td>\n",
       "    </tr>\n",
       "  </tbody>\n",
       "</table>\n",
       "</div>"
      ],
      "text/plain": [
       "   age  edu  jobtime  prevexp  minority  gender  jobcat_Clerical  \\\n",
       "0   36   15       98      144         0       0                0   \n",
       "1   30   16       98       36         0       0                1   \n",
       "2   59   12       98      381         0       1                1   \n",
       "3   41    8       98      190         0       1                1   \n",
       "4   33   15       98      138         0       0                1   \n",
       "\n",
       "   jobcat_Custodial  jobcat_manager  salary_growth  \n",
       "0                 0               1          30000  \n",
       "1                 0               0          21450  \n",
       "2                 0               0           9450  \n",
       "3                 0               0           8700  \n",
       "4                 0               0          24000  "
      ]
     },
     "execution_count": 5,
     "metadata": {},
     "output_type": "execute_result"
    }
   ],
   "source": [
    "data[\"salary_growth\"] = data[\"salary\"]-data[\"startsal\"]\n",
    "\n",
    "data.drop([\"salary\", \"startsal\"], axis=1, inplace=True)\n",
    "data.head()"
   ]
  },
  {
   "cell_type": "code",
   "execution_count": 6,
   "id": "5416e292",
   "metadata": {},
   "outputs": [
    {
     "data": {
      "text/html": [
       "<div>\n",
       "<style scoped>\n",
       "    .dataframe tbody tr th:only-of-type {\n",
       "        vertical-align: middle;\n",
       "    }\n",
       "\n",
       "    .dataframe tbody tr th {\n",
       "        vertical-align: top;\n",
       "    }\n",
       "\n",
       "    .dataframe thead th {\n",
       "        text-align: right;\n",
       "    }\n",
       "</style>\n",
       "<table border=\"1\" class=\"dataframe\">\n",
       "  <thead>\n",
       "    <tr style=\"text-align: right;\">\n",
       "      <th></th>\n",
       "      <th>age</th>\n",
       "      <th>edu</th>\n",
       "      <th>jobtime</th>\n",
       "      <th>prevexp</th>\n",
       "      <th>minority</th>\n",
       "      <th>gender</th>\n",
       "      <th>jobcat_Clerical</th>\n",
       "      <th>jobcat_Custodial</th>\n",
       "      <th>jobcat_manager</th>\n",
       "      <th>salary_growth</th>\n",
       "    </tr>\n",
       "  </thead>\n",
       "  <tbody>\n",
       "    <tr>\n",
       "      <th>count</th>\n",
       "      <td>473.000000</td>\n",
       "      <td>473.000000</td>\n",
       "      <td>473.000000</td>\n",
       "      <td>473.000000</td>\n",
       "      <td>473.000000</td>\n",
       "      <td>473.000000</td>\n",
       "      <td>473.000000</td>\n",
       "      <td>473.000000</td>\n",
       "      <td>473.000000</td>\n",
       "      <td>473.000000</td>\n",
       "    </tr>\n",
       "    <tr>\n",
       "      <th>mean</th>\n",
       "      <td>31.672304</td>\n",
       "      <td>13.486258</td>\n",
       "      <td>81.141649</td>\n",
       "      <td>95.947146</td>\n",
       "      <td>0.219873</td>\n",
       "      <td>0.456660</td>\n",
       "      <td>0.765328</td>\n",
       "      <td>0.057082</td>\n",
       "      <td>0.177590</td>\n",
       "      <td>17409.196617</td>\n",
       "    </tr>\n",
       "    <tr>\n",
       "      <th>std</th>\n",
       "      <td>11.784093</td>\n",
       "      <td>2.885587</td>\n",
       "      <td>10.047505</td>\n",
       "      <td>104.680038</td>\n",
       "      <td>0.414599</td>\n",
       "      <td>0.498645</td>\n",
       "      <td>0.424243</td>\n",
       "      <td>0.232246</td>\n",
       "      <td>0.382572</td>\n",
       "      <td>10825.353367</td>\n",
       "    </tr>\n",
       "    <tr>\n",
       "      <th>min</th>\n",
       "      <td>17.000000</td>\n",
       "      <td>8.000000</td>\n",
       "      <td>63.000000</td>\n",
       "      <td>0.000000</td>\n",
       "      <td>0.000000</td>\n",
       "      <td>0.000000</td>\n",
       "      <td>0.000000</td>\n",
       "      <td>0.000000</td>\n",
       "      <td>0.000000</td>\n",
       "      <td>5550.000000</td>\n",
       "    </tr>\n",
       "    <tr>\n",
       "      <th>25%</th>\n",
       "      <td>23.000000</td>\n",
       "      <td>12.000000</td>\n",
       "      <td>72.000000</td>\n",
       "      <td>19.000000</td>\n",
       "      <td>0.000000</td>\n",
       "      <td>0.000000</td>\n",
       "      <td>1.000000</td>\n",
       "      <td>0.000000</td>\n",
       "      <td>0.000000</td>\n",
       "      <td>10650.000000</td>\n",
       "    </tr>\n",
       "    <tr>\n",
       "      <th>50%</th>\n",
       "      <td>26.000000</td>\n",
       "      <td>12.000000</td>\n",
       "      <td>81.000000</td>\n",
       "      <td>55.000000</td>\n",
       "      <td>0.000000</td>\n",
       "      <td>0.000000</td>\n",
       "      <td>1.000000</td>\n",
       "      <td>0.000000</td>\n",
       "      <td>0.000000</td>\n",
       "      <td>14250.000000</td>\n",
       "    </tr>\n",
       "    <tr>\n",
       "      <th>75%</th>\n",
       "      <td>40.000000</td>\n",
       "      <td>15.000000</td>\n",
       "      <td>90.000000</td>\n",
       "      <td>139.000000</td>\n",
       "      <td>0.000000</td>\n",
       "      <td>1.000000</td>\n",
       "      <td>1.000000</td>\n",
       "      <td>0.000000</td>\n",
       "      <td>0.000000</td>\n",
       "      <td>20020.000000</td>\n",
       "    </tr>\n",
       "    <tr>\n",
       "      <th>max</th>\n",
       "      <td>59.000000</td>\n",
       "      <td>21.000000</td>\n",
       "      <td>98.000000</td>\n",
       "      <td>476.000000</td>\n",
       "      <td>1.000000</td>\n",
       "      <td>1.000000</td>\n",
       "      <td>1.000000</td>\n",
       "      <td>1.000000</td>\n",
       "      <td>1.000000</td>\n",
       "      <td>76240.000000</td>\n",
       "    </tr>\n",
       "  </tbody>\n",
       "</table>\n",
       "</div>"
      ],
      "text/plain": [
       "              age         edu     jobtime     prevexp    minority      gender  \\\n",
       "count  473.000000  473.000000  473.000000  473.000000  473.000000  473.000000   \n",
       "mean    31.672304   13.486258   81.141649   95.947146    0.219873    0.456660   \n",
       "std     11.784093    2.885587   10.047505  104.680038    0.414599    0.498645   \n",
       "min     17.000000    8.000000   63.000000    0.000000    0.000000    0.000000   \n",
       "25%     23.000000   12.000000   72.000000   19.000000    0.000000    0.000000   \n",
       "50%     26.000000   12.000000   81.000000   55.000000    0.000000    0.000000   \n",
       "75%     40.000000   15.000000   90.000000  139.000000    0.000000    1.000000   \n",
       "max     59.000000   21.000000   98.000000  476.000000    1.000000    1.000000   \n",
       "\n",
       "       jobcat_Clerical  jobcat_Custodial  jobcat_manager  salary_growth  \n",
       "count       473.000000        473.000000      473.000000     473.000000  \n",
       "mean          0.765328          0.057082        0.177590   17409.196617  \n",
       "std           0.424243          0.232246        0.382572   10825.353367  \n",
       "min           0.000000          0.000000        0.000000    5550.000000  \n",
       "25%           1.000000          0.000000        0.000000   10650.000000  \n",
       "50%           1.000000          0.000000        0.000000   14250.000000  \n",
       "75%           1.000000          0.000000        0.000000   20020.000000  \n",
       "max           1.000000          1.000000        1.000000   76240.000000  "
      ]
     },
     "execution_count": 6,
     "metadata": {},
     "output_type": "execute_result"
    }
   ],
   "source": [
    "data.describe()"
   ]
  },
  {
   "cell_type": "code",
   "execution_count": 7,
   "id": "a7063206",
   "metadata": {},
   "outputs": [
    {
     "name": "stdout",
     "output_type": "stream",
     "text": [
      "(331, 9)\n"
     ]
    }
   ],
   "source": [
    "X = data.drop([\"salary_growth\"], axis=1)\n",
    "y = data[\"salary_growth\"]\n",
    "\n",
    "xtrain, xtest, ytrain, ytest = train_test_split(X, y, test_size=0.3, random_state=1)\n",
    "\n",
    "print(xtrain.shape)"
   ]
  },
  {
   "cell_type": "code",
   "execution_count": 8,
   "id": "3bf73d28",
   "metadata": {},
   "outputs": [
    {
     "data": {
      "text/plain": [
       "array([13185.        , 18366.        , 39110.95      , 30780.15      ,\n",
       "       14056.5       , 16368.        , 23531.95      , 13927.8       ,\n",
       "       14695.2       , 22291.75      , 14350.8       , 18466.        ,\n",
       "       45209.4       , 16104.        , 14734.5       , 16983.        ,\n",
       "       16494.        , 14669.1       , 10738.85178571, 16692.6       ,\n",
       "       14919.        , 19221.        , 24371.9       , 18378.9       ,\n",
       "       24007.55      ,  8646.        , 43454.1       , 26784.15      ,\n",
       "       31222.05      , 44060.1       , 16287.        , 17549.1       ,\n",
       "       16040.        ,  9212.7       , 44847.45      , 17719.5       ,\n",
       "        8272.5       , 11083.5       , 41678.05      , 21092.        ,\n",
       "       42934.75      , 34962.75      , 13604.1       , 18536.05      ,\n",
       "       34826.2       , 13237.5       , 15036.        , 13398.        ,\n",
       "       35007.55      , 17022.5       , 23481.15      , 21700.9       ,\n",
       "       14607.        , 14824.05      , 17616.        ,  9653.4       ,\n",
       "       16134.        , 13059.3       , 30044.4       , 23676.        ,\n",
       "       12496.5       ,  8902.5       , 15784.5       , 10366.15178571,\n",
       "       10784.4       , 14655.        , 13690.5       , 15445.5       ,\n",
       "       10669.95178571, 30365.6       , 47616.95      , 12133.5       ,\n",
       "       12999.6       , 14470.5       , 28870.25      , 23383.5       ,\n",
       "       16973.2       , 41383.35      , 14147.7       , 27274.3       ,\n",
       "       19076.        , 10709.2       , 18540.        , 41749.75      ,\n",
       "       15872.5       , 15876.        , 15530.7       , 31024.95      ,\n",
       "       18060.        , 20803.5       , 10669.95178571, 24325.5       ,\n",
       "       10429.5       , 11691.        , 14461.5       , 16895.        ,\n",
       "       12468.        ,  7892.4       ,  8583.6       , 17360.5       ,\n",
       "       17068.5       , 14274.        ,  9268.5       , 12969.9       ,\n",
       "       17901.        , 14392.6       , 16397.35      , 17019.5       ,\n",
       "       21749.3       , 10366.15178571, 15366.        , 10618.5       ,\n",
       "       11793.        , 12725.7       , 13189.5       , 18523.5       ,\n",
       "       11284.5       , 10934.7       , 19696.        , 29084.55      ,\n",
       "        7291.5       ,  7935.        ,  8754.9       , 14454.35      ,\n",
       "        8631.9       , 19131.5       , 27457.7       ,  9664.5       ,\n",
       "       25637.2       , 13275.9       , 14820.9       , 47282.7       ,\n",
       "       33898.        ,  9073.5       , 16528.5       , 11813.1       ,\n",
       "       12646.5       , 13057.5       , 35793.2       , 15985.5       ,\n",
       "       12708.        , 11179.2       ])"
      ]
     },
     "execution_count": 8,
     "metadata": {},
     "output_type": "execute_result"
    }
   ],
   "source": [
    "#ann_full = MLPRegressor(random_state=1).fit(xtrain, ytrain)\n",
    "rf_regressor = RandomForestRegressor(random_state=1).fit(xtrain, ytrain)\n",
    "yhat = rf_regressor.predict(xtest)\n",
    "yhat"
   ]
  },
  {
   "cell_type": "markdown",
   "id": "615462d9",
   "metadata": {},
   "source": [
    "# ACCURACY"
   ]
  },
  {
   "cell_type": "markdown",
   "id": "78d2346f",
   "metadata": {},
   "source": [
    "## To check accuracy of the classification model, we can use the rga function defined in the \"check_accuracy\" module of \"safeaipackage\" python package"
   ]
  },
  {
   "cell_type": "code",
   "execution_count": 8,
   "id": "997e7da6",
   "metadata": {},
   "outputs": [],
   "source": [
    "#ACCURACY\n",
    "#rga = check_accuracy.rga(ytest, yhat)\n",
    "#rga"
   ]
  },
  {
   "cell_type": "code",
   "execution_count": 11,
   "id": "0a82b29e",
   "metadata": {},
   "outputs": [],
   "source": [
    "def rga(y, yhat):\n",
    "    \"\"\"\n",
    "     ### RANK GRADUATION ACCURACY (RGA) MEASURE ###\n",
    "     Function for the RGE measure computation\n",
    "     Inputs: y -> observed target variable values; \n",
    "             yhat -> predictions generated by the applied selected model\n",
    "    \"\"\" \n",
    "    y = pd.DataFrame(y).reset_index(drop=True)\n",
    "    yhat = pd.DataFrame(yhat).reset_index(drop=True)\n",
    "    df = pd.concat([y,yhat], axis=1)\n",
    "    df.columns = [\"y\", \"yhat\"]\n",
    "    ryhat = yhat.rank(method=\"min\")\n",
    "    df[\"ryhat\"] = ryhat\n",
    "    support = df.groupby('ryhat')['y'].mean().reset_index(name='support')\n",
    "    rord = list(range(len(y)))\n",
    "    for jj in range(len(rord)):\n",
    "        for ii in range(len(support)):\n",
    "                if df[\"ryhat\"][jj]== support['ryhat'][ii]:\n",
    "                    rord[jj] = support['support'][ii]\n",
    "    vals = [[i, values] for i, values in enumerate(df[\"yhat\"])]\n",
    "    ranks = [x[0] for x in sorted(vals, key= lambda item: item[1])]\n",
    "    ystar = [rord[i] for i in ranks]\n",
    "    I = list(range(len(y)))\n",
    "    conc = 2*sum([I[i]*ystar[i] for i in range(len(I))])\n",
    "    dec= 2*sum([sorted(df[\"y\"], reverse=True)[i]*I[i] for i in range(len(I))]) \n",
    "    inc = 2*sum([sorted(df[\"y\"])[i]*I[i] for i in range(len(I))]) \n",
    "    RGA=(conc-dec)/(inc-dec)\n",
    "    return RGA "
   ]
  },
  {
   "cell_type": "code",
   "execution_count": 11,
   "id": "7a5bab51",
   "metadata": {},
   "outputs": [
    {
     "data": {
      "text/plain": [
       "0.9149516963330642"
      ]
     },
     "execution_count": 11,
     "metadata": {},
     "output_type": "execute_result"
    }
   ],
   "source": [
    "rga(ytest, yhat)"
   ]
  },
  {
   "cell_type": "markdown",
   "id": "9a0f15b8",
   "metadata": {},
   "source": [
    "#### The higher RGA value (closer to one) the better concordance between the trained model and the actual values"
   ]
  },
  {
   "cell_type": "markdown",
   "id": "df7be81d",
   "metadata": {},
   "source": [
    "## \"check_accuracy\" module includes the rga_statistic_test function that is an RGA based test for comparing the predictive accuracy of a reduced model with that of a more complex model"
   ]
  },
  {
   "cell_type": "code",
   "execution_count": 11,
   "id": "7d4064d1",
   "metadata": {},
   "outputs": [],
   "source": [
    "#rga_pvalues = []\n",
    "#for i in xtrain.columns:\n",
    "#    xtrain_rm = xtrain.drop(i, axis=1)\n",
    "#    xtest_rm = xtest.drop(i, axis=1)\n",
    "#    model_rm = rf_model_full.fit(xtrain_rm, ytrain)\n",
    "#    yhat_rm = model_rm.predict(xtest_rm)\n",
    "#    rga_pvalues.append(check_accuracy.rga_statistic_test(ytest, yhat_rm, yhat))\n",
    "#print(pd.DataFrame(rga_pvalues, index=xtest.columns, columns=[\"P_value\"]))"
   ]
  },
  {
   "cell_type": "code",
   "execution_count": 12,
   "id": "91481d4d",
   "metadata": {},
   "outputs": [],
   "source": [
    "def _delta_function(data, func):\n",
    "        result = (func(data.iloc[:,0], data.iloc[:,2]))-(func(data.iloc[:,0], data.iloc[:,1]))\n",
    "        return result"
   ]
  },
  {
   "cell_type": "code",
   "execution_count": 13,
   "id": "1e5e810e",
   "metadata": {},
   "outputs": [],
   "source": [
    "def rga_statistic_test(y, yhat_rm, yhat_cm):\n",
    "        \"\"\"\n",
    "        RGA based test for comparing the predictive accuracy of a reduced model with that of a more complex model\n",
    "        \"\"\"\n",
    "        y = pd.DataFrame(y).reset_index(drop=True)\n",
    "        yhat_rm = pd.DataFrame(yhat_rm).reset_index(drop=True)\n",
    "        yhat_cm = pd.DataFrame(yhat_cm).reset_index(drop=True)\n",
    "        jk_mat = pd.concat([y,yhat_rm, yhat_cm], axis=1)\n",
    "        jk_mat.columns = [\"y\", \"yhat_rm\", \"yhat_cm\"]\n",
    "        n = len(jk_mat)\n",
    "        index = np.arange(n)\n",
    "        jk_results = []\n",
    "        for i in range(n):\n",
    "            jk_sample = jk_mat.drop(labels= i)\n",
    "            jk_sample.reset_index(drop=True, inplace=True)\n",
    "            jk_statistic = _delta_function(jk_sample, rga)\n",
    "            jk_results.append(jk_statistic)\n",
    "        se = np.sqrt(((n-1)/n)*(sum([(x-np.mean(jk_results))**2 for x in jk_results])))\n",
    "        z = (rga(y,yhat_cm)-rga(y,yhat_rm))/se\n",
    "        p_value = 2*scipy.stats.norm.cdf(-abs(z))\n",
    "        return p_value"
   ]
  },
  {
   "cell_type": "code",
   "execution_count": 14,
   "id": "d3073b18",
   "metadata": {},
   "outputs": [
    {
     "data": {
      "text/plain": [
       "0.03637343872427377"
      ]
     },
     "execution_count": 14,
     "metadata": {},
     "output_type": "execute_result"
    }
   ],
   "source": [
    "xtrain_rm = xtrain.drop(\"minority\", axis=1)\n",
    "xtest_rm = xtest.drop(\"minority\", axis=1)\n",
    "model_rm = RandomForestRegressor(random_state=1).fit(xtrain_rm, ytrain)\n",
    "yhat_rm = model_rm.predict(xtest_rm)\n",
    "rga_statistic_test(ytest, yhat_rm, yhat)"
   ]
  },
  {
   "cell_type": "code",
   "execution_count": 17,
   "id": "9e5c5868",
   "metadata": {},
   "outputs": [
    {
     "ename": "KeyboardInterrupt",
     "evalue": "",
     "output_type": "error",
     "traceback": [
      "\u001b[1;31m---------------------------------------------------------------------------\u001b[0m",
      "\u001b[1;31mKeyboardInterrupt\u001b[0m                         Traceback (most recent call last)",
      "\u001b[1;32m<ipython-input-17-6948ea715e57>\u001b[0m in \u001b[0;36m<module>\u001b[1;34m\u001b[0m\n\u001b[0;32m      5\u001b[0m     \u001b[0mmodel_rm\u001b[0m \u001b[1;33m=\u001b[0m \u001b[0mRandomForestRegressor\u001b[0m\u001b[1;33m(\u001b[0m\u001b[0mrandom_state\u001b[0m\u001b[1;33m=\u001b[0m\u001b[1;36m1\u001b[0m\u001b[1;33m)\u001b[0m\u001b[1;33m.\u001b[0m\u001b[0mfit\u001b[0m\u001b[1;33m(\u001b[0m\u001b[0mxtrain_rm\u001b[0m\u001b[1;33m,\u001b[0m \u001b[0mytrain\u001b[0m\u001b[1;33m)\u001b[0m\u001b[1;33m\u001b[0m\u001b[1;33m\u001b[0m\u001b[0m\n\u001b[0;32m      6\u001b[0m     \u001b[0myhat_rm\u001b[0m \u001b[1;33m=\u001b[0m \u001b[0mmodel_rm\u001b[0m\u001b[1;33m.\u001b[0m\u001b[0mpredict\u001b[0m\u001b[1;33m(\u001b[0m\u001b[0mxtest_rm\u001b[0m\u001b[1;33m)\u001b[0m\u001b[1;33m\u001b[0m\u001b[1;33m\u001b[0m\u001b[0m\n\u001b[1;32m----> 7\u001b[1;33m     \u001b[0mrga_pvalues\u001b[0m\u001b[1;33m.\u001b[0m\u001b[0mappend\u001b[0m\u001b[1;33m(\u001b[0m\u001b[0mrga_statistic_test\u001b[0m\u001b[1;33m(\u001b[0m\u001b[0mytest\u001b[0m\u001b[1;33m,\u001b[0m \u001b[0myhat_rm\u001b[0m\u001b[1;33m,\u001b[0m \u001b[0myhat\u001b[0m\u001b[1;33m)\u001b[0m\u001b[1;33m)\u001b[0m\u001b[1;33m\u001b[0m\u001b[1;33m\u001b[0m\u001b[0m\n\u001b[0m\u001b[0;32m      8\u001b[0m \u001b[0mprint\u001b[0m\u001b[1;33m(\u001b[0m\u001b[0mpd\u001b[0m\u001b[1;33m.\u001b[0m\u001b[0mDataFrame\u001b[0m\u001b[1;33m(\u001b[0m\u001b[0mrga_pvalues\u001b[0m\u001b[1;33m,\u001b[0m \u001b[0mindex\u001b[0m\u001b[1;33m=\u001b[0m\u001b[0mxtest\u001b[0m\u001b[1;33m.\u001b[0m\u001b[0mcolumns\u001b[0m\u001b[1;33m,\u001b[0m \u001b[0mcolumns\u001b[0m\u001b[1;33m=\u001b[0m\u001b[1;33m[\u001b[0m\u001b[1;34m\"P_value\"\u001b[0m\u001b[1;33m]\u001b[0m\u001b[1;33m)\u001b[0m\u001b[1;33m)\u001b[0m\u001b[1;33m\u001b[0m\u001b[1;33m\u001b[0m\u001b[0m\n",
      "\u001b[1;32m<ipython-input-16-f684c754cd1b>\u001b[0m in \u001b[0;36mrga_statistic_test\u001b[1;34m(y, yhat_rm, yhat_cm)\u001b[0m\n\u001b[0;32m     14\u001b[0m             \u001b[0mjk_sample\u001b[0m \u001b[1;33m=\u001b[0m \u001b[0mjk_mat\u001b[0m\u001b[1;33m.\u001b[0m\u001b[0mdrop\u001b[0m\u001b[1;33m(\u001b[0m\u001b[0mlabels\u001b[0m\u001b[1;33m=\u001b[0m \u001b[0mi\u001b[0m\u001b[1;33m)\u001b[0m\u001b[1;33m\u001b[0m\u001b[1;33m\u001b[0m\u001b[0m\n\u001b[0;32m     15\u001b[0m             \u001b[0mjk_sample\u001b[0m\u001b[1;33m.\u001b[0m\u001b[0mreset_index\u001b[0m\u001b[1;33m(\u001b[0m\u001b[0mdrop\u001b[0m\u001b[1;33m=\u001b[0m\u001b[1;32mTrue\u001b[0m\u001b[1;33m,\u001b[0m \u001b[0minplace\u001b[0m\u001b[1;33m=\u001b[0m\u001b[1;32mTrue\u001b[0m\u001b[1;33m)\u001b[0m\u001b[1;33m\u001b[0m\u001b[1;33m\u001b[0m\u001b[0m\n\u001b[1;32m---> 16\u001b[1;33m             \u001b[0mjk_statistic\u001b[0m \u001b[1;33m=\u001b[0m \u001b[0m_delta_function\u001b[0m\u001b[1;33m(\u001b[0m\u001b[0mjk_sample\u001b[0m\u001b[1;33m,\u001b[0m \u001b[0mrga\u001b[0m\u001b[1;33m)\u001b[0m\u001b[1;33m\u001b[0m\u001b[1;33m\u001b[0m\u001b[0m\n\u001b[0m\u001b[0;32m     17\u001b[0m             \u001b[0mjk_results\u001b[0m\u001b[1;33m.\u001b[0m\u001b[0mappend\u001b[0m\u001b[1;33m(\u001b[0m\u001b[0mjk_statistic\u001b[0m\u001b[1;33m)\u001b[0m\u001b[1;33m\u001b[0m\u001b[1;33m\u001b[0m\u001b[0m\n\u001b[0;32m     18\u001b[0m         \u001b[0mse\u001b[0m \u001b[1;33m=\u001b[0m \u001b[0mnp\u001b[0m\u001b[1;33m.\u001b[0m\u001b[0msqrt\u001b[0m\u001b[1;33m(\u001b[0m\u001b[1;33m(\u001b[0m\u001b[1;33m(\u001b[0m\u001b[0mn\u001b[0m\u001b[1;33m-\u001b[0m\u001b[1;36m1\u001b[0m\u001b[1;33m)\u001b[0m\u001b[1;33m/\u001b[0m\u001b[0mn\u001b[0m\u001b[1;33m)\u001b[0m\u001b[1;33m*\u001b[0m\u001b[1;33m(\u001b[0m\u001b[0msum\u001b[0m\u001b[1;33m(\u001b[0m\u001b[1;33m[\u001b[0m\u001b[1;33m(\u001b[0m\u001b[0mx\u001b[0m\u001b[1;33m-\u001b[0m\u001b[0mnp\u001b[0m\u001b[1;33m.\u001b[0m\u001b[0mmean\u001b[0m\u001b[1;33m(\u001b[0m\u001b[0mjk_results\u001b[0m\u001b[1;33m)\u001b[0m\u001b[1;33m)\u001b[0m\u001b[1;33m**\u001b[0m\u001b[1;36m2\u001b[0m \u001b[1;32mfor\u001b[0m \u001b[0mx\u001b[0m \u001b[1;32min\u001b[0m \u001b[0mjk_results\u001b[0m\u001b[1;33m]\u001b[0m\u001b[1;33m)\u001b[0m\u001b[1;33m)\u001b[0m\u001b[1;33m)\u001b[0m\u001b[1;33m\u001b[0m\u001b[1;33m\u001b[0m\u001b[0m\n",
      "\u001b[1;32m<ipython-input-15-a0775554d604>\u001b[0m in \u001b[0;36m_delta_function\u001b[1;34m(data, func)\u001b[0m\n\u001b[0;32m      1\u001b[0m \u001b[1;32mdef\u001b[0m \u001b[0m_delta_function\u001b[0m\u001b[1;33m(\u001b[0m\u001b[0mdata\u001b[0m\u001b[1;33m,\u001b[0m \u001b[0mfunc\u001b[0m\u001b[1;33m)\u001b[0m\u001b[1;33m:\u001b[0m\u001b[1;33m\u001b[0m\u001b[1;33m\u001b[0m\u001b[0m\n\u001b[1;32m----> 2\u001b[1;33m         \u001b[0mresult\u001b[0m \u001b[1;33m=\u001b[0m \u001b[1;33m(\u001b[0m\u001b[0mfunc\u001b[0m\u001b[1;33m(\u001b[0m\u001b[0mdata\u001b[0m\u001b[1;33m.\u001b[0m\u001b[0miloc\u001b[0m\u001b[1;33m[\u001b[0m\u001b[1;33m:\u001b[0m\u001b[1;33m,\u001b[0m\u001b[1;36m0\u001b[0m\u001b[1;33m]\u001b[0m\u001b[1;33m,\u001b[0m \u001b[0mdata\u001b[0m\u001b[1;33m.\u001b[0m\u001b[0miloc\u001b[0m\u001b[1;33m[\u001b[0m\u001b[1;33m:\u001b[0m\u001b[1;33m,\u001b[0m\u001b[1;36m2\u001b[0m\u001b[1;33m]\u001b[0m\u001b[1;33m)\u001b[0m\u001b[1;33m)\u001b[0m\u001b[1;33m-\u001b[0m\u001b[1;33m(\u001b[0m\u001b[0mfunc\u001b[0m\u001b[1;33m(\u001b[0m\u001b[0mdata\u001b[0m\u001b[1;33m.\u001b[0m\u001b[0miloc\u001b[0m\u001b[1;33m[\u001b[0m\u001b[1;33m:\u001b[0m\u001b[1;33m,\u001b[0m\u001b[1;36m0\u001b[0m\u001b[1;33m]\u001b[0m\u001b[1;33m,\u001b[0m \u001b[0mdata\u001b[0m\u001b[1;33m.\u001b[0m\u001b[0miloc\u001b[0m\u001b[1;33m[\u001b[0m\u001b[1;33m:\u001b[0m\u001b[1;33m,\u001b[0m\u001b[1;36m1\u001b[0m\u001b[1;33m]\u001b[0m\u001b[1;33m)\u001b[0m\u001b[1;33m)\u001b[0m\u001b[1;33m\u001b[0m\u001b[1;33m\u001b[0m\u001b[0m\n\u001b[0m\u001b[0;32m      3\u001b[0m         \u001b[1;32mreturn\u001b[0m \u001b[0mresult\u001b[0m\u001b[1;33m\u001b[0m\u001b[1;33m\u001b[0m\u001b[0m\n",
      "\u001b[1;32m<ipython-input-13-94ac4b70ca5d>\u001b[0m in \u001b[0;36mrga\u001b[1;34m(y, yhat)\u001b[0m\n\u001b[0;32m     16\u001b[0m     \u001b[1;32mfor\u001b[0m \u001b[0mjj\u001b[0m \u001b[1;32min\u001b[0m \u001b[0mrange\u001b[0m\u001b[1;33m(\u001b[0m\u001b[0mlen\u001b[0m\u001b[1;33m(\u001b[0m\u001b[0mrord\u001b[0m\u001b[1;33m)\u001b[0m\u001b[1;33m)\u001b[0m\u001b[1;33m:\u001b[0m\u001b[1;33m\u001b[0m\u001b[1;33m\u001b[0m\u001b[0m\n\u001b[0;32m     17\u001b[0m         \u001b[1;32mfor\u001b[0m \u001b[0mii\u001b[0m \u001b[1;32min\u001b[0m \u001b[0mrange\u001b[0m\u001b[1;33m(\u001b[0m\u001b[0mlen\u001b[0m\u001b[1;33m(\u001b[0m\u001b[0msupport\u001b[0m\u001b[1;33m)\u001b[0m\u001b[1;33m)\u001b[0m\u001b[1;33m:\u001b[0m\u001b[1;33m\u001b[0m\u001b[1;33m\u001b[0m\u001b[0m\n\u001b[1;32m---> 18\u001b[1;33m                 \u001b[1;32mif\u001b[0m \u001b[0mdf\u001b[0m\u001b[1;33m[\u001b[0m\u001b[1;34m\"ryhat\"\u001b[0m\u001b[1;33m]\u001b[0m\u001b[1;33m[\u001b[0m\u001b[0mjj\u001b[0m\u001b[1;33m]\u001b[0m\u001b[1;33m==\u001b[0m \u001b[0msupport\u001b[0m\u001b[1;33m[\u001b[0m\u001b[1;34m'ryhat'\u001b[0m\u001b[1;33m]\u001b[0m\u001b[1;33m[\u001b[0m\u001b[0mii\u001b[0m\u001b[1;33m]\u001b[0m\u001b[1;33m:\u001b[0m\u001b[1;33m\u001b[0m\u001b[1;33m\u001b[0m\u001b[0m\n\u001b[0m\u001b[0;32m     19\u001b[0m                     \u001b[0mrord\u001b[0m\u001b[1;33m[\u001b[0m\u001b[0mjj\u001b[0m\u001b[1;33m]\u001b[0m \u001b[1;33m=\u001b[0m \u001b[0msupport\u001b[0m\u001b[1;33m[\u001b[0m\u001b[1;34m'support'\u001b[0m\u001b[1;33m]\u001b[0m\u001b[1;33m[\u001b[0m\u001b[0mii\u001b[0m\u001b[1;33m]\u001b[0m\u001b[1;33m\u001b[0m\u001b[1;33m\u001b[0m\u001b[0m\n\u001b[0;32m     20\u001b[0m     \u001b[0mvals\u001b[0m \u001b[1;33m=\u001b[0m \u001b[1;33m[\u001b[0m\u001b[1;33m[\u001b[0m\u001b[0mi\u001b[0m\u001b[1;33m,\u001b[0m \u001b[0mvalues\u001b[0m\u001b[1;33m]\u001b[0m \u001b[1;32mfor\u001b[0m \u001b[0mi\u001b[0m\u001b[1;33m,\u001b[0m \u001b[0mvalues\u001b[0m \u001b[1;32min\u001b[0m \u001b[0menumerate\u001b[0m\u001b[1;33m(\u001b[0m\u001b[0mdf\u001b[0m\u001b[1;33m[\u001b[0m\u001b[1;34m\"yhat\"\u001b[0m\u001b[1;33m]\u001b[0m\u001b[1;33m)\u001b[0m\u001b[1;33m]\u001b[0m\u001b[1;33m\u001b[0m\u001b[1;33m\u001b[0m\u001b[0m\n",
      "\u001b[1;32m~\\anaconda3\\lib\\site-packages\\pandas\\core\\frame.py\u001b[0m in \u001b[0;36m__getitem__\u001b[1;34m(self, key)\u001b[0m\n\u001b[0;32m   3469\u001b[0m             \u001b[1;31m# is_iterator to exclude generator e.g. test_getitem_listlike\u001b[0m\u001b[1;33m\u001b[0m\u001b[1;33m\u001b[0m\u001b[1;33m\u001b[0m\u001b[0m\n\u001b[0;32m   3470\u001b[0m             \u001b[1;31m# shortcut if the key is in columns\u001b[0m\u001b[1;33m\u001b[0m\u001b[1;33m\u001b[0m\u001b[1;33m\u001b[0m\u001b[0m\n\u001b[1;32m-> 3471\u001b[1;33m             \u001b[1;32mif\u001b[0m \u001b[0mself\u001b[0m\u001b[1;33m.\u001b[0m\u001b[0mcolumns\u001b[0m\u001b[1;33m.\u001b[0m\u001b[0mis_unique\u001b[0m \u001b[1;32mand\u001b[0m \u001b[0mkey\u001b[0m \u001b[1;32min\u001b[0m \u001b[0mself\u001b[0m\u001b[1;33m.\u001b[0m\u001b[0mcolumns\u001b[0m\u001b[1;33m:\u001b[0m\u001b[1;33m\u001b[0m\u001b[1;33m\u001b[0m\u001b[0m\n\u001b[0m\u001b[0;32m   3472\u001b[0m                 \u001b[1;32mif\u001b[0m \u001b[0misinstance\u001b[0m\u001b[1;33m(\u001b[0m\u001b[0mself\u001b[0m\u001b[1;33m.\u001b[0m\u001b[0mcolumns\u001b[0m\u001b[1;33m,\u001b[0m \u001b[0mMultiIndex\u001b[0m\u001b[1;33m)\u001b[0m\u001b[1;33m:\u001b[0m\u001b[1;33m\u001b[0m\u001b[1;33m\u001b[0m\u001b[0m\n\u001b[0;32m   3473\u001b[0m                     \u001b[1;32mreturn\u001b[0m \u001b[0mself\u001b[0m\u001b[1;33m.\u001b[0m\u001b[0m_getitem_multilevel\u001b[0m\u001b[1;33m(\u001b[0m\u001b[0mkey\u001b[0m\u001b[1;33m)\u001b[0m\u001b[1;33m\u001b[0m\u001b[1;33m\u001b[0m\u001b[0m\n",
      "\u001b[1;31mKeyboardInterrupt\u001b[0m: "
     ]
    }
   ],
   "source": [
    "rga_pvalues = []\n",
    "for i in xtrain.columns:\n",
    "    xtrain_rm = xtrain.drop(i, axis=1)\n",
    "    xtest_rm = xtest.drop(i, axis=1)\n",
    "    model_rm = RandomForestRegressor(random_state=1).fit(xtrain_rm, ytrain)\n",
    "    yhat_rm = model_rm.predict(xtest_rm)\n",
    "    rga_pvalues.append(rga_statistic_test(ytest, yhat_rm, yhat))\n",
    "print(pd.DataFrame(rga_pvalues, index=xtest.columns, columns=[\"P_value\"]))"
   ]
  },
  {
   "cell_type": "markdown",
   "id": "2aaa462c",
   "metadata": {},
   "source": [
    "# EXPLAINABILITY"
   ]
  },
  {
   "cell_type": "markdown",
   "id": "af810f01",
   "metadata": {},
   "source": [
    "# To find the contribution of explanatory variables to the output of the model, we can use the rge function defined in the \"check_explainability\" module of \"safeaipackage\" python package"
   ]
  },
  {
   "cell_type": "code",
   "execution_count": 16,
   "id": "1411abc2",
   "metadata": {},
   "outputs": [],
   "source": [
    "#check_explainability.rge(xtrain, xtest, ytrain, ytest, rf_model_full)"
   ]
  },
  {
   "cell_type": "code",
   "execution_count": 28,
   "id": "0d8b8fc8",
   "metadata": {},
   "outputs": [],
   "source": [
    "def rge(xtrain, xtest, ytrain, ytest, model):\n",
    "    \"\"\"\n",
    "     ### RANK GRADUATION EXPLAINABILITY (RGE) MEASURE ###\n",
    "     Function for the RGE measure computation\n",
    "     Inputs: xtrain, xtest, ytrain, ytest -> the train and test data selected for training and testing the model; \n",
    "             model -> a classification or regression model. For example RandomForestClassifier() in ensemble module of sklearn.\n",
    "    \"\"\"    \n",
    "    xtrain = pd.DataFrame(xtrain).reset_index(drop=True)\n",
    "    xtest = pd.DataFrame(xtest).reset_index(drop=True)\n",
    "    ytrain = pd.DataFrame(ytrain).reset_index(drop=True)\n",
    "    ytest = pd.DataFrame(ytest).reset_index(drop=True)\n",
    "    rge_list = []\n",
    "    model_full = model.fit(xtrain, ytrain)\n",
    "    yhat = model_full.predict(xtest)\n",
    "    for i in xtrain.columns:\n",
    "         xtrain_rm = xtrain.drop(i, axis=1)\n",
    "         xtest_rm = xtest.drop(i, axis=1)\n",
    "         model_rm = model.fit(xtrain_rm, ytrain)\n",
    "         yhat_rm = model_rm.predict(xtest_rm)\n",
    "         rge_list.append(1-(rga(yhat, yhat_rm)))\n",
    "    rge_df = pd.DataFrame(rge_list, index=xtest.columns, columns=[\"RGE\"]).sort_values(by=\"RGE\", ascending=False)\n",
    "    plt.figure(figsize=(10, 6))\n",
    "    plt.barh(rge_df.index, rge_df[\"RGE\"])\n",
    "    plt.xlabel(\"RGE (Feature Importance)\")\n",
    "    plt.ylabel(\"Feature\")\n",
    "    plt.title(\"RGE\")\n",
    "    plt.show()\n",
    "    return rge_df"
   ]
  },
  {
   "cell_type": "code",
   "execution_count": 30,
   "id": "8f894bcb",
   "metadata": {},
   "outputs": [
    {
     "data": {
      "image/png": "[encoded data removed]",
      "text/plain": [
       "<Figure size 720x432 with 1 Axes>"
      ]
     },
     "metadata": {
      "needs_background": "light"
     },
     "output_type": "display_data"
    },
    {
     "name": "stdout",
     "output_type": "stream",
     "text": [
      "                       RGE\n",
      "jobtime           0.035521\n",
      "edu               0.018036\n",
      "age               0.015171\n",
      "prevexp           0.013059\n",
      "jobcat_manager    0.003906\n",
      "minority          0.001639\n",
      "gender            0.001571\n",
      "jobcat_Clerical   0.000494\n",
      "jobcat_Custodial  0.000481\n"
     ]
    }
   ],
   "source": [
    "print(rge(xtrain, xtest, ytrain, ytest, RandomForestRegressor(random_state=1)))"
   ]
  },
  {
   "cell_type": "markdown",
   "id": "214c9b5c",
   "metadata": {},
   "source": [
    "# RGE test"
   ]
  },
  {
   "cell_type": "code",
   "execution_count": 44,
   "id": "9f2106e7",
   "metadata": {},
   "outputs": [],
   "source": [
    "xtrain_jobtime = xtrain.drop(\"jobtime\", axis=1)\n",
    "xtest_jobtime = xtest.drop(\"jobtime\", axis=1)\n",
    "\n",
    "rf_model_jobtime = RandomForestRegressor(random_state=1).fit(xtrain_jobtime, ytrain)\n",
    "yhat_jobtime = rf_model_jobtime.predict(xtest_jobtime)"
   ]
  },
  {
   "cell_type": "code",
   "execution_count": 33,
   "id": "5bb5198a",
   "metadata": {},
   "outputs": [],
   "source": [
    "def rge_num(yhat, yhat_xk):\n",
    "    yhat = pd.DataFrame(yhat).reset_index(drop=True)\n",
    "    yhat_xk = pd.DataFrame(yhat_xk).reset_index(drop=True)\n",
    "    df = pd.concat([yhat,yhat_xk], axis=1)\n",
    "    df.columns = [\"yhat\", \"yhat_xk\"]\n",
    "    ryhat_xk = yhat_xk.rank(method=\"min\")\n",
    "    df[\"ryhat_xk\"] = ryhat_xk\n",
    "    support = df.groupby('ryhat_xk')['yhat'].mean().reset_index(name='support')\n",
    "    rord = list(range(len(yhat)))\n",
    "    for jj in range(len(rord)):\n",
    "        for ii in range(len(support)):\n",
    "                if df[\"ryhat_xk\"][jj]== support['ryhat_xk'][ii]:\n",
    "                    rord[jj] = support['support'][ii]\n",
    "    vals = [[i, values] for i, values in enumerate(df[\"yhat_xk\"])]\n",
    "    ranks = [x[0] for x in sorted(vals, key= lambda item: item[1])]\n",
    "    ystar = [rord[i] for i in ranks]\n",
    "    I = list(range(len(yhat)))\n",
    "    conc = 2*sum([I[i]*ystar[i] for i in range(len(I))])\n",
    "    dec= 2*sum([sorted(df[\"yhat\"], reverse=True)[i]*I[i] for i in range(len(I))]) \n",
    "    inc = 2*sum([sorted(df[\"yhat\"])[i]*I[i] for i in range(len(I))]) \n",
    "    RGE_num=(conc-dec)\n",
    "    return RGE_num "
   ]
  },
  {
   "cell_type": "code",
   "execution_count": 34,
   "id": "dd6d8c3b",
   "metadata": {},
   "outputs": [],
   "source": [
    "def rge_den(yhat):\n",
    "    yhat = pd.DataFrame(yhat)\n",
    "    yhat.columns = [\"yhat\"]\n",
    "    I = list(range(len(yhat)))\n",
    "    dec= 2*sum([yhat.sort_values(by=\"yhat\", ascending=False, ignore_index=True).iloc[i,0]*I[i] for i in range(len(I))]) \n",
    "    inc = 2*sum([yhat.sort_values(by=\"yhat\", ignore_index=True).iloc[i,0]*I[i] for i in range(len(I))]) \n",
    "    RGE_den=(inc-dec)\n",
    "    return RGE_den"
   ]
  },
  {
   "cell_type": "code",
   "execution_count": 35,
   "id": "19fc810d",
   "metadata": {},
   "outputs": [],
   "source": [
    "def delta_function(data):\n",
    "    return rge_den(data.iloc[:,0])-rge_num(data.iloc[:,0], data.iloc[:,1])"
   ]
  },
  {
   "cell_type": "code",
   "execution_count": 36,
   "id": "6e3a204e",
   "metadata": {},
   "outputs": [],
   "source": [
    "def rge_statistic_test(yhat, yhat_xk):\n",
    "        yhat = pd.DataFrame(yhat).reset_index(drop=True)\n",
    "        yhat_xk = pd.DataFrame(yhat_xk).reset_index(drop=True)\n",
    "        jk_mat = pd.concat([yhat, yhat_xk], axis=1, keys=[\"yhat\", \"yhat_xk\"])\n",
    "        n = len(jk_mat)\n",
    "        index = np.arange(n)\n",
    "        jk_results = []\n",
    "        for i in range(n):\n",
    "            jk_sample = jk_mat.iloc[[x for x in index if x != i],:]\n",
    "            jk_sample.reset_index(drop=True, inplace=True)\n",
    "            jk_statistic = delta_function(jk_sample)\n",
    "            jk_results.append(jk_statistic)\n",
    "        se = np.sqrt(((n-1)/n)*(sum([(x-np.mean(jk_results))**2 for x in jk_results])))\n",
    "        z = (rge_den(yhat)-rge_num(yhat,yhat_xk))/se\n",
    "        p_value = 2*scipy.stats.norm.cdf(-abs(z))\n",
    "        return p_value"
   ]
  },
  {
   "cell_type": "code",
   "execution_count": 45,
   "id": "ac66bcd4",
   "metadata": {},
   "outputs": [
    {
     "data": {
      "text/plain": [
       "1.708275976442496e-08"
      ]
     },
     "execution_count": 45,
     "metadata": {},
     "output_type": "execute_result"
    }
   ],
   "source": [
    "rge_statistic_test(yhat, yhat_jobtime)"
   ]
  },
  {
   "cell_type": "markdown",
   "id": "841a8d90",
   "metadata": {},
   "source": [
    "# ROBUSTNESS"
   ]
  },
  {
   "cell_type": "code",
   "execution_count": 53,
   "id": "4e1770ce",
   "metadata": {},
   "outputs": [],
   "source": [
    "#check_robustness.rgr(xtrain, xtest, ytrain, ytest, rf_model_full)"
   ]
  },
  {
   "cell_type": "code",
   "execution_count": 20,
   "id": "162925d7",
   "metadata": {},
   "outputs": [],
   "source": [
    "def rgr(xtrain, xtest, ytrain, ytest, model):    \n",
    "    xtrain = pd.DataFrame(xtrain).reset_index(drop=True)\n",
    "    xtest = pd.DataFrame(xtest).reset_index(drop=True)\n",
    "    ytrain = pd.DataFrame(ytrain).reset_index(drop=True)\n",
    "    ytest = pd.DataFrame(ytest).reset_index(drop=True)\n",
    "    model_full = model.fit(xtrain, ytrain)\n",
    "    yhat = model_full.predict(xtest)\n",
    "    rgr_vals = []\n",
    "    for i in range(xtrain.shape[1]):\n",
    "        perturbed_xtrain = xtrain.reset_index(drop=True)\n",
    "        variable_perturbed = perturbed_xtrain.iloc[:,i]\n",
    "        sorted_data = np.sort(variable_perturbed)\n",
    "        percentile_5_index = int(np.ceil(0.15 * len(sorted_data)))\n",
    "        percentile_95_index = int(np.ceil(0.85 * len(sorted_data)))\n",
    "        values_before_5th_percentile = sorted_data[:percentile_5_index]\n",
    "        values_after_95th_percentile = sorted_data[percentile_95_index:]\n",
    "        vals = [[i, values] for i, values in enumerate(variable_perturbed)]\n",
    "        indices = [x[0] for x in sorted(vals, key= lambda item: item[1])]\n",
    "        lower_tail = indices[0:10]\n",
    "        upper_tail = (indices[-10:])\n",
    "        upper_tail = upper_tail[::-1]\n",
    "        perturbed_variable = variable_perturbed.copy()\n",
    "        for j in range(10):\n",
    "            perturbed_variable[lower_tail[j]] = variable_perturbed[upper_tail[j]]\n",
    "            perturbed_variable[upper_tail[j]] = variable_perturbed[lower_tail[j]]\n",
    "        perturbed_xtrain.iloc[:,i] = perturbed_variable\n",
    "        rf_perturbed = model.fit(perturbed_xtrain, ytrain)\n",
    "        yhat_pert = rf_perturbed.predict(xtest)\n",
    "        rgr_vals.append(rga(yhat, yhat_pert))\n",
    "    rgr_df = pd.DataFrame(rgr_vals, index=xtest.columns, columns=[\"RGR\"]).sort_values(by=\"RGR\", ascending=False)\n",
    "    return rgr_df"
   ]
  },
  {
   "cell_type": "code",
   "execution_count": 21,
   "id": "0fe8ff36",
   "metadata": {},
   "outputs": [
    {
     "data": {
      "text/html": [
       "<div>\n",
       "<style scoped>\n",
       "    .dataframe tbody tr th:only-of-type {\n",
       "        vertical-align: middle;\n",
       "    }\n",
       "\n",
       "    .dataframe tbody tr th {\n",
       "        vertical-align: top;\n",
       "    }\n",
       "\n",
       "    .dataframe thead th {\n",
       "        text-align: right;\n",
       "    }\n",
       "</style>\n",
       "<table border=\"1\" class=\"dataframe\">\n",
       "  <thead>\n",
       "    <tr style=\"text-align: right;\">\n",
       "      <th></th>\n",
       "      <th>RGR</th>\n",
       "    </tr>\n",
       "  </thead>\n",
       "  <tbody>\n",
       "    <tr>\n",
       "      <th>jobcat_Custodial</th>\n",
       "      <td>0.999480</td>\n",
       "    </tr>\n",
       "    <tr>\n",
       "      <th>minority</th>\n",
       "      <td>0.999419</td>\n",
       "    </tr>\n",
       "    <tr>\n",
       "      <th>jobcat_Clerical</th>\n",
       "      <td>0.999236</td>\n",
       "    </tr>\n",
       "    <tr>\n",
       "      <th>gender</th>\n",
       "      <td>0.998755</td>\n",
       "    </tr>\n",
       "    <tr>\n",
       "      <th>prevexp</th>\n",
       "      <td>0.998521</td>\n",
       "    </tr>\n",
       "    <tr>\n",
       "      <th>edu</th>\n",
       "      <td>0.998503</td>\n",
       "    </tr>\n",
       "    <tr>\n",
       "      <th>jobtime</th>\n",
       "      <td>0.997592</td>\n",
       "    </tr>\n",
       "    <tr>\n",
       "      <th>jobcat_manager</th>\n",
       "      <td>0.996210</td>\n",
       "    </tr>\n",
       "    <tr>\n",
       "      <th>age</th>\n",
       "      <td>0.993104</td>\n",
       "    </tr>\n",
       "  </tbody>\n",
       "</table>\n",
       "</div>"
      ],
      "text/plain": [
       "                       RGR\n",
       "jobcat_Custodial  0.999480\n",
       "minority          0.999419\n",
       "jobcat_Clerical   0.999236\n",
       "gender            0.998755\n",
       "prevexp           0.998521\n",
       "edu               0.998503\n",
       "jobtime           0.997592\n",
       "jobcat_manager    0.996210\n",
       "age               0.993104"
      ]
     },
     "execution_count": 21,
     "metadata": {},
     "output_type": "execute_result"
    }
   ],
   "source": [
    "rgr(xtrain, xtest, ytrain, ytest, RandomForestRegressor(random_state=1))"
   ]
  },
  {
   "cell_type": "markdown",
   "id": "bd003774",
   "metadata": {},
   "source": [
    "## RGR test"
   ]
  },
  {
   "cell_type": "code",
   "execution_count": 27,
   "id": "1c717d3b",
   "metadata": {},
   "outputs": [],
   "source": [
    "### to need the rgr test, I need to have another model results\n",
    "\n",
    "from sklearn.linear_model import LinearRegression\n",
    "\n",
    "regression_model = LinearRegression().fit(xtrain,ytrain)\n",
    "reg_predictions_full = regression_model.predict(xtest)"
   ]
  },
  {
   "cell_type": "code",
   "execution_count": 33,
   "id": "09730155",
   "metadata": {},
   "outputs": [],
   "source": [
    "def rgr_statistic_test(yhat_mod1,yhat_mod2,yhat_pert_mod1,yhat_pert_mod2):\n",
    "        yhat_mod1 = pd.DataFrame(yhat_mod1).reset_index(drop=True)\n",
    "        yhat_mod2 = pd.DataFrame(yhat_mod2).reset_index(drop=True)\n",
    "        yhat_pert_mod1 = pd.DataFrame(yhat_pert_mod1).reset_index(drop=True)\n",
    "        yhat_pert_mod2 = pd.DataFrame(yhat_pert_mod2).reset_index(drop=True)\n",
    "        jk_mat = pd.concat([yhat_mod1,yhat_mod2,yhat_pert_mod1,yhat_pert_mod2], axis=1, keys=[\"yhat_mod1\", \n",
    "                                                                                        \"yhat_mode2\", \n",
    "                                                                                        \"yhat_pert_mode1\",\n",
    "                                                                                        \"yhat_pert_mode2\"])\n",
    "        n = len(jk_mat)\n",
    "        index = np.arange(n)\n",
    "        jk_results = []\n",
    "        for i in range(n):\n",
    "            jk_sample = jk_mat.iloc[[x for x in index if x != i],:]\n",
    "            jk_sample.reset_index(drop=True, inplace=True)\n",
    "            jk_statistic = _delta_function(jk_sample, rga)\n",
    "            jk_results.append(jk_statistic)\n",
    "        se = np.sqrt(((n-1)/n)*(sum([(x-np.mean(jk_results))**2 for x in jk_results])))\n",
    "        z = (rga(yhat_mod1, yhat_pert_mod1)- rga(yhat_mod2, yhat_pert_mod2))/se\n",
    "        p_value = 2*scipy.stats.norm.cdf(-abs(z))\n",
    "        return p_value"
   ]
  },
  {
   "cell_type": "code",
   "execution_count": 59,
   "id": "cd5434e4",
   "metadata": {},
   "outputs": [],
   "source": [
    "#xtrain_pert = xtrain.copy()\n",
    "#rgr_pvalues = []\n",
    "#for i in xtrain.columns:\n",
    "#    xtrain_pert[i] = np.random.permutation(xtrain[i])\n",
    "#    rf_perturbed = RandomForestClassifier(random_state=1).fit(xtrain_pert, ytrain)\n",
    "#    lr_perturbed = LogisticRegression(random_state=1).fit(xtrain_pert, ytrain)\n",
    "#    rf_yhat_pert = rf_perturbed.predict(xtest)\n",
    "#    lr_yhat_pert = lr_perturbed.predict(xtest)\n",
    "#    rgr_pvalues.append(check_robustness.rgr_statistic_test(rf_predictions_full,lr_predictions_full,rf_yhat_pert,lr_yhat_pert))\n",
    "#print(pd.DataFrame(rgr_pvalues, index=xtrain.columns, columns=[\"P_value\"]))"
   ]
  },
  {
   "cell_type": "code",
   "execution_count": 34,
   "id": "4e42deaf",
   "metadata": {},
   "outputs": [
    {
     "name": "stdout",
     "output_type": "stream",
     "text": [
      "                   P_value\n",
      "age               0.958229\n",
      "edu               0.912153\n",
      "jobtime           0.882948\n",
      "prevexp           0.543995\n",
      "minority          0.511310\n",
      "gender            0.652918\n",
      "jobcat_Clerical   0.614195\n",
      "jobcat_Custodial  0.548769\n",
      "jobcat_manager    0.327785\n"
     ]
    }
   ],
   "source": [
    "xtrain_pert = xtrain.copy()\n",
    "rgr_pvalues = []\n",
    "for i in xtrain.columns:\n",
    "    xtrain_pert[i] = np.random.permutation(xtrain[i])\n",
    "    rf_perturbed = MLPRegressor(random_state=1).fit(xtrain_pert, ytrain)\n",
    "    lr_perturbed = LinearRegression().fit(xtrain_pert, ytrain)\n",
    "    rf_yhat_pert = rf_perturbed.predict(xtest)\n",
    "    lr_yhat_pert = lr_perturbed.predict(xtest)\n",
    "    rgr_pvalues.append(rgr_statistic_test(yhat,reg_predictions_full,rf_yhat_pert,lr_yhat_pert))\n",
    "print(pd.DataFrame(rgr_pvalues, index=xtrain.columns, columns=[\"P_value\"]))"
   ]
  },
  {
   "cell_type": "markdown",
   "id": "93322647",
   "metadata": {},
   "source": [
    "# FAIRNESS"
   ]
  },
  {
   "cell_type": "code",
   "execution_count": 27,
   "id": "3893d787",
   "metadata": {},
   "outputs": [],
   "source": [
    "#print(check_fairness.rgf(xtrain, xtest, ytrain, ytest, [\"gender\", \"minority\"], rf_model_full))"
   ]
  },
  {
   "cell_type": "code",
   "execution_count": 38,
   "id": "c94dec56",
   "metadata": {},
   "outputs": [],
   "source": [
    "def rgf(xtrain, xtest, ytrain, ytest, protectedvariables, model):\n",
    "    \"\"\"\n",
    "     ### RANK GRADUATION FAIRNESS (RGF) MEASURE ###\n",
    "     Function for the RGF measure computation\n",
    "     Inputs: xtrain, xtest, ytrain, ytest -> the train and test data selected for training and testing the model;\n",
    "             protectedvariables -> a list of variables should be considered as the protected variables; \n",
    "             model -> a classification or regression model. For example RandomForestClassifier() in ensemble module of sklearn.\n",
    "    \"\"\"    \n",
    "    if not isinstance(protectedvariables, list):\n",
    "        raise ValueError(\"Protectedvariables input must be a list\")\n",
    "    xtrain = pd.DataFrame(xtrain).reset_index(drop=True)\n",
    "    xtest = pd.DataFrame(xtest).reset_index(drop=True)\n",
    "    ytrain = pd.DataFrame(ytrain).reset_index(drop=True)\n",
    "    ytest = pd.DataFrame(ytest).reset_index(drop=True)\n",
    "    for i in range(len(list(protectedvariables))):\n",
    "        if protectedvariables[i] not in xtrain:\n",
    "            raise ValueError(f\"{protectedvariables[i]} is not in the variables\")\n",
    "    rgf_list = []\n",
    "    model_full = model.fit(xtrain, ytrain)\n",
    "    yhat = model_full.predict(xtest)\n",
    "    for i in protectedvariables:\n",
    "         xtrain_pr = xtrain.drop(i, axis=1)\n",
    "         xtest_pr = xtest.drop(i, axis=1)\n",
    "         model_pr = model.fit(xtrain_pr, ytrain)\n",
    "         yhat_pr = model_pr.predict(xtest_pr)\n",
    "         rgf_list.append(rga(yhat, yhat_pr))\n",
    "    return pd.DataFrame(rgf_list, index=protectedvariables, columns=[\"RGF\"]).sort_values(by=\"RGF\", ascending=False)\n"
   ]
  },
  {
   "cell_type": "code",
   "execution_count": 40,
   "id": "0bc94de9",
   "metadata": {
    "scrolled": true
   },
   "outputs": [
    {
     "name": "stdout",
     "output_type": "stream",
     "text": [
      "             RGF\n",
      "gender  0.998429\n"
     ]
    }
   ],
   "source": [
    "print(rgf(xtrain, xtest, ytrain, ytest,[\"gender\"], RandomForestRegressor(random_state=1)))"
   ]
  },
  {
   "cell_type": "markdown",
   "id": "7d364d48",
   "metadata": {},
   "source": [
    "# RGF test"
   ]
  },
  {
   "cell_type": "code",
   "execution_count": 43,
   "id": "4aa70790",
   "metadata": {},
   "outputs": [],
   "source": [
    "xtrain_gender = xtrain.drop(\"gender\", axis=1)\n",
    "xtest_gender = xtest.drop(\"gender\", axis=1)\n",
    "\n",
    "rf_model_gender = RandomForestRegressor(random_state=1).fit(xtrain_gender, ytrain)\n",
    "yhat_gender = rf_model_gender.predict(xtest_gender)"
   ]
  },
  {
   "cell_type": "code",
   "execution_count": 46,
   "id": "e6706d70",
   "metadata": {},
   "outputs": [
    {
     "data": {
      "text/plain": [
       "0.003146313784039523"
      ]
     },
     "execution_count": 46,
     "metadata": {},
     "output_type": "execute_result"
    }
   ],
   "source": [
    "rge_statistic_test(yhat, yhat_gender)"
   ]
  },
  {
   "cell_type": "markdown",
   "id": "c9a20e94",
   "metadata": {},
   "source": [
    "# PRIVACY"
   ]
  },
  {
   "cell_type": "code",
   "execution_count": 33,
   "id": "14f21b19",
   "metadata": {},
   "outputs": [],
   "source": [
    "#print(check_privacy.rgp(xtrain, xtest, ytrain, ytest, rf_model_full))"
   ]
  },
  {
   "cell_type": "code",
   "execution_count": 47,
   "id": "8005bbff",
   "metadata": {},
   "outputs": [],
   "source": [
    "def rgp(xtrain, xtest, ytrain, ytest, index, model):\n",
    "    \"\"\"\n",
    "     ### RANK GRADUATION PRIVACY (RGP) MEASURE ###\n",
    "     Function for the RGP measure computation\n",
    "     Inputs: xtrain, xtest, ytrain, ytest -> the train and test data selected for training and testing the model;\n",
    "             index -> a list of indices to specify for which observations, privacy should be checked; \n",
    "             model -> a classification or regression model. For example RandomForestClassifier() in ensemble module of sklearn.\n",
    "    \"\"\"   \n",
    "    if not isinstance(index, list):\n",
    "        raise ValueError(\"Index input must be a list\")\n",
    "    xtrain = pd.DataFrame(xtrain).reset_index(drop=True)\n",
    "    xtest = pd.DataFrame(xtest).reset_index(drop=True)\n",
    "    ytrain = pd.DataFrame(ytrain).reset_index(drop=True)\n",
    "    ytest = pd.DataFrame(ytest).reset_index(drop=True)\n",
    "    rgp_list = []\n",
    "    model_full = model.fit(xtrain, ytrain)\n",
    "    yhat = model_full.predict(xtest)\n",
    "    for i in index:\n",
    "        if i in xtrain.index:\n",
    "            xtrain_rm = xtrain.drop(index=i, axis=0)\n",
    "            ytrain_rm = ytrain.drop(index=i, axis=0)\n",
    "            model_rm = model.fit(xtrain_rm, ytrain_rm)\n",
    "            yhat_rm = model_rm.predict(xtest)\n",
    "            rgp_list.append((1-rga(yhat, yhat_rm)))\n",
    "        else:\n",
    "            raise ValueError(f\"index {i} is not available\")\n",
    "    return pd.DataFrame(rgp_list, index=index, columns=[\"RGP\"])"
   ]
  },
  {
   "cell_type": "code",
   "execution_count": 48,
   "id": "22e4b25a",
   "metadata": {
    "scrolled": false
   },
   "outputs": [
    {
     "data": {
      "text/html": [
       "<div>\n",
       "<style scoped>\n",
       "    .dataframe tbody tr th:only-of-type {\n",
       "        vertical-align: middle;\n",
       "    }\n",
       "\n",
       "    .dataframe tbody tr th {\n",
       "        vertical-align: top;\n",
       "    }\n",
       "\n",
       "    .dataframe thead th {\n",
       "        text-align: right;\n",
       "    }\n",
       "</style>\n",
       "<table border=\"1\" class=\"dataframe\">\n",
       "  <thead>\n",
       "    <tr style=\"text-align: right;\">\n",
       "      <th></th>\n",
       "      <th>RGP</th>\n",
       "    </tr>\n",
       "  </thead>\n",
       "  <tbody>\n",
       "    <tr>\n",
       "      <th>10</th>\n",
       "      <td>0.004057</td>\n",
       "    </tr>\n",
       "    <tr>\n",
       "      <th>12</th>\n",
       "      <td>0.003356</td>\n",
       "    </tr>\n",
       "  </tbody>\n",
       "</table>\n",
       "</div>"
      ],
      "text/plain": [
       "         RGP\n",
       "10  0.004057\n",
       "12  0.003356"
      ]
     },
     "execution_count": 48,
     "metadata": {},
     "output_type": "execute_result"
    }
   ],
   "source": [
    "rgp(xtrain, xtest, ytrain, ytest, [10,12], RandomForestRegressor(random_state=1))"
   ]
  },
  {
   "cell_type": "code",
   "execution_count": null,
   "id": "65f6c55e",
   "metadata": {},
   "outputs": [],
   "source": []
  },
  {
   "cell_type": "code",
   "execution_count": null,
   "id": "2490bd45",
   "metadata": {},
   "outputs": [],
   "source": [
    "rge_statistic_test()"
   ]
  },
  {
   "cell_type": "code",
   "execution_count": null,
   "id": "05616e29",
   "metadata": {},
   "outputs": [],
   "source": []
  },
  {
   "cell_type": "code",
   "execution_count": null,
   "id": "e5b60998",
   "metadata": {},
   "outputs": [],
   "source": []
  },
  {
   "cell_type": "markdown",
   "id": "22995ef5",
   "metadata": {},
   "source": [
    "# ###########"
   ]
  },
  {
   "cell_type": "code",
   "execution_count": 33,
   "id": "415fb852",
   "metadata": {},
   "outputs": [],
   "source": [
    "def rgr(xtrain, xtest, ytrain, ytest, model, perturbation_percentage= 0.05):    \n",
    "    xtrain = pd.DataFrame(xtrain).reset_index(drop=True)\n",
    "    xtest = pd.DataFrame(xtest).reset_index(drop=True)\n",
    "    ytrain = pd.DataFrame(ytrain).reset_index(drop=True)\n",
    "    ytest = pd.DataFrame(ytest).reset_index(drop=True)\n",
    "    model_full = model.fit(xtrain, ytrain)\n",
    "    yhat = model_full.predict(xtest)\n",
    "    rgr_vals = []\n",
    "    for i in range(xtrain.shape[1]):\n",
    "        perturbed_xtrain = xtrain.reset_index(drop=True)\n",
    "        variable_perturbed = perturbed_xtrain.iloc[:,i]\n",
    "        sorted_data = np.sort(variable_perturbed)\n",
    "        percentile_5_index = int(np.ceil(perturbation_percentage * len(sorted_data)))\n",
    "        percentile_95_index = int(np.ceil(1-perturbation_percentage * len(sorted_data)))\n",
    "        values_before_5th_percentile = sorted_data[:percentile_5_index]\n",
    "        values_after_95th_percentile = sorted_data[percentile_95_index:]\n",
    "        vals = [[i, values] for i, values in enumerate(variable_perturbed)]\n",
    "        indices = [x[0] for x in sorted(vals, key= lambda item: item[1])]\n",
    "        lower_tail = indices[0:percentile_5_index]\n",
    "        upper_tail = (indices[-percentile_5_index:])\n",
    "        upper_tail = upper_tail[::-1]\n",
    "        for j in range(len(lower_tail)):\n",
    "            variable_perturbed[lower_tail[j]] = variable_perturbed[upper_tail[j]]\n",
    "            variable_perturbed[upper_tail[j]] = variable_perturbed[lower_tail[j]]\n",
    "        perturbed_xtrain.iloc[:,i] = variable_perturbed\n",
    "        rf_perturbed = model.fit(perturbed_xtrain, ytrain)\n",
    "        yhat_pert = rf_perturbed.predict(xtest)\n",
    "        rgr_vals.append(rga(yhat, yhat_pert))\n",
    "    rgr_df = pd.DataFrame(rgr_vals, index=xtest.columns, columns=[\"RGR\"]).sort_values(by=\"RGR\", ascending=False)\n",
    "    return rgr_df"
   ]
  },
  {
   "cell_type": "code",
   "execution_count": 38,
   "id": "e12608ac",
   "metadata": {},
   "outputs": [
    {
     "data": {
      "text/html": [
       "<div>\n",
       "<style scoped>\n",
       "    .dataframe tbody tr th:only-of-type {\n",
       "        vertical-align: middle;\n",
       "    }\n",
       "\n",
       "    .dataframe tbody tr th {\n",
       "        vertical-align: top;\n",
       "    }\n",
       "\n",
       "    .dataframe thead th {\n",
       "        text-align: right;\n",
       "    }\n",
       "</style>\n",
       "<table border=\"1\" class=\"dataframe\">\n",
       "  <thead>\n",
       "    <tr style=\"text-align: right;\">\n",
       "      <th></th>\n",
       "      <th>RGR</th>\n",
       "    </tr>\n",
       "  </thead>\n",
       "  <tbody>\n",
       "    <tr>\n",
       "      <th>jobcat_Clerical</th>\n",
       "      <td>0.999751</td>\n",
       "    </tr>\n",
       "    <tr>\n",
       "      <th>jobcat_Custodial</th>\n",
       "      <td>0.999429</td>\n",
       "    </tr>\n",
       "    <tr>\n",
       "      <th>gender</th>\n",
       "      <td>0.997823</td>\n",
       "    </tr>\n",
       "    <tr>\n",
       "      <th>minority</th>\n",
       "      <td>0.997316</td>\n",
       "    </tr>\n",
       "    <tr>\n",
       "      <th>jobcat_manager</th>\n",
       "      <td>0.994855</td>\n",
       "    </tr>\n",
       "    <tr>\n",
       "      <th>edu</th>\n",
       "      <td>0.984043</td>\n",
       "    </tr>\n",
       "    <tr>\n",
       "      <th>prevexp</th>\n",
       "      <td>0.981074</td>\n",
       "    </tr>\n",
       "    <tr>\n",
       "      <th>age</th>\n",
       "      <td>0.963267</td>\n",
       "    </tr>\n",
       "    <tr>\n",
       "      <th>jobtime</th>\n",
       "      <td>0.939061</td>\n",
       "    </tr>\n",
       "  </tbody>\n",
       "</table>\n",
       "</div>"
      ],
      "text/plain": [
       "                       RGR\n",
       "jobcat_Clerical   0.999751\n",
       "jobcat_Custodial  0.999429\n",
       "gender            0.997823\n",
       "minority          0.997316\n",
       "jobcat_manager    0.994855\n",
       "edu               0.984043\n",
       "prevexp           0.981074\n",
       "age               0.963267\n",
       "jobtime           0.939061"
      ]
     },
     "execution_count": 38,
     "metadata": {},
     "output_type": "execute_result"
    }
   ],
   "source": [
    "rgr(xtrain, xtest, ytrain, ytest, RandomForestRegressor(random_state=1), perturbation_percentage=0.5)"
   ]
  },
  {
   "cell_type": "code",
   "execution_count": 27,
   "id": "cc9fd68e",
   "metadata": {},
   "outputs": [
    {
     "data": {
      "text/html": [
       "<div>\n",
       "<style scoped>\n",
       "    .dataframe tbody tr th:only-of-type {\n",
       "        vertical-align: middle;\n",
       "    }\n",
       "\n",
       "    .dataframe tbody tr th {\n",
       "        vertical-align: top;\n",
       "    }\n",
       "\n",
       "    .dataframe thead th {\n",
       "        text-align: right;\n",
       "    }\n",
       "</style>\n",
       "<table border=\"1\" class=\"dataframe\">\n",
       "  <thead>\n",
       "    <tr style=\"text-align: right;\">\n",
       "      <th></th>\n",
       "      <th>RGR</th>\n",
       "    </tr>\n",
       "  </thead>\n",
       "  <tbody>\n",
       "    <tr>\n",
       "      <th>jobcat_Custodial</th>\n",
       "      <td>0.999429</td>\n",
       "    </tr>\n",
       "    <tr>\n",
       "      <th>jobcat_Clerical</th>\n",
       "      <td>0.999333</td>\n",
       "    </tr>\n",
       "    <tr>\n",
       "      <th>minority</th>\n",
       "      <td>0.998962</td>\n",
       "    </tr>\n",
       "    <tr>\n",
       "      <th>gender</th>\n",
       "      <td>0.998886</td>\n",
       "    </tr>\n",
       "    <tr>\n",
       "      <th>edu</th>\n",
       "      <td>0.996983</td>\n",
       "    </tr>\n",
       "    <tr>\n",
       "      <th>prevexp</th>\n",
       "      <td>0.996871</td>\n",
       "    </tr>\n",
       "    <tr>\n",
       "      <th>jobcat_manager</th>\n",
       "      <td>0.994478</td>\n",
       "    </tr>\n",
       "    <tr>\n",
       "      <th>jobtime</th>\n",
       "      <td>0.993367</td>\n",
       "    </tr>\n",
       "    <tr>\n",
       "      <th>age</th>\n",
       "      <td>0.979309</td>\n",
       "    </tr>\n",
       "  </tbody>\n",
       "</table>\n",
       "</div>"
      ],
      "text/plain": [
       "                       RGR\n",
       "jobcat_Custodial  0.999429\n",
       "jobcat_Clerical   0.999333\n",
       "minority          0.998962\n",
       "gender            0.998886\n",
       "edu               0.996983\n",
       "prevexp           0.996871\n",
       "jobcat_manager    0.994478\n",
       "jobtime           0.993367\n",
       "age               0.979309"
      ]
     },
     "execution_count": 27,
     "metadata": {},
     "output_type": "execute_result"
    }
   ],
   "source": [
    "rgr(xtrain, xtest, ytrain, ytest, RandomForestRegressor(random_state=1))"
   ]
  },
  {
   "cell_type": "code",
   "execution_count": 31,
   "id": "c954c721",
   "metadata": {},
   "outputs": [],
   "source": [
    "def rgr_all_perturbed(xtrain, xtest, ytrain, ytest, model, perturbation_percentage= 0.05):\n",
    "    if perturbation_percentage > 0.5 or perturbation_percentage < 0:\n",
    "        raise ValueError(\"The perturbation percentage should be between 0 and 0.5.\")\n",
    "    xtrain = pd.DataFrame(xtrain).reset_index(drop=True)\n",
    "    xtest = pd.DataFrame(xtest).reset_index(drop=True)\n",
    "    ytrain = pd.DataFrame(ytrain).reset_index(drop=True)\n",
    "    ytest = pd.DataFrame(ytest).reset_index(drop=True)\n",
    "    model_full = model.fit(xtrain, ytrain)\n",
    "    yhat = model_full.predict(xtest)\n",
    "    rgr_vals = []\n",
    "    perturbed_xtrain = xtrain.reset_index(drop=True)\n",
    "    for i in range(xtrain.shape[1]):\n",
    "        variable_perturbed = perturbed_xtrain.iloc[:,i]\n",
    "        sorted_data = np.sort(variable_perturbed)\n",
    "        percentile_5_index = int(np.ceil(perturbation_percentage * len(sorted_data)))\n",
    "        percentile_95_index = int(np.ceil(1-perturbation_percentage * len(sorted_data)))\n",
    "        values_before_5th_percentile = sorted_data[:percentile_5_index]\n",
    "        values_after_95th_percentile = sorted_data[percentile_95_index:]\n",
    "        vals = [[i, values] for i, values in enumerate(variable_perturbed)]\n",
    "        indices = [x[0] for x in sorted(vals, key= lambda item: item[1])]\n",
    "        lower_tail = indices[0:percentile_5_index]\n",
    "        upper_tail = (indices[-percentile_5_index:])\n",
    "        upper_tail = upper_tail[::-1]\n",
    "        for j in range(len(lower_tail)):\n",
    "            variable_perturbed[lower_tail[j]] = variable_perturbed[upper_tail[j]]\n",
    "            variable_perturbed[upper_tail[j]] = variable_perturbed[lower_tail[j]]\n",
    "        perturbed_xtrain.iloc[:,i] = variable_perturbed\n",
    "    rf_perturbed = model.fit(perturbed_xtrain, ytrain)\n",
    "    yhat_pert = rf_perturbed.predict(xtest)\n",
    "    rgr_ = rga(yhat, yhat_pert)\n",
    "    return rgr_"
   ]
  },
  {
   "cell_type": "code",
   "execution_count": 27,
   "id": "449f4873",
   "metadata": {},
   "outputs": [
    {
     "data": {
      "text/plain": [
       "0.999999875642668"
      ]
     },
     "execution_count": 27,
     "metadata": {},
     "output_type": "execute_result"
    }
   ],
   "source": [
    "rgr_all_perturbed(xtrain, xtest, ytrain, ytest, MLPRegressor(random_state=1), perturbation_percentage= 0.05)\n"
   ]
  },
  {
   "cell_type": "code",
   "execution_count": 39,
   "id": "d367ae15",
   "metadata": {},
   "outputs": [
    {
     "data": {
      "text/plain": [
       "0.8798594020452924"
      ]
     },
     "execution_count": 39,
     "metadata": {},
     "output_type": "execute_result"
    }
   ],
   "source": [
    "rgr_all_perturbed(xtrain, xtest, ytrain, ytest, RandomForestRegressor(random_state=1), perturbation_percentage= 0.5)"
   ]
  },
  {
   "cell_type": "code",
   "execution_count": 47,
   "id": "e7f7f94a",
   "metadata": {},
   "outputs": [],
   "source": [
    "def rgr_negative(xtrain, xtest, ytrain, ytest, model):\n",
    "    xtrain = pd.DataFrame(xtrain).reset_index(drop=True)\n",
    "    xtest = pd.DataFrame(xtest).reset_index(drop=True)\n",
    "    ytrain = pd.DataFrame(ytrain).reset_index(drop=True)\n",
    "    ytest = pd.DataFrame(ytest).reset_index(drop=True)\n",
    "    model_full = model.fit(xtrain, ytrain)\n",
    "    yhat = model_full.predict(xtest)\n",
    "    rgr_ = []\n",
    "    for i in range(xtrain.shape[1]):\n",
    "        reverse_xtrain = xtrain.reset_index(drop=True)\n",
    "        variable = reverse_xtrain.iloc[:,i]\n",
    "        reverse_xtrain.iloc[:,i] = -1*variable\n",
    "        rf_negative = model.fit(reverse_xtrain, ytrain)\n",
    "        yhat_rev = rf_negative.predict(xtest)\n",
    "        rgr_.append(rga(yhat, yhat_rev))\n",
    "    rgr_df = pd.DataFrame(rgr_, index=xtest.columns, columns=[\"RGR\"]).sort_values(by=\"RGR\", ascending=False)\n",
    "    return rgr_df"
   ]
  },
  {
   "cell_type": "code",
   "execution_count": 48,
   "id": "d36f0318",
   "metadata": {},
   "outputs": [
    {
     "data": {
      "text/html": [
       "<div>\n",
       "<style scoped>\n",
       "    .dataframe tbody tr th:only-of-type {\n",
       "        vertical-align: middle;\n",
       "    }\n",
       "\n",
       "    .dataframe tbody tr th {\n",
       "        vertical-align: top;\n",
       "    }\n",
       "\n",
       "    .dataframe thead th {\n",
       "        text-align: right;\n",
       "    }\n",
       "</style>\n",
       "<table border=\"1\" class=\"dataframe\">\n",
       "  <thead>\n",
       "    <tr style=\"text-align: right;\">\n",
       "      <th></th>\n",
       "      <th>RGR</th>\n",
       "    </tr>\n",
       "  </thead>\n",
       "  <tbody>\n",
       "    <tr>\n",
       "      <th>minority</th>\n",
       "      <td>0.999351</td>\n",
       "    </tr>\n",
       "    <tr>\n",
       "      <th>gender</th>\n",
       "      <td>0.999227</td>\n",
       "    </tr>\n",
       "    <tr>\n",
       "      <th>jobcat_Custodial</th>\n",
       "      <td>0.995778</td>\n",
       "    </tr>\n",
       "    <tr>\n",
       "      <th>jobcat_Clerical</th>\n",
       "      <td>0.992737</td>\n",
       "    </tr>\n",
       "    <tr>\n",
       "      <th>prevexp</th>\n",
       "      <td>0.973936</td>\n",
       "    </tr>\n",
       "    <tr>\n",
       "      <th>jobtime</th>\n",
       "      <td>0.959693</td>\n",
       "    </tr>\n",
       "    <tr>\n",
       "      <th>edu</th>\n",
       "      <td>0.958863</td>\n",
       "    </tr>\n",
       "    <tr>\n",
       "      <th>age</th>\n",
       "      <td>0.958301</td>\n",
       "    </tr>\n",
       "    <tr>\n",
       "      <th>jobcat_manager</th>\n",
       "      <td>0.925378</td>\n",
       "    </tr>\n",
       "  </tbody>\n",
       "</table>\n",
       "</div>"
      ],
      "text/plain": [
       "                       RGR\n",
       "minority          0.999351\n",
       "gender            0.999227\n",
       "jobcat_Custodial  0.995778\n",
       "jobcat_Clerical   0.992737\n",
       "prevexp           0.973936\n",
       "jobtime           0.959693\n",
       "edu               0.958863\n",
       "age               0.958301\n",
       "jobcat_manager    0.925378"
      ]
     },
     "execution_count": 48,
     "metadata": {},
     "output_type": "execute_result"
    }
   ],
   "source": [
    "rgr_negative(xtrain, xtest, ytrain, ytest, RandomForestRegressor(random_state=1))"
   ]
  },
  {
   "cell_type": "code",
   "execution_count": 43,
   "id": "0610365f",
   "metadata": {},
   "outputs": [],
   "source": [
    "def rgr_negative_all(xtrain, xtest, ytrain, ytest, model):\n",
    "    xtrain = pd.DataFrame(xtrain).reset_index(drop=True)\n",
    "    xtest = pd.DataFrame(xtest).reset_index(drop=True)\n",
    "    ytrain = pd.DataFrame(ytrain).reset_index(drop=True)\n",
    "    ytest = pd.DataFrame(ytest).reset_index(drop=True)\n",
    "    model_full = model.fit(xtrain, ytrain)\n",
    "    yhat = model_full.predict(xtest)\n",
    "    reverse_xtrain = xtrain * -1\n",
    "    rf_negative = model.fit(reverse_xtrain, ytrain)\n",
    "    yhat_rev = rf_negative.predict(xtest)\n",
    "    rgr_ = rga(yhat, yhat_rev)\n",
    "    return rgr_"
   ]
  },
  {
   "cell_type": "code",
   "execution_count": 44,
   "id": "5e7587a7",
   "metadata": {},
   "outputs": [
    {
     "data": {
      "text/plain": [
       "0.5000000000000008"
      ]
     },
     "execution_count": 44,
     "metadata": {},
     "output_type": "execute_result"
    }
   ],
   "source": [
    "rgr_negative_all(xtrain, xtest, ytrain, ytest, RandomForestRegressor(random_state=1))"
   ]
  },
  {
   "cell_type": "code",
   "execution_count": 15,
   "id": "7805be25",
   "metadata": {},
   "outputs": [],
   "source": [
    "def rgr_single(xtrain, xtest, ytrain, ytest, model, variable, perturbation_percentage= 0.05):\n",
    "    if variable not in xtrain.columns:\n",
    "        raise ValueError(\"The selected variable is not available.\")\n",
    "    if perturbation_percentage > 0.5 or perturbation_percentage < 0:\n",
    "        raise ValueError(\"The perturbation percentage should be between 0 and 0.5.\")\n",
    "    xtrain = pd.DataFrame(xtrain).reset_index(drop=True)\n",
    "    xtest = pd.DataFrame(xtest).reset_index(drop=True)\n",
    "    ytrain = pd.DataFrame(ytrain).reset_index(drop=True)\n",
    "    ytest = pd.DataFrame(ytest).reset_index(drop=True)\n",
    "    model_full = model.fit(xtrain, ytrain)\n",
    "    yhat = model_full.predict(xtest)\n",
    "    rgr_vals = []\n",
    "    perturbed_xtrain = xtrain.reset_index(drop=True)\n",
    "    variable_perturbed = perturbed_xtrain.loc[:,variable]\n",
    "    sorted_data = np.sort(variable_perturbed)\n",
    "    percentile_5_index = int(np.ceil(perturbation_percentage * len(sorted_data)))\n",
    "    percentile_95_index = int(np.ceil(1-perturbation_percentage * len(sorted_data)))\n",
    "    values_before_5th_percentile = sorted_data[:percentile_5_index]\n",
    "    values_after_95th_percentile = sorted_data[percentile_95_index:]\n",
    "    vals = [[i, values] for i, values in enumerate(variable_perturbed)]\n",
    "    indices = [x[0] for x in sorted(vals, key= lambda item: item[1])]\n",
    "    lower_tail = indices[0:percentile_5_index]\n",
    "    upper_tail = (indices[-percentile_5_index:])\n",
    "    upper_tail = upper_tail[::-1]\n",
    "    for j in range(len(lower_tail)):\n",
    "        variable_perturbed[lower_tail[j]] = variable_perturbed[upper_tail[j]]\n",
    "        variable_perturbed[upper_tail[j]] = variable_perturbed[lower_tail[j]]\n",
    "    perturbed_xtrain.loc[:,variable] = variable_perturbed\n",
    "    rf_perturbed = model.fit(perturbed_xtrain, ytrain)\n",
    "    yhat_pert = rf_perturbed.predict(xtest)\n",
    "    rgr_val = rga(yhat, yhat_pert)\n",
    "    return rgr_val"
   ]
  },
  {
   "cell_type": "code",
   "execution_count": 17,
   "id": "9f2cc39b",
   "metadata": {},
   "outputs": [
    {
     "data": {
      "text/plain": [
       "0.9689853253443086"
      ]
     },
     "execution_count": 17,
     "metadata": {},
     "output_type": "execute_result"
    }
   ],
   "source": [
    "rgr_single(xtrain, xtest, ytrain, ytest, RandomForestRegressor(random_state=1), \"prevexp\", perturbation_percentage= 0.25)"
   ]
  },
  {
   "cell_type": "code",
   "execution_count": 18,
   "id": "cb60bd93",
   "metadata": {},
   "outputs": [],
   "source": [
    "def rgr_all(xtrain, xtest, ytrain, ytest, model, perturbation_percentage= 0.05):\n",
    "    if perturbation_percentage > 0.5 or perturbation_percentage < 0:\n",
    "        raise ValueError(\"The perturbation percentage should be between 0 and 0.5.\")\n",
    "    xtrain = pd.DataFrame(xtrain).reset_index(drop=True)\n",
    "    xtest = pd.DataFrame(xtest).reset_index(drop=True)\n",
    "    ytrain = pd.DataFrame(ytrain).reset_index(drop=True)\n",
    "    ytest = pd.DataFrame(ytest).reset_index(drop=True)\n",
    "    model_full = model.fit(xtrain, ytrain)\n",
    "    yhat = model_full.predict(xtest)\n",
    "    rgr_vals = []\n",
    "    perturbed_xtrain = xtrain.reset_index(drop=True)\n",
    "    for i in range(xtrain.shape[1]):\n",
    "        variable_perturbed = perturbed_xtrain.iloc[:,i]\n",
    "        sorted_data = np.sort(variable_perturbed)\n",
    "        percentile_5_index = int(np.ceil(perturbation_percentage * len(sorted_data)))\n",
    "        percentile_95_index = int(np.ceil(1-perturbation_percentage * len(sorted_data)))\n",
    "        values_before_5th_percentile = sorted_data[:percentile_5_index]\n",
    "        values_after_95th_percentile = sorted_data[percentile_95_index:]\n",
    "        vals = [[i, values] for i, values in enumerate(variable_perturbed)]\n",
    "        indices = [x[0] for x in sorted(vals, key= lambda item: item[1])]\n",
    "        lower_tail = indices[0:percentile_5_index]\n",
    "        upper_tail = (indices[-percentile_5_index:])\n",
    "        upper_tail = upper_tail[::-1]\n",
    "        for j in range(len(lower_tail)):\n",
    "            variable_perturbed[lower_tail[j]] = variable_perturbed[upper_tail[j]]\n",
    "            variable_perturbed[upper_tail[j]] = variable_perturbed[lower_tail[j]]\n",
    "        perturbed_xtrain.iloc[:,i] = variable_perturbed\n",
    "    rf_perturbed = model.fit(perturbed_xtrain, ytrain)\n",
    "    yhat_pert = rf_perturbed.predict(xtest)\n",
    "    rgr_ = rga(yhat, yhat_pert)\n",
    "    return rgr_"
   ]
  },
  {
   "cell_type": "code",
   "execution_count": 19,
   "id": "ee71a1b0",
   "metadata": {},
   "outputs": [
    {
     "data": {
      "text/plain": [
       "0.7977529719692392"
      ]
     },
     "execution_count": 19,
     "metadata": {},
     "output_type": "execute_result"
    }
   ],
   "source": [
    "rgr_all(xtrain, xtest, ytrain, ytest, RandomForestRegressor(random_state=1), perturbation_percentage= 0.25)"
   ]
  }
 ],
 "metadata": {
  "kernelspec": {
   "display_name": "Python 3",
   "language": "python",
   "name": "python3"
  },
  "language_info": {
   "codemirror_mode": {
    "name": "ipython",
    "version": 3
   },
   "file_extension": ".py",
   "mimetype": "text/x-python",
   "name": "python",
   "nbconvert_exporter": "python",
   "pygments_lexer": "ipython3",
   "version": "3.8.8"
  }
 },
 "nbformat": 4,
 "nbformat_minor": 5
}
