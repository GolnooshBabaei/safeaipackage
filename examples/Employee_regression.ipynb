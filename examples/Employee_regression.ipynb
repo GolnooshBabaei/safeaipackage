{
 "cells": [
  {
   "cell_type": "markdown",
   "id": "9f245402",
   "metadata": {},
   "source": [
    "# In this notebook, we show a regression example using the employee dataset. In this problem, the target variable is \"salary_growth\" that represents the amount of increase in an employee's salary. The explanatory variables include age, edu, jobtime, prevexp, minority, gender, and jobcat. Definition of these explanatory variables is presented in \n"
   ]
  },
  {
   "cell_type": "code",
   "execution_count": 2,
   "id": "99c9e2c5",
   "metadata": {},
   "outputs": [],
   "source": [
    "import pandas as pd\n",
    "import numpy as np\n",
    "import warnings\n",
    "import scipy\n",
    "import matplotlib.pyplot as plt\n",
    "from safeaipackage import check_accuracy, check_robustness, check_explainability, check_fairness, check_privacy\n",
    "from sklearn.model_selection import train_test_split\n",
    "from sklearn.neural_network import MLPRegressor\n",
    "\n",
    "warnings.filterwarnings('ignore')\n",
    "pd.set_option(\"display.max_rows\", 1000)\n",
    "pd.set_option(\"display.max_columns\", 10000)"
   ]
  },
  {
   "cell_type": "code",
   "execution_count": 3,
   "id": "82b793d3",
   "metadata": {
    "scrolled": true
   },
   "outputs": [
    {
     "name": "stdout",
     "output_type": "stream",
     "text": [
      "This dataset has 473 rows and 9 columns\n"
     ]
    },
    {
     "data": {
      "text/html": [
       "<div>\n",
       "<style scoped>\n",
       "    .dataframe tbody tr th:only-of-type {\n",
       "        vertical-align: middle;\n",
       "    }\n",
       "\n",
       "    .dataframe tbody tr th {\n",
       "        vertical-align: top;\n",
       "    }\n",
       "\n",
       "    .dataframe thead th {\n",
       "        text-align: right;\n",
       "    }\n",
       "</style>\n",
       "<table border=\"1\" class=\"dataframe\">\n",
       "  <thead>\n",
       "    <tr style=\"text-align: right;\">\n",
       "      <th></th>\n",
       "      <th>salary</th>\n",
       "      <th>age</th>\n",
       "      <th>edu</th>\n",
       "      <th>startsal</th>\n",
       "      <th>jobtime</th>\n",
       "      <th>prevexp</th>\n",
       "      <th>minority</th>\n",
       "      <th>gender</th>\n",
       "      <th>jobcat</th>\n",
       "    </tr>\n",
       "  </thead>\n",
       "  <tbody>\n",
       "    <tr>\n",
       "      <th>0</th>\n",
       "      <td>57000</td>\n",
       "      <td>36</td>\n",
       "      <td>15</td>\n",
       "      <td>27000</td>\n",
       "      <td>98</td>\n",
       "      <td>144</td>\n",
       "      <td>no_min</td>\n",
       "      <td>m</td>\n",
       "      <td>manager</td>\n",
       "    </tr>\n",
       "    <tr>\n",
       "      <th>1</th>\n",
       "      <td>40200</td>\n",
       "      <td>30</td>\n",
       "      <td>16</td>\n",
       "      <td>18750</td>\n",
       "      <td>98</td>\n",
       "      <td>36</td>\n",
       "      <td>no_min</td>\n",
       "      <td>m</td>\n",
       "      <td>Clerical</td>\n",
       "    </tr>\n",
       "    <tr>\n",
       "      <th>2</th>\n",
       "      <td>21450</td>\n",
       "      <td>59</td>\n",
       "      <td>12</td>\n",
       "      <td>12000</td>\n",
       "      <td>98</td>\n",
       "      <td>381</td>\n",
       "      <td>no_min</td>\n",
       "      <td>f</td>\n",
       "      <td>Clerical</td>\n",
       "    </tr>\n",
       "    <tr>\n",
       "      <th>3</th>\n",
       "      <td>21900</td>\n",
       "      <td>41</td>\n",
       "      <td>8</td>\n",
       "      <td>13200</td>\n",
       "      <td>98</td>\n",
       "      <td>190</td>\n",
       "      <td>no_min</td>\n",
       "      <td>f</td>\n",
       "      <td>Clerical</td>\n",
       "    </tr>\n",
       "    <tr>\n",
       "      <th>4</th>\n",
       "      <td>45000</td>\n",
       "      <td>33</td>\n",
       "      <td>15</td>\n",
       "      <td>21000</td>\n",
       "      <td>98</td>\n",
       "      <td>138</td>\n",
       "      <td>no_min</td>\n",
       "      <td>m</td>\n",
       "      <td>Clerical</td>\n",
       "    </tr>\n",
       "  </tbody>\n",
       "</table>\n",
       "</div>"
      ],
      "text/plain": [
       "   salary  age  edu  startsal  jobtime  prevexp minority gender    jobcat\n",
       "0   57000   36   15     27000       98      144   no_min      m   manager\n",
       "1   40200   30   16     18750       98       36   no_min      m  Clerical\n",
       "2   21450   59   12     12000       98      381   no_min      f  Clerical\n",
       "3   21900   41    8     13200       98      190   no_min      f  Clerical\n",
       "4   45000   33   15     21000       98      138   no_min      m  Clerical"
      ]
     },
     "execution_count": 3,
     "metadata": {},
     "output_type": "execute_result"
    }
   ],
   "source": [
    "data = pd.read_excel(\"D:/files/research_activities/ORGANIZED_FILES/safeaipackage/examples/employee.xlsx\")\n",
    "print(\"This dataset has {} rows and {} columns\".format(data.shape[0], data.shape[1]))\n",
    "data.head()"
   ]
  },
  {
   "cell_type": "code",
   "execution_count": 4,
   "id": "2676a648",
   "metadata": {},
   "outputs": [
    {
     "data": {
      "text/html": [
       "<div>\n",
       "<style scoped>\n",
       "    .dataframe tbody tr th:only-of-type {\n",
       "        vertical-align: middle;\n",
       "    }\n",
       "\n",
       "    .dataframe tbody tr th {\n",
       "        vertical-align: top;\n",
       "    }\n",
       "\n",
       "    .dataframe thead th {\n",
       "        text-align: right;\n",
       "    }\n",
       "</style>\n",
       "<table border=\"1\" class=\"dataframe\">\n",
       "  <thead>\n",
       "    <tr style=\"text-align: right;\">\n",
       "      <th></th>\n",
       "      <th>salary</th>\n",
       "      <th>age</th>\n",
       "      <th>edu</th>\n",
       "      <th>startsal</th>\n",
       "      <th>jobtime</th>\n",
       "      <th>prevexp</th>\n",
       "      <th>minority</th>\n",
       "      <th>gender</th>\n",
       "      <th>jobcat_Clerical</th>\n",
       "      <th>jobcat_Custodial</th>\n",
       "      <th>jobcat_manager</th>\n",
       "    </tr>\n",
       "  </thead>\n",
       "  <tbody>\n",
       "    <tr>\n",
       "      <th>0</th>\n",
       "      <td>57000</td>\n",
       "      <td>36</td>\n",
       "      <td>15</td>\n",
       "      <td>27000</td>\n",
       "      <td>98</td>\n",
       "      <td>144</td>\n",
       "      <td>0</td>\n",
       "      <td>0</td>\n",
       "      <td>0</td>\n",
       "      <td>0</td>\n",
       "      <td>1</td>\n",
       "    </tr>\n",
       "    <tr>\n",
       "      <th>1</th>\n",
       "      <td>40200</td>\n",
       "      <td>30</td>\n",
       "      <td>16</td>\n",
       "      <td>18750</td>\n",
       "      <td>98</td>\n",
       "      <td>36</td>\n",
       "      <td>0</td>\n",
       "      <td>0</td>\n",
       "      <td>1</td>\n",
       "      <td>0</td>\n",
       "      <td>0</td>\n",
       "    </tr>\n",
       "    <tr>\n",
       "      <th>2</th>\n",
       "      <td>21450</td>\n",
       "      <td>59</td>\n",
       "      <td>12</td>\n",
       "      <td>12000</td>\n",
       "      <td>98</td>\n",
       "      <td>381</td>\n",
       "      <td>0</td>\n",
       "      <td>1</td>\n",
       "      <td>1</td>\n",
       "      <td>0</td>\n",
       "      <td>0</td>\n",
       "    </tr>\n",
       "    <tr>\n",
       "      <th>3</th>\n",
       "      <td>21900</td>\n",
       "      <td>41</td>\n",
       "      <td>8</td>\n",
       "      <td>13200</td>\n",
       "      <td>98</td>\n",
       "      <td>190</td>\n",
       "      <td>0</td>\n",
       "      <td>1</td>\n",
       "      <td>1</td>\n",
       "      <td>0</td>\n",
       "      <td>0</td>\n",
       "    </tr>\n",
       "    <tr>\n",
       "      <th>4</th>\n",
       "      <td>45000</td>\n",
       "      <td>33</td>\n",
       "      <td>15</td>\n",
       "      <td>21000</td>\n",
       "      <td>98</td>\n",
       "      <td>138</td>\n",
       "      <td>0</td>\n",
       "      <td>0</td>\n",
       "      <td>1</td>\n",
       "      <td>0</td>\n",
       "      <td>0</td>\n",
       "    </tr>\n",
       "  </tbody>\n",
       "</table>\n",
       "</div>"
      ],
      "text/plain": [
       "   salary  age  edu  startsal  jobtime  prevexp  minority  gender  \\\n",
       "0   57000   36   15     27000       98      144         0       0   \n",
       "1   40200   30   16     18750       98       36         0       0   \n",
       "2   21450   59   12     12000       98      381         0       1   \n",
       "3   21900   41    8     13200       98      190         0       1   \n",
       "4   45000   33   15     21000       98      138         0       0   \n",
       "\n",
       "   jobcat_Clerical  jobcat_Custodial  jobcat_manager  \n",
       "0                0                 0               1  \n",
       "1                1                 0               0  \n",
       "2                1                 0               0  \n",
       "3                1                 0               0  \n",
       "4                1                 0               0  "
      ]
     },
     "execution_count": 4,
     "metadata": {},
     "output_type": "execute_result"
    }
   ],
   "source": [
    "data[\"gender\"] = np.where(data[\"gender\"]==\"m\", 0, 1)\n",
    "data[\"minority\"] = np.where(data[\"minority\"]==\"no_min\", 0, 1)\n",
    "data = pd.get_dummies(data, columns=[\"jobcat\"])\n",
    "data.head()"
   ]
  },
  {
   "cell_type": "code",
   "execution_count": 5,
   "id": "fc4bb2e3",
   "metadata": {},
   "outputs": [
    {
     "data": {
      "text/html": [
       "<div>\n",
       "<style scoped>\n",
       "    .dataframe tbody tr th:only-of-type {\n",
       "        vertical-align: middle;\n",
       "    }\n",
       "\n",
       "    .dataframe tbody tr th {\n",
       "        vertical-align: top;\n",
       "    }\n",
       "\n",
       "    .dataframe thead th {\n",
       "        text-align: right;\n",
       "    }\n",
       "</style>\n",
       "<table border=\"1\" class=\"dataframe\">\n",
       "  <thead>\n",
       "    <tr style=\"text-align: right;\">\n",
       "      <th></th>\n",
       "      <th>age</th>\n",
       "      <th>edu</th>\n",
       "      <th>jobtime</th>\n",
       "      <th>prevexp</th>\n",
       "      <th>minority</th>\n",
       "      <th>gender</th>\n",
       "      <th>jobcat_Clerical</th>\n",
       "      <th>jobcat_Custodial</th>\n",
       "      <th>jobcat_manager</th>\n",
       "      <th>salary_growth</th>\n",
       "    </tr>\n",
       "  </thead>\n",
       "  <tbody>\n",
       "    <tr>\n",
       "      <th>0</th>\n",
       "      <td>36</td>\n",
       "      <td>15</td>\n",
       "      <td>98</td>\n",
       "      <td>144</td>\n",
       "      <td>0</td>\n",
       "      <td>0</td>\n",
       "      <td>0</td>\n",
       "      <td>0</td>\n",
       "      <td>1</td>\n",
       "      <td>30000</td>\n",
       "    </tr>\n",
       "    <tr>\n",
       "      <th>1</th>\n",
       "      <td>30</td>\n",
       "      <td>16</td>\n",
       "      <td>98</td>\n",
       "      <td>36</td>\n",
       "      <td>0</td>\n",
       "      <td>0</td>\n",
       "      <td>1</td>\n",
       "      <td>0</td>\n",
       "      <td>0</td>\n",
       "      <td>21450</td>\n",
       "    </tr>\n",
       "    <tr>\n",
       "      <th>2</th>\n",
       "      <td>59</td>\n",
       "      <td>12</td>\n",
       "      <td>98</td>\n",
       "      <td>381</td>\n",
       "      <td>0</td>\n",
       "      <td>1</td>\n",
       "      <td>1</td>\n",
       "      <td>0</td>\n",
       "      <td>0</td>\n",
       "      <td>9450</td>\n",
       "    </tr>\n",
       "    <tr>\n",
       "      <th>3</th>\n",
       "      <td>41</td>\n",
       "      <td>8</td>\n",
       "      <td>98</td>\n",
       "      <td>190</td>\n",
       "      <td>0</td>\n",
       "      <td>1</td>\n",
       "      <td>1</td>\n",
       "      <td>0</td>\n",
       "      <td>0</td>\n",
       "      <td>8700</td>\n",
       "    </tr>\n",
       "    <tr>\n",
       "      <th>4</th>\n",
       "      <td>33</td>\n",
       "      <td>15</td>\n",
       "      <td>98</td>\n",
       "      <td>138</td>\n",
       "      <td>0</td>\n",
       "      <td>0</td>\n",
       "      <td>1</td>\n",
       "      <td>0</td>\n",
       "      <td>0</td>\n",
       "      <td>24000</td>\n",
       "    </tr>\n",
       "  </tbody>\n",
       "</table>\n",
       "</div>"
      ],
      "text/plain": [
       "   age  edu  jobtime  prevexp  minority  gender  jobcat_Clerical  \\\n",
       "0   36   15       98      144         0       0                0   \n",
       "1   30   16       98       36         0       0                1   \n",
       "2   59   12       98      381         0       1                1   \n",
       "3   41    8       98      190         0       1                1   \n",
       "4   33   15       98      138         0       0                1   \n",
       "\n",
       "   jobcat_Custodial  jobcat_manager  salary_growth  \n",
       "0                 0               1          30000  \n",
       "1                 0               0          21450  \n",
       "2                 0               0           9450  \n",
       "3                 0               0           8700  \n",
       "4                 0               0          24000  "
      ]
     },
     "execution_count": 5,
     "metadata": {},
     "output_type": "execute_result"
    }
   ],
   "source": [
    "data[\"salary_growth\"] = data[\"salary\"]-data[\"startsal\"]\n",
    "\n",
    "data.drop([\"salary\", \"startsal\"], axis=1, inplace=True)\n",
    "data.head()"
   ]
  },
  {
   "cell_type": "code",
   "execution_count": 6,
   "id": "a7063206",
   "metadata": {},
   "outputs": [
    {
     "name": "stdout",
     "output_type": "stream",
     "text": [
      "(331, 9)\n"
     ]
    }
   ],
   "source": [
    "X = data.drop([\"salary_growth\"], axis=1)\n",
    "y = data[\"salary_growth\"]\n",
    "\n",
    "xtrain, xtest, ytrain, ytest = train_test_split(X, y, test_size=0.3, random_state=1)\n",
    "\n",
    "print(xtrain.shape)"
   ]
  },
  {
   "cell_type": "code",
   "execution_count": 7,
   "id": "3bf73d28",
   "metadata": {},
   "outputs": [
    {
     "data": {
      "text/plain": [
       "array([ 3953.9401448 ,  2649.5728026 ,  5670.15745654,  2652.09287437,\n",
       "        2639.15008448,  2473.63287694,  5814.9851976 ,  3456.35684027,\n",
       "        3222.19515467,  6067.69857788,  2556.8146545 ,  3198.40595931,\n",
       "        2598.30220343, 11024.54892796,  2855.97454025,  8094.00262865,\n",
       "        2681.46386069,  3484.34115342,  2189.16762331,  3212.47175565,\n",
       "        2616.31784594,  3578.2573465 ,  8363.05761723,  5986.12407982,\n",
       "        6164.56654738,  6210.03723025,  2532.27138063,  5851.18520695,\n",
       "        2670.90466419,  3614.97556115,  2700.07969269,  2412.77851204,\n",
       "        4659.20730621,  8661.68978784,  3120.05559088,  2586.61232513,\n",
       "        8684.1935276 , 10710.22886449,  2803.70575483,  4465.38451791,\n",
       "        2655.15364948,  3597.72227381,  3674.58615885,  2939.12365787,\n",
       "        4564.293529  ,  4585.11836207, 11368.53608657,  2828.67862207,\n",
       "        3638.06802452,  3176.40253847,  3530.49489338,  2967.10939425,\n",
       "        3234.81811061,  2365.84932451,  9321.64597015,  3166.69229478,\n",
       "        4028.11309179,  2595.74355865,  5383.63837359,  4094.48814226,\n",
       "        3822.02386221,  6405.00085104,  2722.63157569,  2103.97935978,\n",
       "        3990.78330376,  3701.37355077,  3618.47638133,  2715.55223181,\n",
       "        2211.17789758,  3689.9613955 ,  4390.93602929,  5403.29683557,\n",
       "        3738.82246135,  2685.5980132 ,  4046.30023578,  2858.04799288,\n",
       "        2978.04299181,  2973.68577097,  3229.54475031,  3450.45055748,\n",
       "        5472.34960668,  2272.92947007,  3345.01600299,  2966.54683369,\n",
       "        4072.63200095, 12129.48292883,  2847.01952871,  2612.56908793,\n",
       "        3683.64252682,  3699.65720824,  2211.17789758,  3099.89949145,\n",
       "        5667.76855483,  9851.65158246,  3801.79250903,  4320.71220336,\n",
       "        2453.87470055, 12818.58534818,  8172.08873736,  5046.1880001 ,\n",
       "        4032.20426605,  2721.48551447,  5016.30817383,  2783.48236737,\n",
       "        9423.35635265,  4444.9864526 ,  3309.89331763,  3580.73280954,\n",
       "        2858.20408413,  2062.20719229,  2840.69302077,  8067.77740575,\n",
       "        5233.46191723,  3442.84907628,  3977.17408495,  4212.28562016,\n",
       "        5097.99106846,  7145.16385532,  4833.25863109,  6328.0299256 ,\n",
       "        8564.18027642,  9375.55730228,  7813.26443859,  5032.00005187,\n",
       "        8538.58179985,  3624.74378787,  4017.532471  ,  6183.19794996,\n",
       "        8334.73722339,  4560.31532087,  2603.17030371,  2796.38781842,\n",
       "        3338.81816396,  4654.4947697 , 12219.46321583,  3108.68015746,\n",
       "        6089.58529018,  6122.15296095,  3369.65591279, 11888.80882858,\n",
       "        4047.76294929,  5142.83358127])"
      ]
     },
     "execution_count": 7,
     "metadata": {},
     "output_type": "execute_result"
    }
   ],
   "source": [
    "ann_full = MLPRegressor(random_state=1).fit(xtrain, ytrain)\n",
    "\n",
    "yhat = ann_full.predict(xtest)\n",
    "yhat"
   ]
  },
  {
   "cell_type": "markdown",
   "id": "615462d9",
   "metadata": {},
   "source": [
    "# ACCURACY"
   ]
  },
  {
   "cell_type": "markdown",
   "id": "78d2346f",
   "metadata": {},
   "source": [
    "## To check accuracy of the classification model, we can use the rga function defined in the \"check_accuracy\" module of \"safeaipackage\" python package"
   ]
  },
  {
   "cell_type": "code",
   "execution_count": 8,
   "id": "997e7da6",
   "metadata": {},
   "outputs": [],
   "source": [
    "#ACCURACY\n",
    "#rga = check_accuracy.rga(ytest, yhat)\n",
    "#rga"
   ]
  },
  {
   "cell_type": "code",
   "execution_count": 8,
   "id": "0a82b29e",
   "metadata": {},
   "outputs": [],
   "source": [
    "def rga(y, yhat):\n",
    "    \"\"\"\n",
    "     ### RANK GRADUATION ACCURACY (RGA) MEASURE ###\n",
    "     Function for the RGE measure computation\n",
    "     Inputs: y -> observed target variable values; \n",
    "             yhat -> predictions generated by the applied selected model\n",
    "    \"\"\" \n",
    "    y = pd.DataFrame(y).reset_index(drop=True)\n",
    "    yhat = pd.DataFrame(yhat).reset_index(drop=True)\n",
    "    df = pd.concat([y,yhat], axis=1)\n",
    "    df.columns = [\"y\", \"yhat\"]\n",
    "    ryhat = yhat.rank(method=\"min\")\n",
    "    df[\"ryhat\"] = ryhat\n",
    "    support = df.groupby('ryhat')['y'].mean().reset_index(name='support')\n",
    "    rord = list(range(len(y)))\n",
    "    for jj in range(len(rord)):\n",
    "        for ii in range(len(support)):\n",
    "                if df[\"ryhat\"][jj]== support['ryhat'][ii]:\n",
    "                    rord[jj] = support['support'][ii]\n",
    "    vals = [[i, values] for i, values in enumerate(df[\"yhat\"])]\n",
    "    ranks = [x[0] for x in sorted(vals, key= lambda item: item[1])]\n",
    "    ystar = [rord[i] for i in ranks]\n",
    "    I = list(range(len(y)))\n",
    "    conc = 2*sum([I[i]*ystar[i] for i in range(len(I))])\n",
    "    dec= 2*sum([sorted(df[\"y\"], reverse=True)[i]*I[i] for i in range(len(I))]) \n",
    "    inc = 2*sum([sorted(df[\"y\"])[i]*I[i] for i in range(len(I))]) \n",
    "    RGA=(conc-dec)/(inc-dec)\n",
    "    return RGA "
   ]
  },
  {
   "cell_type": "code",
   "execution_count": 9,
   "id": "7a5bab51",
   "metadata": {},
   "outputs": [
    {
     "data": {
      "text/plain": [
       "0.44783766135222947"
      ]
     },
     "execution_count": 9,
     "metadata": {},
     "output_type": "execute_result"
    }
   ],
   "source": [
    "rga(ytest, yhat)"
   ]
  },
  {
   "cell_type": "markdown",
   "id": "9a0f15b8",
   "metadata": {},
   "source": [
    "#### The higher RGA value (closer to one) the better concordance between the trained model and the actual values"
   ]
  },
  {
   "cell_type": "markdown",
   "id": "df7be81d",
   "metadata": {},
   "source": [
    "## \"check_accuracy\" module includes the rga_statistic_test function that is an RGA based test for comparing the predictive accuracy of a reduced model with that of a more complex model"
   ]
  },
  {
   "cell_type": "code",
   "execution_count": 11,
   "id": "7d4064d1",
   "metadata": {},
   "outputs": [],
   "source": [
    "#rga_pvalues = []\n",
    "#for i in xtrain.columns:\n",
    "#    xtrain_rm = xtrain.drop(i, axis=1)\n",
    "#    xtest_rm = xtest.drop(i, axis=1)\n",
    "#    model_rm = rf_model_full.fit(xtrain_rm, ytrain)\n",
    "#    yhat_rm = model_rm.predict(xtest_rm)\n",
    "#    rga_pvalues.append(check_accuracy.rga_statistic_test(ytest, yhat_rm, yhat))\n",
    "#print(pd.DataFrame(rga_pvalues, index=xtest.columns, columns=[\"P_value\"]))"
   ]
  },
  {
   "cell_type": "code",
   "execution_count": 10,
   "id": "91481d4d",
   "metadata": {},
   "outputs": [],
   "source": [
    "def _delta_function(data, func):\n",
    "        result = (func(data.iloc[:,0], data.iloc[:,2]))-(func(data.iloc[:,0], data.iloc[:,1]))\n",
    "        return result"
   ]
  },
  {
   "cell_type": "code",
   "execution_count": 11,
   "id": "1e5e810e",
   "metadata": {},
   "outputs": [],
   "source": [
    "def rga_statistic_test(y, yhat_rm, yhat_cm):\n",
    "        \"\"\"\n",
    "        RGA based test for comparing the predictive accuracy of a reduced model with that of a more complex model\n",
    "        \"\"\"\n",
    "        y = pd.DataFrame(y).reset_index(drop=True)\n",
    "        yhat_rm = pd.DataFrame(yhat_rm).reset_index(drop=True)\n",
    "        yhat_cm = pd.DataFrame(yhat_cm).reset_index(drop=True)\n",
    "        jk_mat = pd.concat([y,yhat_rm, yhat_cm], axis=1)\n",
    "        jk_mat.columns = [\"y\", \"yhat_rm\", \"yhat_cm\"]\n",
    "        n = len(jk_mat)\n",
    "        index = np.arange(n)\n",
    "        jk_results = []\n",
    "        for i in range(n):\n",
    "            jk_sample = jk_mat.drop(labels= i)\n",
    "            jk_sample.reset_index(drop=True, inplace=True)\n",
    "            jk_statistic = _delta_function(jk_sample, rga)\n",
    "            jk_results.append(jk_statistic)\n",
    "        se = np.sqrt(((n-1)/n)*(sum([(x-np.mean(jk_results))**2 for x in jk_results])))\n",
    "        z = (rga(y,yhat_cm)-rga(y,yhat_rm))/se\n",
    "        p_value = 2*scipy.stats.norm.cdf(-abs(z))\n",
    "        return p_value"
   ]
  },
  {
   "cell_type": "code",
   "execution_count": 13,
   "id": "9e5c5868",
   "metadata": {},
   "outputs": [
    {
     "name": "stdout",
     "output_type": "stream",
     "text": [
      "                   P_value\n",
      "age               0.422920\n",
      "edu               0.000451\n",
      "jobtime           0.324321\n",
      "prevexp           0.033590\n",
      "minority          0.207937\n",
      "gender            0.095277\n",
      "jobcat_Clerical   0.026258\n",
      "jobcat_Custodial  0.588315\n",
      "jobcat_manager    0.015082\n"
     ]
    }
   ],
   "source": [
    "rga_pvalues = []\n",
    "for i in xtrain.columns:\n",
    "    xtrain_rm = xtrain.drop(i, axis=1)\n",
    "    xtest_rm = xtest.drop(i, axis=1)\n",
    "    model_rm = ann_full.fit(xtrain_rm, ytrain)\n",
    "    yhat_rm = model_rm.predict(xtest_rm)\n",
    "    rga_pvalues.append(rga_statistic_test(ytest, yhat_rm, yhat))\n",
    "print(pd.DataFrame(rga_pvalues, index=xtest.columns, columns=[\"P_value\"]))"
   ]
  },
  {
   "cell_type": "markdown",
   "id": "2aaa462c",
   "metadata": {},
   "source": [
    "# EXPLAINABILITY"
   ]
  },
  {
   "cell_type": "markdown",
   "id": "af810f01",
   "metadata": {},
   "source": [
    "# To find the contribution of explanatory variables to the output of the model, we can use the rge function defined in the \"check_explainability\" module of \"safeaipackage\" python package"
   ]
  },
  {
   "cell_type": "code",
   "execution_count": 16,
   "id": "1411abc2",
   "metadata": {},
   "outputs": [],
   "source": [
    "#check_explainability.rge(xtrain, xtest, ytrain, ytest, rf_model_full)"
   ]
  },
  {
   "cell_type": "code",
   "execution_count": 14,
   "id": "0d8b8fc8",
   "metadata": {},
   "outputs": [],
   "source": [
    "def rge(xtrain, xtest, ytrain, ytest, model):\n",
    "    \"\"\"\n",
    "     ### RANK GRADUATION EXPLAINABILITY (RGE) MEASURE ###\n",
    "     Function for the RGE measure computation\n",
    "     Inputs: xtrain, xtest, ytrain, ytest -> the train and test data selected for training and testing the model; \n",
    "             model -> a classification or regression model. For example RandomForestClassifier() in ensemble module of sklearn.\n",
    "    \"\"\"    \n",
    "    xtrain = pd.DataFrame(xtrain).reset_index(drop=True)\n",
    "    xtest = pd.DataFrame(xtest).reset_index(drop=True)\n",
    "    ytrain = pd.DataFrame(ytrain).reset_index(drop=True)\n",
    "    ytest = pd.DataFrame(ytest).reset_index(drop=True)\n",
    "    rge_list = []\n",
    "    model_full = model.fit(xtrain, ytrain)\n",
    "    yhat = model_full.predict(xtest)\n",
    "    for i in xtrain.columns:\n",
    "         xtrain_rm = xtrain.drop(i, axis=1)\n",
    "         xtest_rm = xtest.drop(i, axis=1)\n",
    "         model_rm = model.fit(xtrain_rm, ytrain)\n",
    "         yhat_rm = model_rm.predict(xtest_rm)\n",
    "         rge_list.append(1-(rga(yhat, yhat_rm)))\n",
    "    rge_df = pd.DataFrame(rge_list, index=xtest.columns, columns=[\"RGE\"]).sort_values(by=\"RGE\", ascending=False)\n",
    "    plt.figure(figsize=(10, 6))\n",
    "    plt.barh(rge_df.index, rge_df[\"RGE\"])\n",
    "    plt.xlabel(\"RGE (Feature Importance)\")\n",
    "    plt.ylabel(\"Feature\")\n",
    "    plt.title(\"RGE\")\n",
    "    plt.show()\n",
    "    return rge_df"
   ]
  },
  {
   "cell_type": "code",
   "execution_count": 17,
   "id": "8f894bcb",
   "metadata": {},
   "outputs": [
    {
     "data": {
      "image/png": "[encoded data removed]",
      "text/plain": [
       "<Figure size 720x432 with 1 Axes>"
      ]
     },
     "metadata": {
      "needs_background": "light"
     },
     "output_type": "display_data"
    },
    {
     "data": {
      "text/html": [
       "<div>\n",
       "<style scoped>\n",
       "    .dataframe tbody tr th:only-of-type {\n",
       "        vertical-align: middle;\n",
       "    }\n",
       "\n",
       "    .dataframe tbody tr th {\n",
       "        vertical-align: top;\n",
       "    }\n",
       "\n",
       "    .dataframe thead th {\n",
       "        text-align: right;\n",
       "    }\n",
       "</style>\n",
       "<table border=\"1\" class=\"dataframe\">\n",
       "  <thead>\n",
       "    <tr style=\"text-align: right;\">\n",
       "      <th></th>\n",
       "      <th>RGE</th>\n",
       "    </tr>\n",
       "  </thead>\n",
       "  <tbody>\n",
       "    <tr>\n",
       "      <th>prevexp</th>\n",
       "      <td>0.130697</td>\n",
       "    </tr>\n",
       "    <tr>\n",
       "      <th>jobtime</th>\n",
       "      <td>0.003968</td>\n",
       "    </tr>\n",
       "    <tr>\n",
       "      <th>age</th>\n",
       "      <td>0.001621</td>\n",
       "    </tr>\n",
       "    <tr>\n",
       "      <th>edu</th>\n",
       "      <td>0.000180</td>\n",
       "    </tr>\n",
       "    <tr>\n",
       "      <th>jobcat_Clerical</th>\n",
       "      <td>0.000018</td>\n",
       "    </tr>\n",
       "    <tr>\n",
       "      <th>gender</th>\n",
       "      <td>0.000013</td>\n",
       "    </tr>\n",
       "    <tr>\n",
       "      <th>jobcat_manager</th>\n",
       "      <td>0.000011</td>\n",
       "    </tr>\n",
       "    <tr>\n",
       "      <th>minority</th>\n",
       "      <td>0.000009</td>\n",
       "    </tr>\n",
       "    <tr>\n",
       "      <th>jobcat_Custodial</th>\n",
       "      <td>0.000005</td>\n",
       "    </tr>\n",
       "  </tbody>\n",
       "</table>\n",
       "</div>"
      ],
      "text/plain": [
       "                       RGE\n",
       "prevexp           0.130697\n",
       "jobtime           0.003968\n",
       "age               0.001621\n",
       "edu               0.000180\n",
       "jobcat_Clerical   0.000018\n",
       "gender            0.000013\n",
       "jobcat_manager    0.000011\n",
       "minority          0.000009\n",
       "jobcat_Custodial  0.000005"
      ]
     },
     "execution_count": 17,
     "metadata": {},
     "output_type": "execute_result"
    }
   ],
   "source": [
    "rge(xtrain, xtest, ytrain, ytest, ann_full)"
   ]
  },
  {
   "cell_type": "markdown",
   "id": "cd12a96f",
   "metadata": {},
   "source": [
    "## Here, \"jobtime\" has the highest contribution with a value equal to 0.211268. This value means that..."
   ]
  },
  {
   "cell_type": "markdown",
   "id": "214c9b5c",
   "metadata": {},
   "source": [
    "# RGE test"
   ]
  },
  {
   "cell_type": "code",
   "execution_count": 18,
   "id": "9f2106e7",
   "metadata": {},
   "outputs": [],
   "source": [
    "xtrain_age = xtrain.drop(\"age\", axis=1)\n",
    "xtest_age = xtest.drop(\"age\", axis=1)\n",
    "\n",
    "ann_model_age = MLPRegressor(random_state=1).fit(xtrain_age, ytrain)\n",
    "yhat_age = ann_model_age.predict(xtest_age)"
   ]
  },
  {
   "cell_type": "code",
   "execution_count": 19,
   "id": "5bb5198a",
   "metadata": {},
   "outputs": [],
   "source": [
    "def rge_num(yhat, yhat_xk):\n",
    "    yhat = pd.DataFrame(yhat).reset_index(drop=True)\n",
    "    yhat_xk = pd.DataFrame(yhat_xk).reset_index(drop=True)\n",
    "    df = pd.concat([yhat,yhat_xk], axis=1)\n",
    "    df.columns = [\"yhat\", \"yhat_xk\"]\n",
    "    ryhat_xk = yhat_xk.rank(method=\"min\")\n",
    "    df[\"ryhat_xk\"] = ryhat_xk\n",
    "    support = df.groupby('ryhat_xk')['yhat'].mean().reset_index(name='support')\n",
    "    rord = list(range(len(yhat)))\n",
    "    for jj in range(len(rord)):\n",
    "        for ii in range(len(support)):\n",
    "                if df[\"ryhat_xk\"][jj]== support['ryhat_xk'][ii]:\n",
    "                    rord[jj] = support['support'][ii]\n",
    "    vals = [[i, values] for i, values in enumerate(df[\"yhat_xk\"])]\n",
    "    ranks = [x[0] for x in sorted(vals, key= lambda item: item[1])]\n",
    "    ystar = [rord[i] for i in ranks]\n",
    "    I = list(range(len(yhat)))\n",
    "    conc = 2*sum([I[i]*ystar[i] for i in range(len(I))])\n",
    "    dec= 2*sum([sorted(df[\"yhat\"], reverse=True)[i]*I[i] for i in range(len(I))]) \n",
    "    inc = 2*sum([sorted(df[\"yhat\"])[i]*I[i] for i in range(len(I))]) \n",
    "    RGE_num=(conc-dec)\n",
    "    return RGE_num "
   ]
  },
  {
   "cell_type": "code",
   "execution_count": 20,
   "id": "dd6d8c3b",
   "metadata": {},
   "outputs": [],
   "source": [
    "def rge_den(yhat):\n",
    "    yhat = pd.DataFrame(yhat)\n",
    "    yhat.columns = [\"yhat\"]\n",
    "    I = list(range(len(yhat)))\n",
    "    dec= 2*sum([yhat.sort_values(by=\"yhat\", ascending=False, ignore_index=True).iloc[i,0]*I[i] for i in range(len(I))]) \n",
    "    inc = 2*sum([yhat.sort_values(by=\"yhat\", ignore_index=True).iloc[i,0]*I[i] for i in range(len(I))]) \n",
    "    RGE_den=(inc-dec)\n",
    "    return RGE_den"
   ]
  },
  {
   "cell_type": "code",
   "execution_count": 21,
   "id": "19fc810d",
   "metadata": {},
   "outputs": [],
   "source": [
    "def delta_function(data):\n",
    "    return rge_den(data.iloc[:,0])-rge_num(data.iloc[:,0], data.iloc[:,1])"
   ]
  },
  {
   "cell_type": "code",
   "execution_count": 22,
   "id": "6e3a204e",
   "metadata": {},
   "outputs": [],
   "source": [
    "def rge_statistic_test(yhat, yhat_xk):\n",
    "        yhat = pd.DataFrame(yhat).reset_index(drop=True)\n",
    "        yhat_xk = pd.DataFrame(yhat_xk).reset_index(drop=True)\n",
    "        jk_mat = pd.concat([yhat, yhat_xk], axis=1, keys=[\"yhat\", \"yhat_xk\"])\n",
    "        n = len(jk_mat)\n",
    "        index = np.arange(n)\n",
    "        jk_results = []\n",
    "        for i in range(n):\n",
    "            jk_sample = jk_mat.iloc[[x for x in index if x != i],:]\n",
    "            jk_sample.reset_index(drop=True, inplace=True)\n",
    "            jk_statistic = delta_function(jk_sample)\n",
    "            jk_results.append(jk_statistic)\n",
    "        se = np.sqrt(((n-1)/n)*(sum([(x-np.mean(jk_results))**2 for x in jk_results])))\n",
    "        z = (rge_den(yhat)-rge_num(yhat,yhat_xk))/se\n",
    "        p_value = 2*scipy.stats.norm.cdf(-abs(z))\n",
    "        return p_value"
   ]
  },
  {
   "cell_type": "code",
   "execution_count": 23,
   "id": "ac66bcd4",
   "metadata": {},
   "outputs": [
    {
     "data": {
      "text/plain": [
       "0.012896120888167667"
      ]
     },
     "execution_count": 23,
     "metadata": {},
     "output_type": "execute_result"
    }
   ],
   "source": [
    "rge_statistic_test(yhat, yhat_age)"
   ]
  },
  {
   "cell_type": "markdown",
   "id": "841a8d90",
   "metadata": {},
   "source": [
    "# ROBUSTNESS"
   ]
  },
  {
   "cell_type": "code",
   "execution_count": 53,
   "id": "4e1770ce",
   "metadata": {},
   "outputs": [],
   "source": [
    "#check_robustness.rgr(xtrain, xtest, ytrain, ytest, rf_model_full)"
   ]
  },
  {
   "cell_type": "code",
   "execution_count": 24,
   "id": "162925d7",
   "metadata": {},
   "outputs": [],
   "source": [
    "def rgr(xtrain, xtest, ytrain, ytest, model):    \n",
    "    xtrain = pd.DataFrame(xtrain).reset_index(drop=True)\n",
    "    xtest = pd.DataFrame(xtest).reset_index(drop=True)\n",
    "    ytrain = pd.DataFrame(ytrain).reset_index(drop=True)\n",
    "    ytest = pd.DataFrame(ytest).reset_index(drop=True)\n",
    "    model_full = model.fit(xtrain, ytrain)\n",
    "    yhat = model_full.predict(xtest)\n",
    "    rgr_vals = []\n",
    "    for i in range(xtrain.shape[1]):\n",
    "        perturbed_xtrain = xtrain.reset_index(drop=True)\n",
    "        variable_perturbed = perturbed_xtrain.iloc[:,i]\n",
    "        sorted_data = np.sort(variable_perturbed)\n",
    "        percentile_5_index = int(np.ceil(0.15 * len(sorted_data)))\n",
    "        percentile_95_index = int(np.ceil(0.85 * len(sorted_data)))\n",
    "        values_before_5th_percentile = sorted_data[:percentile_5_index]\n",
    "        values_after_95th_percentile = sorted_data[percentile_95_index:]\n",
    "        vals = [[i, values] for i, values in enumerate(variable_perturbed)]\n",
    "        indices = [x[0] for x in sorted(vals, key= lambda item: item[1])]\n",
    "        lower_tail = indices[0:10]\n",
    "        upper_tail = (indices[-10:])\n",
    "        upper_tail = upper_tail[::-1]\n",
    "        perturbed_variable = variable_perturbed.copy()\n",
    "        for j in range(10):\n",
    "            perturbed_variable[lower_tail[j]] = variable_perturbed[upper_tail[j]]\n",
    "            perturbed_variable[upper_tail[j]] = variable_perturbed[lower_tail[j]]\n",
    "        perturbed_xtrain.iloc[:,i] = perturbed_variable\n",
    "        rf_perturbed = model.fit(perturbed_xtrain, ytrain)\n",
    "        yhat_pert = rf_perturbed.predict(xtest)\n",
    "        rgr_vals.append(rga(yhat, yhat_pert))\n",
    "    rgr_df = pd.DataFrame(rgr_vals, index=xtest.columns, columns=[\"RGR\"]).sort_values(by=\"RGR\", ascending=False)\n",
    "    return rgr_df"
   ]
  },
  {
   "cell_type": "code",
   "execution_count": 26,
   "id": "0fe8ff36",
   "metadata": {},
   "outputs": [
    {
     "data": {
      "text/html": [
       "<div>\n",
       "<style scoped>\n",
       "    .dataframe tbody tr th:only-of-type {\n",
       "        vertical-align: middle;\n",
       "    }\n",
       "\n",
       "    .dataframe tbody tr th {\n",
       "        vertical-align: top;\n",
       "    }\n",
       "\n",
       "    .dataframe thead th {\n",
       "        text-align: right;\n",
       "    }\n",
       "</style>\n",
       "<table border=\"1\" class=\"dataframe\">\n",
       "  <thead>\n",
       "    <tr style=\"text-align: right;\">\n",
       "      <th></th>\n",
       "      <th>RGR</th>\n",
       "    </tr>\n",
       "  </thead>\n",
       "  <tbody>\n",
       "    <tr>\n",
       "      <th>edu</th>\n",
       "      <td>1.0</td>\n",
       "    </tr>\n",
       "    <tr>\n",
       "      <th>jobtime</th>\n",
       "      <td>1.0</td>\n",
       "    </tr>\n",
       "    <tr>\n",
       "      <th>prevexp</th>\n",
       "      <td>1.0</td>\n",
       "    </tr>\n",
       "    <tr>\n",
       "      <th>minority</th>\n",
       "      <td>1.0</td>\n",
       "    </tr>\n",
       "    <tr>\n",
       "      <th>gender</th>\n",
       "      <td>1.0</td>\n",
       "    </tr>\n",
       "    <tr>\n",
       "      <th>jobcat_Custodial</th>\n",
       "      <td>1.0</td>\n",
       "    </tr>\n",
       "    <tr>\n",
       "      <th>jobcat_manager</th>\n",
       "      <td>1.0</td>\n",
       "    </tr>\n",
       "    <tr>\n",
       "      <th>age</th>\n",
       "      <td>1.0</td>\n",
       "    </tr>\n",
       "    <tr>\n",
       "      <th>jobcat_Clerical</th>\n",
       "      <td>1.0</td>\n",
       "    </tr>\n",
       "  </tbody>\n",
       "</table>\n",
       "</div>"
      ],
      "text/plain": [
       "                  RGR\n",
       "edu               1.0\n",
       "jobtime           1.0\n",
       "prevexp           1.0\n",
       "minority          1.0\n",
       "gender            1.0\n",
       "jobcat_Custodial  1.0\n",
       "jobcat_manager    1.0\n",
       "age               1.0\n",
       "jobcat_Clerical   1.0"
      ]
     },
     "execution_count": 26,
     "metadata": {},
     "output_type": "execute_result"
    }
   ],
   "source": [
    "rgr(xtrain, xtest, ytrain, ytest, ann_full)"
   ]
  },
  {
   "cell_type": "markdown",
   "id": "bd003774",
   "metadata": {},
   "source": [
    "## RGR test"
   ]
  },
  {
   "cell_type": "code",
   "execution_count": 27,
   "id": "1c717d3b",
   "metadata": {},
   "outputs": [],
   "source": [
    "### to need the rgr test, I need to have another model results\n",
    "\n",
    "from sklearn.linear_model import LinearRegression\n",
    "\n",
    "regression_model = LinearRegression().fit(xtrain,ytrain)\n",
    "reg_predictions_full = regression_model.predict(xtest)"
   ]
  },
  {
   "cell_type": "code",
   "execution_count": 33,
   "id": "09730155",
   "metadata": {},
   "outputs": [],
   "source": [
    "def rgr_statistic_test(yhat_mod1,yhat_mod2,yhat_pert_mod1,yhat_pert_mod2):\n",
    "        yhat_mod1 = pd.DataFrame(yhat_mod1).reset_index(drop=True)\n",
    "        yhat_mod2 = pd.DataFrame(yhat_mod2).reset_index(drop=True)\n",
    "        yhat_pert_mod1 = pd.DataFrame(yhat_pert_mod1).reset_index(drop=True)\n",
    "        yhat_pert_mod2 = pd.DataFrame(yhat_pert_mod2).reset_index(drop=True)\n",
    "        jk_mat = pd.concat([yhat_mod1,yhat_mod2,yhat_pert_mod1,yhat_pert_mod2], axis=1, keys=[\"yhat_mod1\", \n",
    "                                                                                        \"yhat_mode2\", \n",
    "                                                                                        \"yhat_pert_mode1\",\n",
    "                                                                                        \"yhat_pert_mode2\"])\n",
    "        n = len(jk_mat)\n",
    "        index = np.arange(n)\n",
    "        jk_results = []\n",
    "        for i in range(n):\n",
    "            jk_sample = jk_mat.iloc[[x for x in index if x != i],:]\n",
    "            jk_sample.reset_index(drop=True, inplace=True)\n",
    "            jk_statistic = _delta_function(jk_sample, rga)\n",
    "            jk_results.append(jk_statistic)\n",
    "        se = np.sqrt(((n-1)/n)*(sum([(x-np.mean(jk_results))**2 for x in jk_results])))\n",
    "        z = (rga(yhat_mod1, yhat_pert_mod1)- rga(yhat_mod2, yhat_pert_mod2))/se\n",
    "        p_value = 2*scipy.stats.norm.cdf(-abs(z))\n",
    "        return p_value"
   ]
  },
  {
   "cell_type": "code",
   "execution_count": 59,
   "id": "cd5434e4",
   "metadata": {},
   "outputs": [],
   "source": [
    "#xtrain_pert = xtrain.copy()\n",
    "#rgr_pvalues = []\n",
    "#for i in xtrain.columns:\n",
    "#    xtrain_pert[i] = np.random.permutation(xtrain[i])\n",
    "#    rf_perturbed = RandomForestClassifier(random_state=1).fit(xtrain_pert, ytrain)\n",
    "#    lr_perturbed = LogisticRegression(random_state=1).fit(xtrain_pert, ytrain)\n",
    "#    rf_yhat_pert = rf_perturbed.predict(xtest)\n",
    "#    lr_yhat_pert = lr_perturbed.predict(xtest)\n",
    "#    rgr_pvalues.append(check_robustness.rgr_statistic_test(rf_predictions_full,lr_predictions_full,rf_yhat_pert,lr_yhat_pert))\n",
    "#print(pd.DataFrame(rgr_pvalues, index=xtrain.columns, columns=[\"P_value\"]))"
   ]
  },
  {
   "cell_type": "code",
   "execution_count": 34,
   "id": "4e42deaf",
   "metadata": {},
   "outputs": [
    {
     "name": "stdout",
     "output_type": "stream",
     "text": [
      "                   P_value\n",
      "age               0.958229\n",
      "edu               0.912153\n",
      "jobtime           0.882948\n",
      "prevexp           0.543995\n",
      "minority          0.511310\n",
      "gender            0.652918\n",
      "jobcat_Clerical   0.614195\n",
      "jobcat_Custodial  0.548769\n",
      "jobcat_manager    0.327785\n"
     ]
    }
   ],
   "source": [
    "xtrain_pert = xtrain.copy()\n",
    "rgr_pvalues = []\n",
    "for i in xtrain.columns:\n",
    "    xtrain_pert[i] = np.random.permutation(xtrain[i])\n",
    "    rf_perturbed = MLPRegressor(random_state=1).fit(xtrain_pert, ytrain)\n",
    "    lr_perturbed = LinearRegression().fit(xtrain_pert, ytrain)\n",
    "    rf_yhat_pert = rf_perturbed.predict(xtest)\n",
    "    lr_yhat_pert = lr_perturbed.predict(xtest)\n",
    "    rgr_pvalues.append(rgr_statistic_test(yhat,reg_predictions_full,rf_yhat_pert,lr_yhat_pert))\n",
    "print(pd.DataFrame(rgr_pvalues, index=xtrain.columns, columns=[\"P_value\"]))"
   ]
  },
  {
   "cell_type": "markdown",
   "id": "93322647",
   "metadata": {},
   "source": [
    "# FAIRNESS"
   ]
  },
  {
   "cell_type": "code",
   "execution_count": 27,
   "id": "3893d787",
   "metadata": {},
   "outputs": [],
   "source": [
    "#print(check_fairness.rgf(xtrain, xtest, ytrain, ytest, [\"gender\", \"minority\"], rf_model_full))"
   ]
  },
  {
   "cell_type": "code",
   "execution_count": 35,
   "id": "c94dec56",
   "metadata": {},
   "outputs": [],
   "source": [
    "def rgf(xtrain, xtest, ytrain, ytest, protectedvariables, model):\n",
    "    \"\"\"\n",
    "     ### RANK GRADUATION FAIRNESS (RGF) MEASURE ###\n",
    "     Function for the RGF measure computation\n",
    "     Inputs: xtrain, xtest, ytrain, ytest -> the train and test data selected for training and testing the model;\n",
    "             protectedvariables -> a list of variables should be considered as the protected variables; \n",
    "             model -> a classification or regression model. For example RandomForestClassifier() in ensemble module of sklearn.\n",
    "    \"\"\"    \n",
    "    if not isinstance(protectedvariables, list):\n",
    "        raise ValueError(\"Protectedvariables input must be a list\")\n",
    "    xtrain = pd.DataFrame(xtrain).reset_index(drop=True)\n",
    "    xtest = pd.DataFrame(xtest).reset_index(drop=True)\n",
    "    ytrain = pd.DataFrame(ytrain).reset_index(drop=True)\n",
    "    ytest = pd.DataFrame(ytest).reset_index(drop=True)\n",
    "    for i in range(len(list(protectedvariables))):\n",
    "        if protectedvariables[i] not in xtrain:\n",
    "            raise ValueError(f\"{protectedvariables[i]} is not in the variables\")\n",
    "    rgf_list = []\n",
    "    model_full = model.fit(xtrain, ytrain)\n",
    "    yhat = model_full.predict(xtest)\n",
    "    for i in protectedvariables:\n",
    "         xtrain_pr = xtrain.drop(i, axis=1)\n",
    "         xtest_pr = xtest.drop(i, axis=1)\n",
    "         model_pr = model.fit(xtrain_pr, ytrain)\n",
    "         yhat_pr = model_pr.predict(xtest_pr)\n",
    "         rgf_list.append(rga(yhat, yhat_pr))\n",
    "    return pd.DataFrame(rgf_list, index=protectedvariables, columns=[\"RGF\"]).sort_values(by=\"RGF\", ascending=False)\n"
   ]
  },
  {
   "cell_type": "code",
   "execution_count": 36,
   "id": "0bc94de9",
   "metadata": {},
   "outputs": [
    {
     "data": {
      "text/html": [
       "<div>\n",
       "<style scoped>\n",
       "    .dataframe tbody tr th:only-of-type {\n",
       "        vertical-align: middle;\n",
       "    }\n",
       "\n",
       "    .dataframe tbody tr th {\n",
       "        vertical-align: top;\n",
       "    }\n",
       "\n",
       "    .dataframe thead th {\n",
       "        text-align: right;\n",
       "    }\n",
       "</style>\n",
       "<table border=\"1\" class=\"dataframe\">\n",
       "  <thead>\n",
       "    <tr style=\"text-align: right;\">\n",
       "      <th></th>\n",
       "      <th>RGF</th>\n",
       "    </tr>\n",
       "  </thead>\n",
       "  <tbody>\n",
       "    <tr>\n",
       "      <th>minority</th>\n",
       "      <td>0.999991</td>\n",
       "    </tr>\n",
       "    <tr>\n",
       "      <th>gender</th>\n",
       "      <td>0.999987</td>\n",
       "    </tr>\n",
       "  </tbody>\n",
       "</table>\n",
       "</div>"
      ],
      "text/plain": [
       "               RGF\n",
       "minority  0.999991\n",
       "gender    0.999987"
      ]
     },
     "execution_count": 36,
     "metadata": {},
     "output_type": "execute_result"
    }
   ],
   "source": [
    "rgf(xtrain, xtest, ytrain, ytest,[\"gender\", \"minority\"], ann_full)"
   ]
  },
  {
   "cell_type": "markdown",
   "id": "c9a20e94",
   "metadata": {},
   "source": [
    "# PRIVACY"
   ]
  },
  {
   "cell_type": "code",
   "execution_count": 33,
   "id": "14f21b19",
   "metadata": {},
   "outputs": [],
   "source": [
    "#print(check_privacy.rgp(xtrain, xtest, ytrain, ytest, rf_model_full))"
   ]
  },
  {
   "cell_type": "code",
   "execution_count": 37,
   "id": "8005bbff",
   "metadata": {},
   "outputs": [],
   "source": [
    "def rgp(xtrain, xtest, ytrain, ytest, index, model):\n",
    "    \"\"\"\n",
    "     ### RANK GRADUATION PRIVACY (RGP) MEASURE ###\n",
    "     Function for the RGP measure computation\n",
    "     Inputs: xtrain, xtest, ytrain, ytest -> the train and test data selected for training and testing the model;\n",
    "             index -> a list of indices to specify for which observations, privacy should be checked; \n",
    "             model -> a classification or regression model. For example RandomForestClassifier() in ensemble module of sklearn.\n",
    "    \"\"\"   \n",
    "    if not isinstance(index, list):\n",
    "        raise ValueError(\"Index input must be a list\")\n",
    "    xtrain = pd.DataFrame(xtrain).reset_index(drop=True)\n",
    "    xtest = pd.DataFrame(xtest).reset_index(drop=True)\n",
    "    ytrain = pd.DataFrame(ytrain).reset_index(drop=True)\n",
    "    ytest = pd.DataFrame(ytest).reset_index(drop=True)\n",
    "    rgp_list = []\n",
    "    model_full = model.fit(xtrain, ytrain)\n",
    "    yhat = model_full.predict(xtest)\n",
    "    for i in index:\n",
    "        if i in xtrain.index:\n",
    "            xtrain_rm = xtrain.drop(index=i, axis=0)\n",
    "            ytrain_rm = ytrain.drop(index=i, axis=0)\n",
    "            model_rm = model.fit(xtrain_rm, ytrain_rm)\n",
    "            yhat_rm = model_rm.predict(xtest)\n",
    "            rgp_list.append((1-rga(yhat, yhat_rm)))\n",
    "        else:\n",
    "            raise ValueError(f\"index {i} is not available\")\n",
    "    return pd.DataFrame(rgp_list, index=index, columns=[\"RGP\"])"
   ]
  },
  {
   "cell_type": "code",
   "execution_count": 39,
   "id": "22e4b25a",
   "metadata": {},
   "outputs": [
    {
     "data": {
      "text/html": [
       "<div>\n",
       "<style scoped>\n",
       "    .dataframe tbody tr th:only-of-type {\n",
       "        vertical-align: middle;\n",
       "    }\n",
       "\n",
       "    .dataframe tbody tr th {\n",
       "        vertical-align: top;\n",
       "    }\n",
       "\n",
       "    .dataframe thead th {\n",
       "        text-align: right;\n",
       "    }\n",
       "</style>\n",
       "<table border=\"1\" class=\"dataframe\">\n",
       "  <thead>\n",
       "    <tr style=\"text-align: right;\">\n",
       "      <th></th>\n",
       "      <th>RGP</th>\n",
       "    </tr>\n",
       "  </thead>\n",
       "  <tbody>\n",
       "    <tr>\n",
       "      <th>10</th>\n",
       "      <td>0.0</td>\n",
       "    </tr>\n",
       "    <tr>\n",
       "      <th>12</th>\n",
       "      <td>0.0</td>\n",
       "    </tr>\n",
       "  </tbody>\n",
       "</table>\n",
       "</div>"
      ],
      "text/plain": [
       "    RGP\n",
       "10  0.0\n",
       "12  0.0"
      ]
     },
     "execution_count": 39,
     "metadata": {},
     "output_type": "execute_result"
    }
   ],
   "source": [
    "rgp(xtrain, xtest, ytrain, ytest, [10,12], ann_full)"
   ]
  },
  {
   "cell_type": "markdown",
   "id": "bdedb469",
   "metadata": {},
   "source": [
    "# ###########"
   ]
  },
  {
   "cell_type": "code",
   "execution_count": 47,
   "id": "aceaf7d6",
   "metadata": {},
   "outputs": [],
   "source": [
    "def rgr(xtrain, xtest, ytrain, ytest, model):    \n",
    "    xtrain = pd.DataFrame(xtrain).reset_index(drop=True)\n",
    "    xtest = pd.DataFrame(xtest).reset_index(drop=True)\n",
    "    ytrain = pd.DataFrame(ytrain).reset_index(drop=True)\n",
    "    ytest = pd.DataFrame(ytest).reset_index(drop=True)\n",
    "    model_full = model.fit(xtrain, ytrain)\n",
    "    yhat = model_full.predict(xtest)\n",
    "    rgr_vals = []\n",
    "    for i in range(xtrain.shape[1]):\n",
    "        perturbed_xtrain = xtrain.reset_index(drop=True)\n",
    "        variable_perturbed = perturbed_xtrain.iloc[:,i]\n",
    "        sorted_data = np.sort(variable_perturbed)\n",
    "        percentile_5_index = int(np.ceil(0.3 * len(sorted_data)))\n",
    "        percentile_95_index = int(np.ceil(0.7 * len(sorted_data)))\n",
    "        values_before_5th_percentile = sorted_data[:percentile_5_index]\n",
    "        values_after_95th_percentile = sorted_data[percentile_95_index:]\n",
    "        vals = [[i, values] for i, values in enumerate(variable_perturbed)]\n",
    "        indices = [x[0] for x in sorted(vals, key= lambda item: item[1])]\n",
    "        lower_tail = indices[0:percentile_5_index]\n",
    "        upper_tail = (indices[-percentile_5_index:])\n",
    "        upper_tail = upper_tail[::-1]\n",
    "        for j in range(len(lower_tail)):\n",
    "            variable_perturbed[lower_tail[j]] = variable_perturbed[upper_tail[j]]\n",
    "            variable_perturbed[upper_tail[j]] = variable_perturbed[lower_tail[j]]\n",
    "        perturbed_xtrain.iloc[:,i] = variable_perturbed\n",
    "        rf_perturbed = model.fit(perturbed_xtrain, ytrain)\n",
    "        yhat_pert = rf_perturbed.predict(xtest)\n",
    "        rgr_vals.append(rga(yhat, yhat_pert))\n",
    "    rgr_df = pd.DataFrame(rgr_vals, index=xtest.columns, columns=[\"RGR\"]).sort_values(by=\"RGR\", ascending=False)\n",
    "    return rgr_df"
   ]
  },
  {
   "cell_type": "code",
   "execution_count": 48,
   "id": "7f421ea6",
   "metadata": {},
   "outputs": [
    {
     "data": {
      "text/html": [
       "<div>\n",
       "<style scoped>\n",
       "    .dataframe tbody tr th:only-of-type {\n",
       "        vertical-align: middle;\n",
       "    }\n",
       "\n",
       "    .dataframe tbody tr th {\n",
       "        vertical-align: top;\n",
       "    }\n",
       "\n",
       "    .dataframe thead th {\n",
       "        text-align: right;\n",
       "    }\n",
       "</style>\n",
       "<table border=\"1\" class=\"dataframe\">\n",
       "  <thead>\n",
       "    <tr style=\"text-align: right;\">\n",
       "      <th></th>\n",
       "      <th>RGR</th>\n",
       "    </tr>\n",
       "  </thead>\n",
       "  <tbody>\n",
       "    <tr>\n",
       "      <th>jobtime</th>\n",
       "      <td>1.000000</td>\n",
       "    </tr>\n",
       "    <tr>\n",
       "      <th>minority</th>\n",
       "      <td>1.000000</td>\n",
       "    </tr>\n",
       "    <tr>\n",
       "      <th>gender</th>\n",
       "      <td>1.000000</td>\n",
       "    </tr>\n",
       "    <tr>\n",
       "      <th>jobcat_Clerical</th>\n",
       "      <td>1.000000</td>\n",
       "    </tr>\n",
       "    <tr>\n",
       "      <th>jobcat_Custodial</th>\n",
       "      <td>1.000000</td>\n",
       "    </tr>\n",
       "    <tr>\n",
       "      <th>jobcat_manager</th>\n",
       "      <td>1.000000</td>\n",
       "    </tr>\n",
       "    <tr>\n",
       "      <th>edu</th>\n",
       "      <td>1.000000</td>\n",
       "    </tr>\n",
       "    <tr>\n",
       "      <th>age</th>\n",
       "      <td>1.000000</td>\n",
       "    </tr>\n",
       "    <tr>\n",
       "      <th>prevexp</th>\n",
       "      <td>0.999989</td>\n",
       "    </tr>\n",
       "  </tbody>\n",
       "</table>\n",
       "</div>"
      ],
      "text/plain": [
       "                       RGR\n",
       "jobtime           1.000000\n",
       "minority          1.000000\n",
       "gender            1.000000\n",
       "jobcat_Clerical   1.000000\n",
       "jobcat_Custodial  1.000000\n",
       "jobcat_manager    1.000000\n",
       "edu               1.000000\n",
       "age               1.000000\n",
       "prevexp           0.999989"
      ]
     },
     "execution_count": 48,
     "metadata": {},
     "output_type": "execute_result"
    }
   ],
   "source": [
    "rgr(xtrain, xtest, ytrain, ytest, ann_full)"
   ]
  }
 ],
 "metadata": {
  "kernelspec": {
   "display_name": "Python 3",
   "language": "python",
   "name": "python3"
  },
  "language_info": {
   "codemirror_mode": {
    "name": "ipython",
    "version": 3
   },
   "file_extension": ".py",
   "mimetype": "text/x-python",
   "name": "python",
   "nbconvert_exporter": "python",
   "pygments_lexer": "ipython3",
   "version": "3.8.8"
  }
 },
 "nbformat": 4,
 "nbformat_minor": 5
}
