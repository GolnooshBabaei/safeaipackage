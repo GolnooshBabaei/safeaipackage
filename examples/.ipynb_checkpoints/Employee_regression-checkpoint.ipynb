{
 "cells": [
  {
   "cell_type": "markdown",
   "id": "9f245402",
   "metadata": {},
   "source": [
    "# In this notebook, we show a classification example using the employee dataset. In this problem, the target variable is \"doubling_salary\" that shows if an employee would have a double or more salary. This binary target variable is equal to one when salary is doubles and zero otherwise. The explanatory variables include age, edu, jobtime, prevexp, minority, gender, and jobcat. Definition of these explanatory variables is presented in \n"
   ]
  },
  {
   "cell_type": "code",
   "execution_count": 2,
   "id": "99c9e2c5",
   "metadata": {},
   "outputs": [],
   "source": [
    "import pandas as pd\n",
    "import numpy as np\n",
    "import warnings\n",
    "import scipy\n",
    "import matplotlib.pyplot as plt\n",
    "from safeaipackage import check_accuracy, check_robustness, check_explainability, check_fairness, check_privacy\n",
    "from sklearn.model_selection import train_test_split\n",
    "from sklearn.ensemble import RandomForestClassifier\n",
    "\n",
    "warnings.filterwarnings('ignore')\n",
    "pd.set_option(\"display.max_rows\", 1000)\n",
    "pd.set_option(\"display.max_columns\", 10000)"
   ]
  },
  {
   "cell_type": "code",
   "execution_count": 3,
   "id": "82b793d3",
   "metadata": {
    "scrolled": true
   },
   "outputs": [
    {
     "name": "stdout",
     "output_type": "stream",
     "text": [
      "This dataset has 473 rows and 9 columns\n"
     ]
    },
    {
     "data": {
      "text/html": [
       "<div>\n",
       "<style scoped>\n",
       "    .dataframe tbody tr th:only-of-type {\n",
       "        vertical-align: middle;\n",
       "    }\n",
       "\n",
       "    .dataframe tbody tr th {\n",
       "        vertical-align: top;\n",
       "    }\n",
       "\n",
       "    .dataframe thead th {\n",
       "        text-align: right;\n",
       "    }\n",
       "</style>\n",
       "<table border=\"1\" class=\"dataframe\">\n",
       "  <thead>\n",
       "    <tr style=\"text-align: right;\">\n",
       "      <th></th>\n",
       "      <th>salary</th>\n",
       "      <th>age</th>\n",
       "      <th>edu</th>\n",
       "      <th>startsal</th>\n",
       "      <th>jobtime</th>\n",
       "      <th>prevexp</th>\n",
       "      <th>minority</th>\n",
       "      <th>gender</th>\n",
       "      <th>jobcat</th>\n",
       "    </tr>\n",
       "  </thead>\n",
       "  <tbody>\n",
       "    <tr>\n",
       "      <th>0</th>\n",
       "      <td>57000</td>\n",
       "      <td>36</td>\n",
       "      <td>15</td>\n",
       "      <td>27000</td>\n",
       "      <td>98</td>\n",
       "      <td>144</td>\n",
       "      <td>no_min</td>\n",
       "      <td>m</td>\n",
       "      <td>manager</td>\n",
       "    </tr>\n",
       "    <tr>\n",
       "      <th>1</th>\n",
       "      <td>40200</td>\n",
       "      <td>30</td>\n",
       "      <td>16</td>\n",
       "      <td>18750</td>\n",
       "      <td>98</td>\n",
       "      <td>36</td>\n",
       "      <td>no_min</td>\n",
       "      <td>m</td>\n",
       "      <td>Clerical</td>\n",
       "    </tr>\n",
       "    <tr>\n",
       "      <th>2</th>\n",
       "      <td>21450</td>\n",
       "      <td>59</td>\n",
       "      <td>12</td>\n",
       "      <td>12000</td>\n",
       "      <td>98</td>\n",
       "      <td>381</td>\n",
       "      <td>no_min</td>\n",
       "      <td>f</td>\n",
       "      <td>Clerical</td>\n",
       "    </tr>\n",
       "    <tr>\n",
       "      <th>3</th>\n",
       "      <td>21900</td>\n",
       "      <td>41</td>\n",
       "      <td>8</td>\n",
       "      <td>13200</td>\n",
       "      <td>98</td>\n",
       "      <td>190</td>\n",
       "      <td>no_min</td>\n",
       "      <td>f</td>\n",
       "      <td>Clerical</td>\n",
       "    </tr>\n",
       "    <tr>\n",
       "      <th>4</th>\n",
       "      <td>45000</td>\n",
       "      <td>33</td>\n",
       "      <td>15</td>\n",
       "      <td>21000</td>\n",
       "      <td>98</td>\n",
       "      <td>138</td>\n",
       "      <td>no_min</td>\n",
       "      <td>m</td>\n",
       "      <td>Clerical</td>\n",
       "    </tr>\n",
       "  </tbody>\n",
       "</table>\n",
       "</div>"
      ],
      "text/plain": [
       "   salary  age  edu  startsal  jobtime  prevexp minority gender    jobcat\n",
       "0   57000   36   15     27000       98      144   no_min      m   manager\n",
       "1   40200   30   16     18750       98       36   no_min      m  Clerical\n",
       "2   21450   59   12     12000       98      381   no_min      f  Clerical\n",
       "3   21900   41    8     13200       98      190   no_min      f  Clerical\n",
       "4   45000   33   15     21000       98      138   no_min      m  Clerical"
      ]
     },
     "execution_count": 3,
     "metadata": {},
     "output_type": "execute_result"
    }
   ],
   "source": [
    "data = pd.read_excel(\"D:/files/research_activities/ORGANIZED_FILES/safeaipackage/examples/employee.xlsx\")\n",
    "print(\"This dataset has {} rows and {} columns\".format(data.shape[0], data.shape[1]))\n",
    "data.head()"
   ]
  },
  {
   "cell_type": "code",
   "execution_count": 4,
   "id": "2676a648",
   "metadata": {},
   "outputs": [
    {
     "data": {
      "text/html": [
       "<div>\n",
       "<style scoped>\n",
       "    .dataframe tbody tr th:only-of-type {\n",
       "        vertical-align: middle;\n",
       "    }\n",
       "\n",
       "    .dataframe tbody tr th {\n",
       "        vertical-align: top;\n",
       "    }\n",
       "\n",
       "    .dataframe thead th {\n",
       "        text-align: right;\n",
       "    }\n",
       "</style>\n",
       "<table border=\"1\" class=\"dataframe\">\n",
       "  <thead>\n",
       "    <tr style=\"text-align: right;\">\n",
       "      <th></th>\n",
       "      <th>salary</th>\n",
       "      <th>age</th>\n",
       "      <th>edu</th>\n",
       "      <th>startsal</th>\n",
       "      <th>jobtime</th>\n",
       "      <th>prevexp</th>\n",
       "      <th>minority</th>\n",
       "      <th>gender</th>\n",
       "      <th>jobcat_Clerical</th>\n",
       "      <th>jobcat_Custodial</th>\n",
       "      <th>jobcat_manager</th>\n",
       "    </tr>\n",
       "  </thead>\n",
       "  <tbody>\n",
       "    <tr>\n",
       "      <th>0</th>\n",
       "      <td>57000</td>\n",
       "      <td>36</td>\n",
       "      <td>15</td>\n",
       "      <td>27000</td>\n",
       "      <td>98</td>\n",
       "      <td>144</td>\n",
       "      <td>0</td>\n",
       "      <td>0</td>\n",
       "      <td>0</td>\n",
       "      <td>0</td>\n",
       "      <td>1</td>\n",
       "    </tr>\n",
       "    <tr>\n",
       "      <th>1</th>\n",
       "      <td>40200</td>\n",
       "      <td>30</td>\n",
       "      <td>16</td>\n",
       "      <td>18750</td>\n",
       "      <td>98</td>\n",
       "      <td>36</td>\n",
       "      <td>0</td>\n",
       "      <td>0</td>\n",
       "      <td>1</td>\n",
       "      <td>0</td>\n",
       "      <td>0</td>\n",
       "    </tr>\n",
       "    <tr>\n",
       "      <th>2</th>\n",
       "      <td>21450</td>\n",
       "      <td>59</td>\n",
       "      <td>12</td>\n",
       "      <td>12000</td>\n",
       "      <td>98</td>\n",
       "      <td>381</td>\n",
       "      <td>0</td>\n",
       "      <td>1</td>\n",
       "      <td>1</td>\n",
       "      <td>0</td>\n",
       "      <td>0</td>\n",
       "    </tr>\n",
       "    <tr>\n",
       "      <th>3</th>\n",
       "      <td>21900</td>\n",
       "      <td>41</td>\n",
       "      <td>8</td>\n",
       "      <td>13200</td>\n",
       "      <td>98</td>\n",
       "      <td>190</td>\n",
       "      <td>0</td>\n",
       "      <td>1</td>\n",
       "      <td>1</td>\n",
       "      <td>0</td>\n",
       "      <td>0</td>\n",
       "    </tr>\n",
       "    <tr>\n",
       "      <th>4</th>\n",
       "      <td>45000</td>\n",
       "      <td>33</td>\n",
       "      <td>15</td>\n",
       "      <td>21000</td>\n",
       "      <td>98</td>\n",
       "      <td>138</td>\n",
       "      <td>0</td>\n",
       "      <td>0</td>\n",
       "      <td>1</td>\n",
       "      <td>0</td>\n",
       "      <td>0</td>\n",
       "    </tr>\n",
       "  </tbody>\n",
       "</table>\n",
       "</div>"
      ],
      "text/plain": [
       "   salary  age  edu  startsal  jobtime  prevexp  minority  gender  \\\n",
       "0   57000   36   15     27000       98      144         0       0   \n",
       "1   40200   30   16     18750       98       36         0       0   \n",
       "2   21450   59   12     12000       98      381         0       1   \n",
       "3   21900   41    8     13200       98      190         0       1   \n",
       "4   45000   33   15     21000       98      138         0       0   \n",
       "\n",
       "   jobcat_Clerical  jobcat_Custodial  jobcat_manager  \n",
       "0                0                 0               1  \n",
       "1                1                 0               0  \n",
       "2                1                 0               0  \n",
       "3                1                 0               0  \n",
       "4                1                 0               0  "
      ]
     },
     "execution_count": 4,
     "metadata": {},
     "output_type": "execute_result"
    }
   ],
   "source": [
    "data[\"gender\"] = np.where(data[\"gender\"]==\"m\", 0, 1)\n",
    "data[\"minority\"] = np.where(data[\"minority\"]==\"no_min\", 0, 1)\n",
    "data = pd.get_dummies(data, columns=[\"jobcat\"])\n",
    "data.head()"
   ]
  },
  {
   "cell_type": "code",
   "execution_count": 5,
   "id": "fc4bb2e3",
   "metadata": {},
   "outputs": [
    {
     "data": {
      "text/plain": [
       "0    253\n",
       "1    220\n",
       "Name: promoted, dtype: int64"
      ]
     },
     "execution_count": 5,
     "metadata": {},
     "output_type": "execute_result"
    }
   ],
   "source": [
    "data[\"promoted\"] = np.where(data[\"salary\"]/data[\"startsal\"] > 2,1,0)\n",
    "\n",
    "data[\"promoted\"].value_counts()"
   ]
  },
  {
   "cell_type": "code",
   "execution_count": 6,
   "id": "a7063206",
   "metadata": {},
   "outputs": [
    {
     "name": "stdout",
     "output_type": "stream",
     "text": [
      "(331, 9)\n",
      "(142, 9)\n"
     ]
    }
   ],
   "source": [
    "X = data.drop([\"promoted\", \"salary\", \"startsal\"], axis=1)\n",
    "y = data[\"promoted\"]\n",
    "\n",
    "xtrain, xtest, ytrain, ytest = train_test_split(X, y, test_size=0.3, random_state=1)\n",
    "\n",
    "print(xtrain.shape)\n",
    "print(xtest.shape)"
   ]
  },
  {
   "cell_type": "code",
   "execution_count": 7,
   "id": "3bf73d28",
   "metadata": {},
   "outputs": [
    {
     "data": {
      "text/plain": [
       "array([1, 1, 1, 1, 1, 1, 0, 0, 1, 0, 1, 0, 1, 0, 1, 1, 1, 0, 0, 0, 1, 1,\n",
       "       0, 0, 0, 0, 0, 0, 1, 1, 1, 0, 0, 0, 1, 1, 0, 0, 1, 1, 1, 1, 0, 0,\n",
       "       1, 0, 0, 1, 1, 1, 1, 1, 1, 1, 1, 0, 1, 0, 0, 1, 0, 0, 1, 0, 0, 0,\n",
       "       0, 1, 0, 0, 1, 0, 0, 1, 0, 0, 0, 1, 1, 1, 1, 0, 1, 1, 0, 1, 1, 1,\n",
       "       0, 1, 0, 1, 0, 0, 0, 0, 1, 0, 0, 1, 1, 1, 0, 0, 1, 0, 1, 1, 1, 0,\n",
       "       1, 0, 0, 1, 1, 1, 0, 1, 1, 0, 0, 0, 0, 0, 0, 0, 1, 0, 0, 1, 0, 1,\n",
       "       1, 0, 1, 0, 0, 0, 1, 1, 1, 0])"
      ]
     },
     "execution_count": 7,
     "metadata": {},
     "output_type": "execute_result"
    }
   ],
   "source": [
    "rf_model_full = RandomForestClassifier(random_state=1).fit(xtrain, ytrain)\n",
    "\n",
    "yhat = rf_model_full.predict(xtest)\n",
    "yhat"
   ]
  },
  {
   "cell_type": "markdown",
   "id": "615462d9",
   "metadata": {},
   "source": [
    "# ACCURACY"
   ]
  },
  {
   "cell_type": "markdown",
   "id": "78d2346f",
   "metadata": {},
   "source": [
    "## To check accuracy of the classification model, we can use the rga function defined in the \"check_accuracy\" module of \"safeaipackage\" python package"
   ]
  },
  {
   "cell_type": "code",
   "execution_count": 8,
   "id": "997e7da6",
   "metadata": {},
   "outputs": [],
   "source": [
    "#ACCURACY\n",
    "#rga = check_accuracy.rga(ytest, yhat)\n",
    "#rga"
   ]
  },
  {
   "cell_type": "code",
   "execution_count": 9,
   "id": "0a82b29e",
   "metadata": {},
   "outputs": [],
   "source": [
    "def rga(y, yhat):\n",
    "    \"\"\"\n",
    "     ### RANK GRADUATION ACCURACY (RGA) MEASURE ###\n",
    "     Function for the RGE measure computation\n",
    "     Inputs: y -> observed target variable values; \n",
    "             yhat -> predictions generated by the applied selected model\n",
    "    \"\"\" \n",
    "    y = pd.DataFrame(y).reset_index(drop=True)\n",
    "    yhat = pd.DataFrame(yhat).reset_index(drop=True)\n",
    "    df = pd.concat([y,yhat], axis=1)\n",
    "    df.columns = [\"y\", \"yhat\"]\n",
    "    ryhat = yhat.rank(method=\"min\")\n",
    "    df[\"ryhat\"] = ryhat\n",
    "    support = df.groupby('ryhat')['y'].mean().reset_index(name='support')\n",
    "    rord = list(range(len(y)))\n",
    "    for jj in range(len(rord)):\n",
    "        for ii in range(len(support)):\n",
    "                if df[\"ryhat\"][jj]== support['ryhat'][ii]:\n",
    "                    rord[jj] = support['support'][ii]\n",
    "    vals = [[i, values] for i, values in enumerate(df[\"yhat\"])]\n",
    "    ranks = [x[0] for x in sorted(vals, key= lambda item: item[1])]\n",
    "    ystar = [rord[i] for i in ranks]\n",
    "    I = list(range(len(y)))\n",
    "    conc = 2*sum([I[i]*ystar[i] for i in range(len(I))])\n",
    "    dec= 2*sum([sorted(df[\"y\"], reverse=True)[i]*I[i] for i in range(len(I))]) \n",
    "    inc = 2*sum([sorted(df[\"y\"])[i]*I[i] for i in range(len(I))]) \n",
    "    RGA=(conc-dec)/(inc-dec)\n",
    "    return RGA "
   ]
  },
  {
   "cell_type": "code",
   "execution_count": 10,
   "id": "7a5bab51",
   "metadata": {},
   "outputs": [
    {
     "data": {
      "text/plain": [
       "0.6848958333333334"
      ]
     },
     "execution_count": 10,
     "metadata": {},
     "output_type": "execute_result"
    }
   ],
   "source": [
    "rga(ytest, yhat)"
   ]
  },
  {
   "cell_type": "markdown",
   "id": "9a0f15b8",
   "metadata": {},
   "source": [
    "#### The higher RGA value (closer to one) the better concordance between the trained model and the actual values"
   ]
  },
  {
   "cell_type": "markdown",
   "id": "df7be81d",
   "metadata": {},
   "source": [
    "## \"check_accuracy\" module includes the rga_statistic_test function that is an RGA based test for comparing the predictive accuracy of a reduced model with that of a more complex model"
   ]
  },
  {
   "cell_type": "code",
   "execution_count": 11,
   "id": "7d4064d1",
   "metadata": {},
   "outputs": [],
   "source": [
    "#rga_pvalues = []\n",
    "#for i in xtrain.columns:\n",
    "#    xtrain_rm = xtrain.drop(i, axis=1)\n",
    "#    xtest_rm = xtest.drop(i, axis=1)\n",
    "#    model_rm = rf_model_full.fit(xtrain_rm, ytrain)\n",
    "#    yhat_rm = model_rm.predict(xtest_rm)\n",
    "#    rga_pvalues.append(check_accuracy.rga_statistic_test(ytest, yhat_rm, yhat))\n",
    "#print(pd.DataFrame(rga_pvalues, index=xtest.columns, columns=[\"P_value\"]))"
   ]
  },
  {
   "cell_type": "code",
   "execution_count": 14,
   "id": "91481d4d",
   "metadata": {},
   "outputs": [],
   "source": [
    "def _delta_function(data, func):\n",
    "        result = (func(data.iloc[:,0], data.iloc[:,2]))-(func(data.iloc[:,0], data.iloc[:,1]))\n",
    "        return result"
   ]
  },
  {
   "cell_type": "code",
   "execution_count": 12,
   "id": "1e5e810e",
   "metadata": {},
   "outputs": [],
   "source": [
    "def rga_statistic_test(y, yhat_rm, yhat_cm):\n",
    "        \"\"\"\n",
    "        RGA based test for comparing the predictive accuracy of a reduced model with that of a more complex model\n",
    "        \"\"\"\n",
    "        y = pd.DataFrame(y).reset_index(drop=True)\n",
    "        yhat_rm = pd.DataFrame(yhat_rm).reset_index(drop=True)\n",
    "        yhat_cm = pd.DataFrame(yhat_cm).reset_index(drop=True)\n",
    "        jk_mat = pd.concat([y,yhat_rm, yhat_cm], axis=1)\n",
    "        jk_mat.columns = [\"y\", \"yhat_rm\", \"yhat_cm\"]\n",
    "        n = len(jk_mat)\n",
    "        index = np.arange(n)\n",
    "        jk_results = []\n",
    "        for i in range(n):\n",
    "            jk_sample = jk_mat.drop(labels= i)\n",
    "            jk_sample.reset_index(drop=True, inplace=True)\n",
    "            jk_statistic = _delta_function(jk_sample, rga)\n",
    "            jk_results.append(jk_statistic)\n",
    "        se = np.sqrt(((n-1)/n)*(sum([(x-np.mean(jk_results))**2 for x in jk_results])))\n",
    "        z = (rga(y,yhat_cm)-rga(y,yhat_rm))/se\n",
    "        p_value = 2*scipy.stats.norm.cdf(-abs(z))\n",
    "        return p_value"
   ]
  },
  {
   "cell_type": "code",
   "execution_count": 15,
   "id": "9e5c5868",
   "metadata": {},
   "outputs": [
    {
     "name": "stdout",
     "output_type": "stream",
     "text": [
      "                   P_value\n",
      "age               0.425752\n",
      "edu               0.383272\n",
      "jobtime           0.563593\n",
      "prevexp           0.455730\n",
      "minority          0.353790\n",
      "gender            0.665772\n",
      "jobcat_Clerical   0.297502\n",
      "jobcat_Custodial  0.442390\n",
      "jobcat_manager    0.079890\n"
     ]
    }
   ],
   "source": [
    "rga_pvalues = []\n",
    "for i in xtrain.columns:\n",
    "    xtrain_rm = xtrain.drop(i, axis=1)\n",
    "    xtest_rm = xtest.drop(i, axis=1)\n",
    "    model_rm = rf_model_full.fit(xtrain_rm, ytrain)\n",
    "    yhat_rm = model_rm.predict(xtest_rm)\n",
    "    rga_pvalues.append(rga_statistic_test(ytest, yhat_rm, yhat))\n",
    "print(pd.DataFrame(rga_pvalues, index=xtest.columns, columns=[\"P_value\"]))"
   ]
  },
  {
   "cell_type": "markdown",
   "id": "2aaa462c",
   "metadata": {},
   "source": [
    "# EXPLAINABILITY"
   ]
  },
  {
   "cell_type": "markdown",
   "id": "af810f01",
   "metadata": {},
   "source": [
    "# To find the contribution of explanatory variables to the output of the model, we can use the rge function defined in the \"check_explainability\" module of \"safeaipackage\" python package"
   ]
  },
  {
   "cell_type": "code",
   "execution_count": 16,
   "id": "1411abc2",
   "metadata": {},
   "outputs": [],
   "source": [
    "#check_explainability.rge(xtrain, xtest, ytrain, ytest, rf_model_full)"
   ]
  },
  {
   "cell_type": "code",
   "execution_count": 19,
   "id": "0d8b8fc8",
   "metadata": {},
   "outputs": [],
   "source": [
    "def rge(xtrain, xtest, ytrain, ytest, model):\n",
    "    \"\"\"\n",
    "     ### RANK GRADUATION EXPLAINABILITY (RGE) MEASURE ###\n",
    "     Function for the RGE measure computation\n",
    "     Inputs: xtrain, xtest, ytrain, ytest -> the train and test data selected for training and testing the model; \n",
    "             model -> a classification or regression model. For example RandomForestClassifier() in ensemble module of sklearn.\n",
    "    \"\"\"    \n",
    "    xtrain = pd.DataFrame(xtrain).reset_index(drop=True)\n",
    "    xtest = pd.DataFrame(xtest).reset_index(drop=True)\n",
    "    ytrain = pd.DataFrame(ytrain).reset_index(drop=True)\n",
    "    ytest = pd.DataFrame(ytest).reset_index(drop=True)\n",
    "    rge_list = []\n",
    "    model_full = model.fit(xtrain, ytrain)\n",
    "    yhat = model_full.predict(xtest)\n",
    "    for i in xtrain.columns:\n",
    "         xtrain_rm = xtrain.drop(i, axis=1)\n",
    "         xtest_rm = xtest.drop(i, axis=1)\n",
    "         model_rm = model.fit(xtrain_rm, ytrain)\n",
    "         yhat_rm = model_rm.predict(xtest_rm)\n",
    "         rge_list.append(1-(rga(yhat, yhat_rm)))\n",
    "    rge_df = pd.DataFrame(rge_list, index=xtest.columns, columns=[\"RGE\"]).sort_values(by=\"RGE\", ascending=False)\n",
    "    plt.figure(figsize=(10, 6))\n",
    "    plt.barh(rge_df.index, rge_df[\"RGE\"])\n",
    "    plt.xlabel(\"RGE (Feature Importance)\")\n",
    "    plt.ylabel(\"Feature\")\n",
    "    plt.title(\"RGE\")\n",
    "    plt.show()\n",
    "    return rge_df"
   ]
  },
  {
   "cell_type": "code",
   "execution_count": 20,
   "id": "8f894bcb",
   "metadata": {},
   "outputs": [
    {
     "data": {
      "image/png": "[encoded data removed]",
      "text/plain": [
       "<Figure size 720x432 with 1 Axes>"
      ]
     },
     "metadata": {
      "needs_background": "light"
     },
     "output_type": "display_data"
    },
    {
     "data": {
      "text/html": [
       "<div>\n",
       "<style scoped>\n",
       "    .dataframe tbody tr th:only-of-type {\n",
       "        vertical-align: middle;\n",
       "    }\n",
       "\n",
       "    .dataframe tbody tr th {\n",
       "        vertical-align: top;\n",
       "    }\n",
       "\n",
       "    .dataframe thead th {\n",
       "        text-align: right;\n",
       "    }\n",
       "</style>\n",
       "<table border=\"1\" class=\"dataframe\">\n",
       "  <thead>\n",
       "    <tr style=\"text-align: right;\">\n",
       "      <th></th>\n",
       "      <th>RGE</th>\n",
       "    </tr>\n",
       "  </thead>\n",
       "  <tbody>\n",
       "    <tr>\n",
       "      <th>jobtime</th>\n",
       "      <td>0.211268</td>\n",
       "    </tr>\n",
       "    <tr>\n",
       "      <th>age</th>\n",
       "      <td>0.190141</td>\n",
       "    </tr>\n",
       "    <tr>\n",
       "      <th>prevexp</th>\n",
       "      <td>0.119718</td>\n",
       "    </tr>\n",
       "    <tr>\n",
       "      <th>edu</th>\n",
       "      <td>0.105634</td>\n",
       "    </tr>\n",
       "    <tr>\n",
       "      <th>jobcat_Clerical</th>\n",
       "      <td>0.098592</td>\n",
       "    </tr>\n",
       "    <tr>\n",
       "      <th>jobcat_manager</th>\n",
       "      <td>0.098592</td>\n",
       "    </tr>\n",
       "    <tr>\n",
       "      <th>minority</th>\n",
       "      <td>0.091549</td>\n",
       "    </tr>\n",
       "    <tr>\n",
       "      <th>gender</th>\n",
       "      <td>0.063380</td>\n",
       "    </tr>\n",
       "    <tr>\n",
       "      <th>jobcat_Custodial</th>\n",
       "      <td>0.056338</td>\n",
       "    </tr>\n",
       "  </tbody>\n",
       "</table>\n",
       "</div>"
      ],
      "text/plain": [
       "                       RGE\n",
       "jobtime           0.211268\n",
       "age               0.190141\n",
       "prevexp           0.119718\n",
       "edu               0.105634\n",
       "jobcat_Clerical   0.098592\n",
       "jobcat_manager    0.098592\n",
       "minority          0.091549\n",
       "gender            0.063380\n",
       "jobcat_Custodial  0.056338"
      ]
     },
     "execution_count": 20,
     "metadata": {},
     "output_type": "execute_result"
    }
   ],
   "source": [
    "rge(xtrain, xtest, ytrain, ytest, rf_model_full)"
   ]
  },
  {
   "cell_type": "markdown",
   "id": "cd12a96f",
   "metadata": {},
   "source": [
    "## Here, \"jobtime\" has the highest contribution with a value equal to 0.211268. This value means that..."
   ]
  },
  {
   "cell_type": "markdown",
   "id": "214c9b5c",
   "metadata": {},
   "source": [
    "# RGE test"
   ]
  },
  {
   "cell_type": "code",
   "execution_count": 21,
   "id": "9f2106e7",
   "metadata": {},
   "outputs": [],
   "source": [
    "xtrain_age = xtrain.drop(\"age\", axis=1)\n",
    "xtest_age = xtest.drop(\"age\", axis=1)\n",
    "\n",
    "rf_model_age = RandomForestClassifier(random_state=1).fit(xtrain_age, ytrain)\n",
    "yhat_age = rf_model_age.predict(xtest_age)"
   ]
  },
  {
   "cell_type": "code",
   "execution_count": 22,
   "id": "5bb5198a",
   "metadata": {},
   "outputs": [],
   "source": [
    "def rge_num(yhat, yhat_xk):\n",
    "    yhat = pd.DataFrame(yhat).reset_index(drop=True)\n",
    "    yhat_xk = pd.DataFrame(yhat_xk).reset_index(drop=True)\n",
    "    df = pd.concat([yhat,yhat_xk], axis=1)\n",
    "    df.columns = [\"yhat\", \"yhat_xk\"]\n",
    "    ryhat_xk = yhat_xk.rank(method=\"min\")\n",
    "    df[\"ryhat_xk\"] = ryhat_xk\n",
    "    support = df.groupby('ryhat_xk')['yhat'].mean().reset_index(name='support')\n",
    "    rord = list(range(len(yhat)))\n",
    "    for jj in range(len(rord)):\n",
    "        for ii in range(len(support)):\n",
    "                if df[\"ryhat_xk\"][jj]== support['ryhat_xk'][ii]:\n",
    "                    rord[jj] = support['support'][ii]\n",
    "    vals = [[i, values] for i, values in enumerate(df[\"yhat_xk\"])]\n",
    "    ranks = [x[0] for x in sorted(vals, key= lambda item: item[1])]\n",
    "    ystar = [rord[i] for i in ranks]\n",
    "    I = list(range(len(yhat)))\n",
    "    conc = 2*sum([I[i]*ystar[i] for i in range(len(I))])\n",
    "    dec= 2*sum([sorted(df[\"yhat\"], reverse=True)[i]*I[i] for i in range(len(I))]) \n",
    "    inc = 2*sum([sorted(df[\"yhat\"])[i]*I[i] for i in range(len(I))]) \n",
    "    RGE_num=(conc-dec)\n",
    "    return RGE_num "
   ]
  },
  {
   "cell_type": "code",
   "execution_count": 23,
   "id": "dd6d8c3b",
   "metadata": {},
   "outputs": [],
   "source": [
    "def rge_den(yhat):\n",
    "    yhat = pd.DataFrame(yhat)\n",
    "    yhat.columns = [\"yhat\"]\n",
    "    I = list(range(len(yhat)))\n",
    "    dec= 2*sum([yhat.sort_values(by=\"yhat\", ascending=False, ignore_index=True).iloc[i,0]*I[i] for i in range(len(I))]) \n",
    "    inc = 2*sum([yhat.sort_values(by=\"yhat\", ignore_index=True).iloc[i,0]*I[i] for i in range(len(I))]) \n",
    "    RGE_den=(inc-dec)\n",
    "    return RGE_den"
   ]
  },
  {
   "cell_type": "code",
   "execution_count": 24,
   "id": "19fc810d",
   "metadata": {},
   "outputs": [],
   "source": [
    "def delta_function(data):\n",
    "    return rge_den(data.iloc[:,0])-rge_num(data.iloc[:,0], data.iloc[:,1])"
   ]
  },
  {
   "cell_type": "code",
   "execution_count": 25,
   "id": "6e3a204e",
   "metadata": {},
   "outputs": [],
   "source": [
    "def rge_statistic_test(yhat, yhat_xk):\n",
    "        yhat = pd.DataFrame(yhat).reset_index(drop=True)\n",
    "        yhat_xk = pd.DataFrame(yhat_xk).reset_index(drop=True)\n",
    "        jk_mat = pd.concat([yhat, yhat_xk], axis=1, keys=[\"yhat\", \"yhat_xk\"])\n",
    "        n = len(jk_mat)\n",
    "        index = np.arange(n)\n",
    "        jk_results = []\n",
    "        for i in range(n):\n",
    "            jk_sample = jk_mat.iloc[[x for x in index if x != i],:]\n",
    "            jk_sample.reset_index(drop=True, inplace=True)\n",
    "            jk_statistic = delta_function(jk_sample)\n",
    "            jk_results.append(jk_statistic)\n",
    "        se = np.sqrt(((n-1)/n)*(sum([(x-np.mean(jk_results))**2 for x in jk_results])))\n",
    "        z = (rge_den(yhat)-rge_num(yhat,yhat_xk))/se\n",
    "        p_value = 2*scipy.stats.norm.cdf(-abs(z))\n",
    "        return p_value"
   ]
  },
  {
   "cell_type": "code",
   "execution_count": 26,
   "id": "ac66bcd4",
   "metadata": {},
   "outputs": [
    {
     "data": {
      "text/plain": [
       "4.317782439535485e-09"
      ]
     },
     "execution_count": 26,
     "metadata": {},
     "output_type": "execute_result"
    }
   ],
   "source": [
    "rge_statistic_test(yhat, yhat_age)"
   ]
  },
  {
   "cell_type": "markdown",
   "id": "841a8d90",
   "metadata": {},
   "source": [
    "# ROBUSTNESS"
   ]
  },
  {
   "cell_type": "code",
   "execution_count": 53,
   "id": "4e1770ce",
   "metadata": {},
   "outputs": [],
   "source": [
    "#check_robustness.rgr(xtrain, xtest, ytrain, ytest, rf_model_full)"
   ]
  },
  {
   "cell_type": "code",
   "execution_count": 54,
   "id": "162925d7",
   "metadata": {},
   "outputs": [],
   "source": [
    "def rgr(xtrain, xtest, ytrain, ytest, model):    \n",
    "    xtrain = pd.DataFrame(xtrain).reset_index(drop=True)\n",
    "    xtest = pd.DataFrame(xtest).reset_index(drop=True)\n",
    "    ytrain = pd.DataFrame(ytrain).reset_index(drop=True)\n",
    "    ytest = pd.DataFrame(ytest).reset_index(drop=True)\n",
    "    model_full = model.fit(xtrain, ytrain)\n",
    "    yhat = model_full.predict(xtest)\n",
    "    rgr_vals = []\n",
    "    for i in range(xtrain.shape[1]):\n",
    "        perturbed_xtrain = xtrain.reset_index(drop=True)\n",
    "        variable_perturbed = perturbed_xtrain.iloc[:,i]\n",
    "        sorted_data = np.sort(variable_perturbed)\n",
    "        percentile_5_index = int(np.ceil(0.15 * len(sorted_data)))\n",
    "        percentile_95_index = int(np.ceil(0.85 * len(sorted_data)))\n",
    "        values_before_5th_percentile = sorted_data[:percentile_5_index]\n",
    "        values_after_95th_percentile = sorted_data[percentile_95_index:]\n",
    "        vals = [[i, values] for i, values in enumerate(variable_perturbed)]\n",
    "        indices = [x[0] for x in sorted(vals, key= lambda item: item[1])]\n",
    "        lower_tail = indices[0:10]\n",
    "        upper_tail = (indices[-10:])\n",
    "        upper_tail = upper_tail[::-1]\n",
    "        perturbed_variable = variable_perturbed.copy()\n",
    "        for j in range(10):\n",
    "            perturbed_variable[lower_tail[j]] = variable_perturbed[upper_tail[j]]\n",
    "            perturbed_variable[upper_tail[j]] = variable_perturbed[lower_tail[j]]\n",
    "        perturbed_xtrain.iloc[:,i] = perturbed_variable\n",
    "        rf_perturbed = model.fit(perturbed_xtrain, ytrain)\n",
    "        yhat_pert = rf_perturbed.predict(xtest)\n",
    "        rgr_vals.append(rga(yhat, yhat_pert))\n",
    "    rgr_df = pd.DataFrame(rgr_vals, index=xtest.columns, columns=[\"RGR\"]).sort_values(by=\"RGR\", ascending=False)\n",
    "    return rgr_df"
   ]
  },
  {
   "cell_type": "code",
   "execution_count": 55,
   "id": "0fe8ff36",
   "metadata": {},
   "outputs": [
    {
     "data": {
      "text/html": [
       "<div>\n",
       "<style scoped>\n",
       "    .dataframe tbody tr th:only-of-type {\n",
       "        vertical-align: middle;\n",
       "    }\n",
       "\n",
       "    .dataframe tbody tr th {\n",
       "        vertical-align: top;\n",
       "    }\n",
       "\n",
       "    .dataframe thead th {\n",
       "        text-align: right;\n",
       "    }\n",
       "</style>\n",
       "<table border=\"1\" class=\"dataframe\">\n",
       "  <thead>\n",
       "    <tr style=\"text-align: right;\">\n",
       "      <th></th>\n",
       "      <th>RGR</th>\n",
       "    </tr>\n",
       "  </thead>\n",
       "  <tbody>\n",
       "    <tr>\n",
       "      <th>minority</th>\n",
       "      <td>0.964789</td>\n",
       "    </tr>\n",
       "    <tr>\n",
       "      <th>jobtime</th>\n",
       "      <td>0.943662</td>\n",
       "    </tr>\n",
       "    <tr>\n",
       "      <th>prevexp</th>\n",
       "      <td>0.936620</td>\n",
       "    </tr>\n",
       "    <tr>\n",
       "      <th>jobcat_manager</th>\n",
       "      <td>0.922535</td>\n",
       "    </tr>\n",
       "    <tr>\n",
       "      <th>jobcat_Clerical</th>\n",
       "      <td>0.922535</td>\n",
       "    </tr>\n",
       "    <tr>\n",
       "      <th>edu</th>\n",
       "      <td>0.915493</td>\n",
       "    </tr>\n",
       "    <tr>\n",
       "      <th>gender</th>\n",
       "      <td>0.901408</td>\n",
       "    </tr>\n",
       "    <tr>\n",
       "      <th>jobcat_Custodial</th>\n",
       "      <td>0.901408</td>\n",
       "    </tr>\n",
       "    <tr>\n",
       "      <th>age</th>\n",
       "      <td>0.894366</td>\n",
       "    </tr>\n",
       "  </tbody>\n",
       "</table>\n",
       "</div>"
      ],
      "text/plain": [
       "                       RGR\n",
       "minority          0.964789\n",
       "jobtime           0.943662\n",
       "prevexp           0.936620\n",
       "jobcat_manager    0.922535\n",
       "jobcat_Clerical   0.922535\n",
       "edu               0.915493\n",
       "gender            0.901408\n",
       "jobcat_Custodial  0.901408\n",
       "age               0.894366"
      ]
     },
     "execution_count": 55,
     "metadata": {},
     "output_type": "execute_result"
    }
   ],
   "source": [
    "rgr(xtrain, xtest, ytrain, ytest, rf_model_full)"
   ]
  },
  {
   "cell_type": "markdown",
   "id": "bd003774",
   "metadata": {},
   "source": [
    "## RGR test"
   ]
  },
  {
   "cell_type": "code",
   "execution_count": 56,
   "id": "1c717d3b",
   "metadata": {},
   "outputs": [
    {
     "data": {
      "text/plain": [
       "array([1, 1, 1, 1, 1, 1, 0, 1, 1, 1, 1, 1, 1, 0, 1, 1, 1, 0, 1, 0, 1, 0,\n",
       "       0, 1, 0, 0, 1, 0, 1, 1, 1, 1, 1, 0, 1, 1, 0, 0, 1, 1, 1, 1, 0, 0,\n",
       "       1, 0, 0, 1, 1, 1, 0, 0, 1, 1, 0, 0, 1, 1, 1, 1, 0, 0, 1, 1, 0, 0,\n",
       "       0, 1, 1, 1, 1, 0, 1, 1, 0, 0, 0, 1, 1, 0, 1, 1, 1, 1, 0, 0, 1, 1,\n",
       "       0, 1, 1, 1, 0, 0, 1, 0, 1, 0, 0, 1, 1, 1, 0, 0, 0, 0, 1, 0, 0, 1,\n",
       "       1, 0, 0, 1, 0, 1, 0, 0, 1, 1, 0, 0, 0, 0, 0, 1, 1, 0, 0, 1, 0, 1,\n",
       "       1, 0, 0, 0, 0, 0, 1, 0, 0, 0])"
      ]
     },
     "execution_count": 56,
     "metadata": {},
     "output_type": "execute_result"
    }
   ],
   "source": [
    "### to need the rgr test, I need to have another model results\n",
    "\n",
    "from sklearn.linear_model import LogisticRegression\n",
    "\n",
    "lr_model = LogisticRegression(random_state=1).fit(xtrain,ytrain)\n",
    "lr_predictions_full = lr_model.predict(xtest)\n",
    "lr_predictions_full"
   ]
  },
  {
   "cell_type": "code",
   "execution_count": 58,
   "id": "09730155",
   "metadata": {},
   "outputs": [],
   "source": [
    "def rgr_statistic_test(yhat_mod1,yhat_mod2,yhat_pert_mod1,yhat_pert_mod2):\n",
    "        yhat_mod1 = pd.DataFrame(yhat_mod1).reset_index(drop=True)\n",
    "        yhat_mod2 = pd.DataFrame(yhat_mod2).reset_index(drop=True)\n",
    "        yhat_pert_mod1 = pd.DataFrame(yhat_pert_mod1).reset_index(drop=True)\n",
    "        yhat_pert_mod2 = pd.DataFrame(yhat_pert_mod2).reset_index(drop=True)\n",
    "        jk_mat = pd.concat([yhat_mod1,yhat_mod2,yhat_pert_mod1,yhat_pert_mod2], axis=1, keys=[\"yhat_mod1\", \n",
    "                                                                                        \"yhat_mode2\", \n",
    "                                                                                        \"yhat_pert_mode1\",\n",
    "                                                                                        \"yhat_pert_mode2\"])\n",
    "        n = len(jk_mat)\n",
    "        index = np.arange(n)\n",
    "        jk_results = []\n",
    "        for i in range(n):\n",
    "            jk_sample = jk_mat.iloc[[x for x in index if x != i],:]\n",
    "            jk_sample.reset_index(drop=True, inplace=True)\n",
    "            jk_statistic = _delta_function(jk_sample, rgr_testfunc)\n",
    "            jk_results.append(jk_statistic)\n",
    "        se = np.sqrt(((n-1)/n)*(sum([(x-np.mean(jk_results))**2 for x in jk_results])))\n",
    "        z = (rga(yhat_mod1, yhat_pert_mod1)- rga(yhat_mod2, yhat_pert_mod2))/se\n",
    "        p_value = 2*scipy.stats.norm.cdf(-abs(z))\n",
    "        return p_value"
   ]
  },
  {
   "cell_type": "code",
   "execution_count": 59,
   "id": "cd5434e4",
   "metadata": {},
   "outputs": [],
   "source": [
    "#xtrain_pert = xtrain.copy()\n",
    "#rgr_pvalues = []\n",
    "#for i in xtrain.columns:\n",
    "#    xtrain_pert[i] = np.random.permutation(xtrain[i])\n",
    "#    rf_perturbed = RandomForestClassifier(random_state=1).fit(xtrain_pert, ytrain)\n",
    "#    lr_perturbed = LogisticRegression(random_state=1).fit(xtrain_pert, ytrain)\n",
    "#    rf_yhat_pert = rf_perturbed.predict(xtest)\n",
    "#    lr_yhat_pert = lr_perturbed.predict(xtest)\n",
    "#    rgr_pvalues.append(check_robustness.rgr_statistic_test(rf_predictions_full,lr_predictions_full,rf_yhat_pert,lr_yhat_pert))\n",
    "#print(pd.DataFrame(rgr_pvalues, index=xtrain.columns, columns=[\"P_value\"]))"
   ]
  },
  {
   "cell_type": "code",
   "execution_count": 61,
   "id": "4e42deaf",
   "metadata": {},
   "outputs": [
    {
     "name": "stdout",
     "output_type": "stream",
     "text": [
      "                   P_value\n",
      "age               0.447287\n",
      "edu               0.984797\n",
      "jobtime           0.502566\n",
      "prevexp           0.224458\n",
      "minority          0.046446\n",
      "gender            0.043578\n",
      "jobcat_Clerical   0.001613\n",
      "jobcat_Custodial  0.000020\n",
      "jobcat_manager    0.000008\n"
     ]
    }
   ],
   "source": [
    "xtrain_pert = xtrain.copy()\n",
    "rgr_pvalues = []\n",
    "for i in xtrain.columns:\n",
    "    xtrain_pert[i] = np.random.permutation(xtrain[i])\n",
    "    rf_perturbed = RandomForestClassifier(random_state=1).fit(xtrain_pert, ytrain)\n",
    "    lr_perturbed = LogisticRegression(random_state=1).fit(xtrain_pert, ytrain)\n",
    "    rf_yhat_pert = rf_perturbed.predict(xtest)\n",
    "    lr_yhat_pert = lr_perturbed.predict(xtest)\n",
    "    rgr_pvalues.append(rgr_statistic_test(yhat,lr_predictions_full,rf_yhat_pert,lr_yhat_pert))\n",
    "print(pd.DataFrame(rgr_pvalues, index=xtrain.columns, columns=[\"P_value\"]))"
   ]
  },
  {
   "cell_type": "markdown",
   "id": "93322647",
   "metadata": {},
   "source": [
    "# FAIRNESS"
   ]
  },
  {
   "cell_type": "code",
   "execution_count": 27,
   "id": "3893d787",
   "metadata": {},
   "outputs": [],
   "source": [
    "#print(check_fairness.rgf(xtrain, xtest, ytrain, ytest, [\"gender\", \"minority\"], rf_model_full))"
   ]
  },
  {
   "cell_type": "code",
   "execution_count": 28,
   "id": "c94dec56",
   "metadata": {},
   "outputs": [],
   "source": [
    "def rgf(xtrain, xtest, ytrain, ytest, protectedvariables, model):\n",
    "    \"\"\"\n",
    "     ### RANK GRADUATION FAIRNESS (RGF) MEASURE ###\n",
    "     Function for the RGF measure computation\n",
    "     Inputs: xtrain, xtest, ytrain, ytest -> the train and test data selected for training and testing the model;\n",
    "             protectedvariables -> a list of variables should be considered as the protected variables; \n",
    "             model -> a classification or regression model. For example RandomForestClassifier() in ensemble module of sklearn.\n",
    "    \"\"\"    \n",
    "    if not isinstance(protectedvariables, list):\n",
    "        raise ValueError(\"Protectedvariables input must be a list\")\n",
    "    xtrain = pd.DataFrame(xtrain).reset_index(drop=True)\n",
    "    xtest = pd.DataFrame(xtest).reset_index(drop=True)\n",
    "    ytrain = pd.DataFrame(ytrain).reset_index(drop=True)\n",
    "    ytest = pd.DataFrame(ytest).reset_index(drop=True)\n",
    "    for i in range(len(list(protectedvariables))):\n",
    "        if protectedvariables[i] not in xtrain:\n",
    "            raise ValueError(f\"{protectedvariables[i]} is not in the variables\")\n",
    "    rgf_list = []\n",
    "    model_full = model.fit(xtrain, ytrain)\n",
    "    yhat = model_full.predict(xtest)\n",
    "    for i in protectedvariables:\n",
    "         xtrain_pr = xtrain.drop(i, axis=1)\n",
    "         xtest_pr = xtest.drop(i, axis=1)\n",
    "         model_pr = model.fit(xtrain_pr, ytrain)\n",
    "         yhat_pr = model_pr.predict(xtest_pr)\n",
    "         rgf_list.append(rga(yhat, yhat_pr))\n",
    "    return pd.DataFrame(rgf_list, index=protectedvariables, columns=[\"RGF\"]).sort_values(by=\"RGF\", ascending=False)\n"
   ]
  },
  {
   "cell_type": "code",
   "execution_count": 32,
   "id": "0bc94de9",
   "metadata": {},
   "outputs": [
    {
     "data": {
      "text/html": [
       "<div>\n",
       "<style scoped>\n",
       "    .dataframe tbody tr th:only-of-type {\n",
       "        vertical-align: middle;\n",
       "    }\n",
       "\n",
       "    .dataframe tbody tr th {\n",
       "        vertical-align: top;\n",
       "    }\n",
       "\n",
       "    .dataframe thead th {\n",
       "        text-align: right;\n",
       "    }\n",
       "</style>\n",
       "<table border=\"1\" class=\"dataframe\">\n",
       "  <thead>\n",
       "    <tr style=\"text-align: right;\">\n",
       "      <th></th>\n",
       "      <th>RGF</th>\n",
       "    </tr>\n",
       "  </thead>\n",
       "  <tbody>\n",
       "    <tr>\n",
       "      <th>gender</th>\n",
       "      <td>0.936620</td>\n",
       "    </tr>\n",
       "    <tr>\n",
       "      <th>minority</th>\n",
       "      <td>0.908451</td>\n",
       "    </tr>\n",
       "  </tbody>\n",
       "</table>\n",
       "</div>"
      ],
      "text/plain": [
       "               RGF\n",
       "gender    0.936620\n",
       "minority  0.908451"
      ]
     },
     "execution_count": 32,
     "metadata": {},
     "output_type": "execute_result"
    }
   ],
   "source": [
    "rgf(xtrain, xtest, ytrain, ytest,[\"gender\", \"minority\"], rf_model_full)"
   ]
  },
  {
   "cell_type": "markdown",
   "id": "c9a20e94",
   "metadata": {},
   "source": [
    "# PRIVACY"
   ]
  },
  {
   "cell_type": "code",
   "execution_count": 33,
   "id": "14f21b19",
   "metadata": {},
   "outputs": [],
   "source": [
    "#print(check_privacy.rgp(xtrain, xtest, ytrain, ytest, rf_model_full))"
   ]
  },
  {
   "cell_type": "code",
   "execution_count": 49,
   "id": "8005bbff",
   "metadata": {},
   "outputs": [],
   "source": [
    "def rgp(xtrain, xtest, ytrain, ytest, index, model):\n",
    "    \"\"\"\n",
    "     ### RANK GRADUATION PRIVACY (RGP) MEASURE ###\n",
    "     Function for the RGP measure computation\n",
    "     Inputs: xtrain, xtest, ytrain, ytest -> the train and test data selected for training and testing the model;\n",
    "             index -> a list of indices to specify for which observations, privacy should be checked; \n",
    "             model -> a classification or regression model. For example RandomForestClassifier() in ensemble module of sklearn.\n",
    "    \"\"\"   \n",
    "    if not isinstance(index, list):\n",
    "        raise ValueError(\"Index input must be a list\")\n",
    "    xtrain = pd.DataFrame(xtrain).reset_index(drop=True)\n",
    "    xtest = pd.DataFrame(xtest).reset_index(drop=True)\n",
    "    ytrain = pd.DataFrame(ytrain).reset_index(drop=True)\n",
    "    ytest = pd.DataFrame(ytest).reset_index(drop=True)\n",
    "    rgp_list = []\n",
    "    model_full = model.fit(xtrain, ytrain)\n",
    "    yhat = model_full.predict(xtest)\n",
    "    for i in index:\n",
    "        if i in xtrain.index:\n",
    "            xtrain_rm = xtrain.drop(index=i, axis=0)\n",
    "            ytrain_rm = ytrain.drop(index=i, axis=0)\n",
    "            model_rm = model.fit(xtrain_rm, ytrain_rm)\n",
    "            yhat_rm = model_rm.predict(xtest)\n",
    "            rgp_list.append((1-rga(yhat, yhat_rm)))\n",
    "        else:\n",
    "            raise ValueError(f\"index {i} is not available\")\n",
    "    return pd.DataFrame(rgp_list, index=index, columns=[\"RGP\"])"
   ]
  },
  {
   "cell_type": "code",
   "execution_count": 51,
   "id": "22e4b25a",
   "metadata": {},
   "outputs": [
    {
     "data": {
      "text/html": [
       "<div>\n",
       "<style scoped>\n",
       "    .dataframe tbody tr th:only-of-type {\n",
       "        vertical-align: middle;\n",
       "    }\n",
       "\n",
       "    .dataframe tbody tr th {\n",
       "        vertical-align: top;\n",
       "    }\n",
       "\n",
       "    .dataframe thead th {\n",
       "        text-align: right;\n",
       "    }\n",
       "</style>\n",
       "<table border=\"1\" class=\"dataframe\">\n",
       "  <thead>\n",
       "    <tr style=\"text-align: right;\">\n",
       "      <th></th>\n",
       "      <th>RGP</th>\n",
       "    </tr>\n",
       "  </thead>\n",
       "  <tbody>\n",
       "    <tr>\n",
       "      <th>10</th>\n",
       "      <td>0.056338</td>\n",
       "    </tr>\n",
       "    <tr>\n",
       "      <th>12</th>\n",
       "      <td>0.070423</td>\n",
       "    </tr>\n",
       "  </tbody>\n",
       "</table>\n",
       "</div>"
      ],
      "text/plain": [
       "         RGP\n",
       "10  0.056338\n",
       "12  0.070423"
      ]
     },
     "execution_count": 51,
     "metadata": {},
     "output_type": "execute_result"
    }
   ],
   "source": [
    "rgp(xtrain, xtest, ytrain, ytest, [10,12], rf_model_full)"
   ]
  },
  {
   "cell_type": "code",
   "execution_count": null,
   "id": "d188b950",
   "metadata": {},
   "outputs": [],
   "source": []
  }
 ],
 "metadata": {
  "kernelspec": {
   "display_name": "Python 3",
   "language": "python",
   "name": "python3"
  },
  "language_info": {
   "codemirror_mode": {
    "name": "ipython",
    "version": 3
   },
   "file_extension": ".py",
   "mimetype": "text/x-python",
   "name": "python",
   "nbconvert_exporter": "python",
   "pygments_lexer": "ipython3",
   "version": "3.8.8"
  }
 },
 "nbformat": 4,
 "nbformat_minor": 5
}
