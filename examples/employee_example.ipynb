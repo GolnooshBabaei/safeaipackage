{
 "cells": [
  {
   "cell_type": "code",
   "execution_count": 2,
   "id": "99c9e2c5",
   "metadata": {},
   "outputs": [],
   "source": [
    "import pandas as pd\n",
    "import numpy as np\n",
    "import warnings\n",
    "import scipy\n",
    "import matplotlib.pyplot as plt\n",
    "from safeaipackage import check_accuracy, check_robustness, check_explainability\n",
    "from sklearn.model_selection import train_test_split\n",
    "from sklearn.ensemble import RandomForestClassifier\n",
    "\n",
    "warnings.filterwarnings('ignore')\n",
    "pd.set_option(\"display.max_rows\", 1000)\n",
    "pd.set_option(\"display.max_columns\", 10000)"
   ]
  },
  {
   "cell_type": "code",
   "execution_count": 9,
   "id": "82b793d3",
   "metadata": {
    "scrolled": true
   },
   "outputs": [
    {
     "name": "stdout",
     "output_type": "stream",
     "text": [
      "This dataset has 473 rows and 9 columns\n"
     ]
    },
    {
     "data": {
      "text/html": [
       "<div>\n",
       "<style scoped>\n",
       "    .dataframe tbody tr th:only-of-type {\n",
       "        vertical-align: middle;\n",
       "    }\n",
       "\n",
       "    .dataframe tbody tr th {\n",
       "        vertical-align: top;\n",
       "    }\n",
       "\n",
       "    .dataframe thead th {\n",
       "        text-align: right;\n",
       "    }\n",
       "</style>\n",
       "<table border=\"1\" class=\"dataframe\">\n",
       "  <thead>\n",
       "    <tr style=\"text-align: right;\">\n",
       "      <th></th>\n",
       "      <th>salary</th>\n",
       "      <th>age</th>\n",
       "      <th>edu</th>\n",
       "      <th>startsal</th>\n",
       "      <th>jobtime</th>\n",
       "      <th>prevexp</th>\n",
       "      <th>minority</th>\n",
       "      <th>gender</th>\n",
       "      <th>jobcat</th>\n",
       "    </tr>\n",
       "  </thead>\n",
       "  <tbody>\n",
       "    <tr>\n",
       "      <th>0</th>\n",
       "      <td>57000</td>\n",
       "      <td>36</td>\n",
       "      <td>15</td>\n",
       "      <td>27000</td>\n",
       "      <td>98</td>\n",
       "      <td>144</td>\n",
       "      <td>no_min</td>\n",
       "      <td>m</td>\n",
       "      <td>manager</td>\n",
       "    </tr>\n",
       "    <tr>\n",
       "      <th>1</th>\n",
       "      <td>40200</td>\n",
       "      <td>30</td>\n",
       "      <td>16</td>\n",
       "      <td>18750</td>\n",
       "      <td>98</td>\n",
       "      <td>36</td>\n",
       "      <td>no_min</td>\n",
       "      <td>m</td>\n",
       "      <td>Clerical</td>\n",
       "    </tr>\n",
       "    <tr>\n",
       "      <th>2</th>\n",
       "      <td>21450</td>\n",
       "      <td>59</td>\n",
       "      <td>12</td>\n",
       "      <td>12000</td>\n",
       "      <td>98</td>\n",
       "      <td>381</td>\n",
       "      <td>no_min</td>\n",
       "      <td>f</td>\n",
       "      <td>Clerical</td>\n",
       "    </tr>\n",
       "    <tr>\n",
       "      <th>3</th>\n",
       "      <td>21900</td>\n",
       "      <td>41</td>\n",
       "      <td>8</td>\n",
       "      <td>13200</td>\n",
       "      <td>98</td>\n",
       "      <td>190</td>\n",
       "      <td>no_min</td>\n",
       "      <td>f</td>\n",
       "      <td>Clerical</td>\n",
       "    </tr>\n",
       "    <tr>\n",
       "      <th>4</th>\n",
       "      <td>45000</td>\n",
       "      <td>33</td>\n",
       "      <td>15</td>\n",
       "      <td>21000</td>\n",
       "      <td>98</td>\n",
       "      <td>138</td>\n",
       "      <td>no_min</td>\n",
       "      <td>m</td>\n",
       "      <td>Clerical</td>\n",
       "    </tr>\n",
       "  </tbody>\n",
       "</table>\n",
       "</div>"
      ],
      "text/plain": [
       "   salary  age  edu  startsal  jobtime  prevexp minority gender    jobcat\n",
       "0   57000   36   15     27000       98      144   no_min      m   manager\n",
       "1   40200   30   16     18750       98       36   no_min      m  Clerical\n",
       "2   21450   59   12     12000       98      381   no_min      f  Clerical\n",
       "3   21900   41    8     13200       98      190   no_min      f  Clerical\n",
       "4   45000   33   15     21000       98      138   no_min      m  Clerical"
      ]
     },
     "execution_count": 9,
     "metadata": {},
     "output_type": "execute_result"
    }
   ],
   "source": [
    "data = pd.read_excel(\"D:/files/research_activities/ORGANIZED_FILES/safeaipackage/notebooks/employee.xlsx\")\n",
    "print(\"This dataset has {} rows and {} columns\".format(data.shape[0], data.shape[1]))\n",
    "data.head()"
   ]
  },
  {
   "cell_type": "code",
   "execution_count": 10,
   "id": "2676a648",
   "metadata": {},
   "outputs": [
    {
     "data": {
      "text/html": [
       "<div>\n",
       "<style scoped>\n",
       "    .dataframe tbody tr th:only-of-type {\n",
       "        vertical-align: middle;\n",
       "    }\n",
       "\n",
       "    .dataframe tbody tr th {\n",
       "        vertical-align: top;\n",
       "    }\n",
       "\n",
       "    .dataframe thead th {\n",
       "        text-align: right;\n",
       "    }\n",
       "</style>\n",
       "<table border=\"1\" class=\"dataframe\">\n",
       "  <thead>\n",
       "    <tr style=\"text-align: right;\">\n",
       "      <th></th>\n",
       "      <th>salary</th>\n",
       "      <th>age</th>\n",
       "      <th>edu</th>\n",
       "      <th>startsal</th>\n",
       "      <th>jobtime</th>\n",
       "      <th>prevexp</th>\n",
       "      <th>minority</th>\n",
       "      <th>gender</th>\n",
       "      <th>jobcat_Clerical</th>\n",
       "      <th>jobcat_Custodial</th>\n",
       "      <th>jobcat_manager</th>\n",
       "    </tr>\n",
       "  </thead>\n",
       "  <tbody>\n",
       "    <tr>\n",
       "      <th>0</th>\n",
       "      <td>57000</td>\n",
       "      <td>36</td>\n",
       "      <td>15</td>\n",
       "      <td>27000</td>\n",
       "      <td>98</td>\n",
       "      <td>144</td>\n",
       "      <td>0</td>\n",
       "      <td>0</td>\n",
       "      <td>0</td>\n",
       "      <td>0</td>\n",
       "      <td>1</td>\n",
       "    </tr>\n",
       "    <tr>\n",
       "      <th>1</th>\n",
       "      <td>40200</td>\n",
       "      <td>30</td>\n",
       "      <td>16</td>\n",
       "      <td>18750</td>\n",
       "      <td>98</td>\n",
       "      <td>36</td>\n",
       "      <td>0</td>\n",
       "      <td>0</td>\n",
       "      <td>1</td>\n",
       "      <td>0</td>\n",
       "      <td>0</td>\n",
       "    </tr>\n",
       "    <tr>\n",
       "      <th>2</th>\n",
       "      <td>21450</td>\n",
       "      <td>59</td>\n",
       "      <td>12</td>\n",
       "      <td>12000</td>\n",
       "      <td>98</td>\n",
       "      <td>381</td>\n",
       "      <td>0</td>\n",
       "      <td>1</td>\n",
       "      <td>1</td>\n",
       "      <td>0</td>\n",
       "      <td>0</td>\n",
       "    </tr>\n",
       "    <tr>\n",
       "      <th>3</th>\n",
       "      <td>21900</td>\n",
       "      <td>41</td>\n",
       "      <td>8</td>\n",
       "      <td>13200</td>\n",
       "      <td>98</td>\n",
       "      <td>190</td>\n",
       "      <td>0</td>\n",
       "      <td>1</td>\n",
       "      <td>1</td>\n",
       "      <td>0</td>\n",
       "      <td>0</td>\n",
       "    </tr>\n",
       "    <tr>\n",
       "      <th>4</th>\n",
       "      <td>45000</td>\n",
       "      <td>33</td>\n",
       "      <td>15</td>\n",
       "      <td>21000</td>\n",
       "      <td>98</td>\n",
       "      <td>138</td>\n",
       "      <td>0</td>\n",
       "      <td>0</td>\n",
       "      <td>1</td>\n",
       "      <td>0</td>\n",
       "      <td>0</td>\n",
       "    </tr>\n",
       "  </tbody>\n",
       "</table>\n",
       "</div>"
      ],
      "text/plain": [
       "   salary  age  edu  startsal  jobtime  prevexp  minority  gender  \\\n",
       "0   57000   36   15     27000       98      144         0       0   \n",
       "1   40200   30   16     18750       98       36         0       0   \n",
       "2   21450   59   12     12000       98      381         0       1   \n",
       "3   21900   41    8     13200       98      190         0       1   \n",
       "4   45000   33   15     21000       98      138         0       0   \n",
       "\n",
       "   jobcat_Clerical  jobcat_Custodial  jobcat_manager  \n",
       "0                0                 0               1  \n",
       "1                1                 0               0  \n",
       "2                1                 0               0  \n",
       "3                1                 0               0  \n",
       "4                1                 0               0  "
      ]
     },
     "execution_count": 10,
     "metadata": {},
     "output_type": "execute_result"
    }
   ],
   "source": [
    "data[\"gender\"] = np.where(data[\"gender\"]==\"m\", 0, 1)\n",
    "data[\"minority\"] = np.where(data[\"minority\"]==\"no_min\", 0, 1)\n",
    "data = pd.get_dummies(data, columns=[\"jobcat\"])\n",
    "data.head()"
   ]
  },
  {
   "cell_type": "code",
   "execution_count": 11,
   "id": "fc4bb2e3",
   "metadata": {},
   "outputs": [
    {
     "data": {
      "text/plain": [
       "0    253\n",
       "1    220\n",
       "Name: promoted, dtype: int64"
      ]
     },
     "execution_count": 11,
     "metadata": {},
     "output_type": "execute_result"
    }
   ],
   "source": [
    "data[\"promoted\"] = np.where(data[\"salary\"]/data[\"startsal\"] > 2,1,0)\n",
    "\n",
    "data[\"promoted\"].value_counts()"
   ]
  },
  {
   "cell_type": "code",
   "execution_count": 12,
   "id": "a7063206",
   "metadata": {},
   "outputs": [
    {
     "name": "stdout",
     "output_type": "stream",
     "text": [
      "(331, 9)\n",
      "(142, 9)\n"
     ]
    }
   ],
   "source": [
    "X = data.drop([\"promoted\", \"salary\", \"startsal\"], axis=1)\n",
    "y = data[\"promoted\"]\n",
    "\n",
    "xtrain, xtest, ytrain, ytest = train_test_split(X, y, test_size=0.3, random_state=1)\n",
    "\n",
    "print(xtrain.shape)\n",
    "print(xtest.shape)"
   ]
  },
  {
   "cell_type": "code",
   "execution_count": 13,
   "id": "3bf73d28",
   "metadata": {},
   "outputs": [
    {
     "data": {
      "text/plain": [
       "array([1, 1, 1, 1, 1, 1, 0, 0, 1, 0, 1, 0, 1, 0, 1, 1, 1, 0, 0, 0, 1, 1,\n",
       "       0, 0, 0, 0, 0, 0, 1, 1, 1, 0, 0, 0, 1, 1, 0, 0, 1, 1, 1, 1, 0, 0,\n",
       "       1, 0, 0, 1, 1, 1, 1, 1, 1, 1, 1, 0, 1, 0, 0, 1, 0, 0, 1, 0, 0, 0,\n",
       "       0, 1, 0, 0, 1, 0, 0, 1, 0, 0, 0, 1, 1, 1, 1, 0, 1, 1, 0, 1, 1, 1,\n",
       "       0, 1, 0, 1, 0, 0, 0, 0, 1, 0, 0, 1, 1, 1, 0, 0, 1, 0, 1, 1, 1, 0,\n",
       "       1, 0, 0, 1, 1, 1, 0, 1, 1, 0, 0, 0, 0, 0, 0, 0, 1, 0, 0, 1, 0, 1,\n",
       "       1, 0, 1, 0, 0, 0, 1, 1, 1, 0])"
      ]
     },
     "execution_count": 13,
     "metadata": {},
     "output_type": "execute_result"
    }
   ],
   "source": [
    "rf_model_full = RandomForestClassifier(random_state=1).fit(xtrain, ytrain)\n",
    "\n",
    "rf_predictions_full = rf_model_full.predict(xtest)\n",
    "rf_predictions_full"
   ]
  },
  {
   "cell_type": "markdown",
   "id": "615462d9",
   "metadata": {},
   "source": [
    "# ACCURACY"
   ]
  },
  {
   "cell_type": "markdown",
   "id": "78d2346f",
   "metadata": {},
   "source": [
    "## To check accuracy of the model trained to predict if an employee will be promoted or not, we can use the RGA function defined in the \"check_accuracy\" module of \"safeaipackage\" python package"
   ]
  },
  {
   "cell_type": "code",
   "execution_count": 14,
   "id": "997e7da6",
   "metadata": {},
   "outputs": [
    {
     "data": {
      "text/plain": [
       "0.6848958333333334"
      ]
     },
     "execution_count": 14,
     "metadata": {},
     "output_type": "execute_result"
    }
   ],
   "source": [
    "#ACCURACY\n",
    "\n",
    "rga_full = check_accuracy.rga(ytest, rf_predictions_full)\n",
    "rga_full"
   ]
  },
  {
   "cell_type": "markdown",
   "id": "9a0f15b8",
   "metadata": {},
   "source": [
    "### The higher RGA value (closer to one) the better concordance between the trained model and the actual values"
   ]
  },
  {
   "cell_type": "markdown",
   "id": "2aaa462c",
   "metadata": {},
   "source": [
    "# EXPLAINABILITY"
   ]
  },
  {
   "cell_type": "markdown",
   "id": "af810f01",
   "metadata": {},
   "source": [
    "# To find the contribution of explanatory variables to the output of the model, we can use the RGE function defined in the \"check_explainability\" module of \"safeaipackage\" python package"
   ]
  },
  {
   "cell_type": "code",
   "execution_count": 15,
   "id": "b0ea4f44",
   "metadata": {},
   "outputs": [
    {
     "data": {
      "text/plain": [
       "0.11964285714285694"
      ]
     },
     "execution_count": 15,
     "metadata": {},
     "output_type": "execute_result"
    }
   ],
   "source": [
    "## Backward removing variables from a full model to see how concordant are the predictions of \n",
    "#the full model with the predictions of the reduced model\n",
    "\n",
    "## Contribution of \"prevexp\"\n",
    "X_prevexp = X.drop(\"prevexp\", axis=1)\n",
    "xtrain_prevexp, xtest_prevexp, ytrain, ytest = train_test_split(X_prevexp, y, test_size=0.3, random_state=1)\n",
    "\n",
    "rfmodel_prevexp = RandomForestClassifier(random_state=1).fit(xtrain_prevexp, ytrain)\n",
    "rf_predictions_prevexp = rfmodel_prevexp.predict(xtest_prevexp)\n",
    "\n",
    "rge_prevexp = check_explainability.rge(rf_predictions_prevexp, rf_predictions_full)\n",
    "rge_prevexp"
   ]
  },
  {
   "cell_type": "code",
   "execution_count": 16,
   "id": "a0f76f00",
   "metadata": {},
   "outputs": [
    {
     "data": {
      "text/plain": [
       "0.18508064516129064"
      ]
     },
     "execution_count": 16,
     "metadata": {},
     "output_type": "execute_result"
    }
   ],
   "source": [
    "## Contribution of \"age\"\n",
    "\n",
    "X_age = X.drop(\"age\", axis=1)\n",
    "xtrain_age, xtest_age, ytrain, ytest = train_test_split(X_age, y, test_size=0.3, random_state=1)\n",
    "\n",
    "rfmodel_age = RandomForestClassifier(random_state=1).fit(xtrain_age, ytrain)\n",
    "rf_predictions_age = rfmodel_age.predict(xtest_age)\n",
    "\n",
    "rge_age = check_explainability.rge(rf_predictions_age, rf_predictions_full)\n",
    "rge_age"
   ]
  },
  {
   "cell_type": "code",
   "execution_count": 17,
   "id": "1f45db26",
   "metadata": {},
   "outputs": [
    {
     "data": {
      "text/plain": [
       "0.10492845786963467"
      ]
     },
     "execution_count": 17,
     "metadata": {},
     "output_type": "execute_result"
    }
   ],
   "source": [
    "## Contribution of \"edu\"\n",
    "\n",
    "X_edu = X.drop(\"edu\", axis=1)\n",
    "xtrain_edu, xtest_edu, ytrain, ytest = train_test_split(X_edu, y, test_size=0.3, random_state=1)\n",
    "\n",
    "rfmodel_edu = RandomForestClassifier(random_state=1).fit(xtrain_edu, ytrain)\n",
    "rf_predictions_edu = rfmodel_edu.predict(xtest_edu)\n",
    "\n",
    "rge_edu = check_explainability.rge(rf_predictions_edu, rf_predictions_full)\n",
    "rge_edu"
   ]
  },
  {
   "cell_type": "code",
   "execution_count": 18,
   "id": "c26abd90",
   "metadata": {},
   "outputs": [
    {
     "data": {
      "text/plain": [
       "0.20755475185854955"
      ]
     },
     "execution_count": 18,
     "metadata": {},
     "output_type": "execute_result"
    }
   ],
   "source": [
    "## Contribution of \"jobtime\"\n",
    "\n",
    "X_jobtime = X.drop(\"jobtime\", axis=1)\n",
    "xtrain_jobtime, xtest_jobtime, ytrain, ytest = train_test_split(X_jobtime, y, test_size=0.3, random_state=1)\n",
    "\n",
    "rfmodel_jobtime = RandomForestClassifier(random_state=1).fit(xtrain_jobtime, ytrain)\n",
    "rf_predictions_jobtime = rfmodel_jobtime.predict(xtest_jobtime)\n",
    "\n",
    "rge_jobtime = check_explainability.rge(rf_predictions_jobtime, rf_predictions_full)\n",
    "rge_jobtime"
   ]
  },
  {
   "cell_type": "code",
   "execution_count": 19,
   "id": "fe7bf9ec",
   "metadata": {},
   "outputs": [
    {
     "data": {
      "text/plain": [
       "0.06259936406995215"
      ]
     },
     "execution_count": 19,
     "metadata": {},
     "output_type": "execute_result"
    }
   ],
   "source": [
    "## Contribution of \"gender\"\n",
    "\n",
    "X_gender = X.drop(\"gender\", axis=1)\n",
    "xtrain_gender, xtest_gender, ytrain, ytest = train_test_split(X_gender, y, test_size=0.3, random_state=1)\n",
    "\n",
    "rfmodel_gender = RandomForestClassifier(random_state=1).fit(xtrain_gender, ytrain)\n",
    "rf_predictions_gender = rfmodel_gender.predict(xtest_gender)\n",
    "\n",
    "rge_gender = check_explainability.rge(rf_predictions_gender, rf_predictions_full)\n",
    "rge_gender"
   ]
  },
  {
   "cell_type": "code",
   "execution_count": 20,
   "id": "978bdfbd",
   "metadata": {},
   "outputs": [
    {
     "data": {
      "text/plain": [
       "0.09081875993640665"
      ]
     },
     "execution_count": 20,
     "metadata": {},
     "output_type": "execute_result"
    }
   ],
   "source": [
    "## Contribution of \"minority\"\n",
    "\n",
    "X_minority = X.drop(\"minority\", axis=1)\n",
    "xtrain_minority, xtest_minority, ytrain, ytest = train_test_split(X_minority, y, test_size=0.3, random_state=1)\n",
    "\n",
    "rfmodel_minority = RandomForestClassifier(random_state=1).fit(xtrain_minority, ytrain)\n",
    "rf_predictions_minority = rfmodel_minority.predict(xtest_minority)\n",
    "\n",
    "rge_minority = check_explainability.rge(rf_predictions_minority, rf_predictions_full)\n",
    "rge_minority"
   ]
  },
  {
   "cell_type": "code",
   "execution_count": 21,
   "id": "246ddd4d",
   "metadata": {},
   "outputs": [
    {
     "data": {
      "text/plain": [
       "0.09859154929577463"
      ]
     },
     "execution_count": 21,
     "metadata": {},
     "output_type": "execute_result"
    }
   ],
   "source": [
    "## Contribution of \"jobcat_Clerical\"\n",
    "\n",
    "X_jobcat_Clerical = X.drop(\"jobcat_Clerical\", axis=1)\n",
    "xtrain_jobcat_Clerical, xtest_jobcat_Clerical, ytrain, ytest = train_test_split(X_jobcat_Clerical, y, test_size=0.3, random_state=1)\n",
    "\n",
    "rfmodel_jobcat_Clerical = RandomForestClassifier(random_state=1).fit(xtrain_jobcat_Clerical, ytrain)\n",
    "rf_predictions_jobcat_Clerical = rfmodel_jobcat_Clerical.predict(xtest_jobcat_Clerical)\n",
    "\n",
    "rge_jobcat_Clerical = check_explainability.rge(rf_predictions_jobcat_Clerical, rf_predictions_full)\n",
    "rge_jobcat_Clerical"
   ]
  },
  {
   "cell_type": "code",
   "execution_count": 22,
   "id": "577f0722",
   "metadata": {},
   "outputs": [
    {
     "data": {
      "text/plain": [
       "0.055985705777248596"
      ]
     },
     "execution_count": 22,
     "metadata": {},
     "output_type": "execute_result"
    }
   ],
   "source": [
    "## Contribution of jobcat_Custodial\n",
    "\n",
    "X_jobcat_Custodial = X.drop(\"jobcat_Custodial\", axis=1)\n",
    "xtrain_jobcat_Custodial, xtest_jobcat_Custodial, ytrain, ytest = train_test_split(X_jobcat_Custodial, y, test_size=0.3, random_state=1)\n",
    "\n",
    "rfmodel_jobcat_Custodial = RandomForestClassifier(random_state=1).fit(xtrain_jobcat_Custodial, ytrain)\n",
    "rf_predictions_jobcat_Custodial = rfmodel_jobcat_Custodial.predict(xtest_jobcat_Custodial)\n",
    "\n",
    "rge_jobcat_Custodial = check_explainability.rge(rf_predictions_jobcat_Custodial, rf_predictions_full)\n",
    "rge_jobcat_Custodial"
   ]
  },
  {
   "cell_type": "code",
   "execution_count": 23,
   "id": "fde5b227",
   "metadata": {},
   "outputs": [
    {
     "data": {
      "text/plain": [
       "0.09570429570429584"
      ]
     },
     "execution_count": 23,
     "metadata": {},
     "output_type": "execute_result"
    }
   ],
   "source": [
    "## Contribution of jobcat_manager\n",
    "\n",
    "X_jobcat_manager = X.drop(\"jobcat_manager\", axis=1)\n",
    "xtrain_jobcat_manager, xtest_jobcat_manager, ytrain, ytest = train_test_split(X_jobcat_manager, y, test_size=0.3, random_state=1)\n",
    "\n",
    "rfmodel_jobcat_manager = RandomForestClassifier(random_state=1).fit(xtrain_jobcat_manager, ytrain)\n",
    "rf_predictions_jobcat_manager = rfmodel_jobcat_manager.predict(xtest_jobcat_manager)\n",
    "\n",
    "rge_jobcat_manager = check_explainability.rge(rf_predictions_jobcat_manager, rf_predictions_full)\n",
    "rge_jobcat_manager"
   ]
  },
  {
   "cell_type": "code",
   "execution_count": 24,
   "id": "3e05b0b2",
   "metadata": {},
   "outputs": [],
   "source": [
    "rge_values = [rge_age, rge_edu, rge_gender, rge_jobcat_manager, rge_jobcat_Clerical,\n",
    "                 rge_jobcat_Custodial, rge_jobtime, rge_minority, rge_prevexp]\n",
    "\n",
    "rge_df = pd.DataFrame(rge_values, index=[\"age\", \"edu\", \"gender\", \"jobcat_manager\", \"jobcat_Clerical\",\n",
    "                                   \"jobcat_Custodial\", \"jobtime\", \"minority\", \"preexp\"], \n",
    "             columns=[\"RGE(yhat_reducedmodel,yhat_fullmodel)\"])\n",
    "\n",
    "rge_df.sort_values(by=\"RGE(yhat_reducedmodel,yhat_fullmodel)\", ascending=True, inplace=True)"
   ]
  },
  {
   "cell_type": "code",
   "execution_count": 25,
   "id": "cc60811d",
   "metadata": {},
   "outputs": [
    {
     "data": {
      "image/png": "[encoded data removed]",
      "text/plain": [
       "<Figure size 720x432 with 1 Axes>"
      ]
     },
     "metadata": {
      "needs_background": "light"
     },
     "output_type": "display_data"
    }
   ],
   "source": [
    "plt.figure(figsize=(10, 6))\n",
    "plt.barh(rge_df.index, rge_df[\"RGE(yhat_reducedmodel,yhat_fullmodel)\"])\n",
    "plt.xlabel(\"RGE (Feature Importance)\")\n",
    "plt.ylabel(\"Feature\")\n",
    "plt.title(\"RGE(yhat_reducedmodel, yhat_fullmodel)\")\n",
    "plt.show()"
   ]
  },
  {
   "cell_type": "markdown",
   "id": "841a8d90",
   "metadata": {},
   "source": [
    "# ROBUSTNESS"
   ]
  },
  {
   "cell_type": "code",
   "execution_count": 35,
   "id": "5e053934",
   "metadata": {},
   "outputs": [
    {
     "data": {
      "text/html": [
       "<div>\n",
       "<style scoped>\n",
       "    .dataframe tbody tr th:only-of-type {\n",
       "        vertical-align: middle;\n",
       "    }\n",
       "\n",
       "    .dataframe tbody tr th {\n",
       "        vertical-align: top;\n",
       "    }\n",
       "\n",
       "    .dataframe thead th {\n",
       "        text-align: right;\n",
       "    }\n",
       "</style>\n",
       "<table border=\"1\" class=\"dataframe\">\n",
       "  <thead>\n",
       "    <tr style=\"text-align: right;\">\n",
       "      <th></th>\n",
       "      <th>RGR</th>\n",
       "    </tr>\n",
       "  </thead>\n",
       "  <tbody>\n",
       "    <tr>\n",
       "      <th>age</th>\n",
       "      <td>0.673239</td>\n",
       "    </tr>\n",
       "    <tr>\n",
       "      <th>edu</th>\n",
       "      <td>0.683099</td>\n",
       "    </tr>\n",
       "    <tr>\n",
       "      <th>jobtime</th>\n",
       "      <td>0.674648</td>\n",
       "    </tr>\n",
       "    <tr>\n",
       "      <th>prevexp</th>\n",
       "      <td>0.678873</td>\n",
       "    </tr>\n",
       "    <tr>\n",
       "      <th>minority</th>\n",
       "      <td>0.672535</td>\n",
       "    </tr>\n",
       "    <tr>\n",
       "      <th>gender</th>\n",
       "      <td>0.673239</td>\n",
       "    </tr>\n",
       "    <tr>\n",
       "      <th>jobcat_Clerical</th>\n",
       "      <td>0.671127</td>\n",
       "    </tr>\n",
       "    <tr>\n",
       "      <th>jobcat_Custodial</th>\n",
       "      <td>0.672535</td>\n",
       "    </tr>\n",
       "    <tr>\n",
       "      <th>jobcat_manager</th>\n",
       "      <td>0.665493</td>\n",
       "    </tr>\n",
       "  </tbody>\n",
       "</table>\n",
       "</div>"
      ],
      "text/plain": [
       "                       RGR\n",
       "age               0.673239\n",
       "edu               0.683099\n",
       "jobtime           0.674648\n",
       "prevexp           0.678873\n",
       "minority          0.672535\n",
       "gender            0.673239\n",
       "jobcat_Clerical   0.671127\n",
       "jobcat_Custodial  0.672535\n",
       "jobcat_manager    0.665493"
      ]
     },
     "execution_count": 35,
     "metadata": {},
     "output_type": "execute_result"
    }
   ],
   "source": [
    "features_tobe_perturbed = ['age', 'edu', 'jobtime', 'prevexp', 'minority','gender', 'jobcat_Clerical', \n",
    "                           'jobcat_Custodial', 'jobcat_manager']\n",
    "rgr_values = []\n",
    "for i in features_tobe_perturbed:\n",
    "    data_ = data\n",
    "    rgr_ = []\n",
    "    for n in range(10):\n",
    "        data_[i] = np.random.permutation(data_[i])\n",
    "        X = data_.drop([\"promoted\"], axis=1)\n",
    "        y = data_[\"promoted\"]\n",
    "        xtrain, xtest, ytrain, ytest = train_test_split(X, y, test_size=0.3, random_state=1)\n",
    "        rf_perturbed = RandomForestClassifier(random_state=1).fit(xtrain, ytrain)\n",
    "        rf_predictions_perturbed = rf_perturbed.predict(xtest)\n",
    "        rgr_.append(check_robustness.rgr(rf_predictions_full, rf_predictions_perturbed))\n",
    "    rgr_values.append(np.mean(rgr_))\n",
    "pd.DataFrame(rgr_values, index=features_tobe_perturbed, columns=[\"RGR\"])"
   ]
  }
 ],
 "metadata": {
  "kernelspec": {
   "display_name": "Python 3",
   "language": "python",
   "name": "python3"
  },
  "language_info": {
   "codemirror_mode": {
    "name": "ipython",
    "version": 3
   },
   "file_extension": ".py",
   "mimetype": "text/x-python",
   "name": "python",
   "nbconvert_exporter": "python",
   "pygments_lexer": "ipython3",
   "version": "3.8.8"
  }
 },
 "nbformat": 4,
 "nbformat_minor": 5
}
