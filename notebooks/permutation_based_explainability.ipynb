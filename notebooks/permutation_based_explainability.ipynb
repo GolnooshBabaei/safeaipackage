{
 "cells": [
  {
   "cell_type": "code",
   "execution_count": 2,
   "id": "99c9e2c5",
   "metadata": {},
   "outputs": [],
   "source": [
    "import pandas as pd\n",
    "import numpy as np\n",
    "import warnings\n",
    "import scipy\n",
    "import matplotlib.pyplot as plt\n",
    "from safeaipackage import check_accuracy, check_robustness\n",
    "from sklearn.model_selection import train_test_split\n",
    "from sklearn.ensemble import RandomForestClassifier\n",
    "\n",
    "warnings.filterwarnings('ignore')\n",
    "pd.set_option(\"display.max_rows\", 1000)\n",
    "pd.set_option(\"display.max_columns\", 10000)"
   ]
  },
  {
   "cell_type": "code",
   "execution_count": 21,
   "id": "82b793d3",
   "metadata": {},
   "outputs": [
    {
     "name": "stdout",
     "output_type": "stream",
     "text": [
      "This dataset has 473 rows and 9 columns\n"
     ]
    },
    {
     "data": {
      "text/html": [
       "<div>\n",
       "<style scoped>\n",
       "    .dataframe tbody tr th:only-of-type {\n",
       "        vertical-align: middle;\n",
       "    }\n",
       "\n",
       "    .dataframe tbody tr th {\n",
       "        vertical-align: top;\n",
       "    }\n",
       "\n",
       "    .dataframe thead th {\n",
       "        text-align: right;\n",
       "    }\n",
       "</style>\n",
       "<table border=\"1\" class=\"dataframe\">\n",
       "  <thead>\n",
       "    <tr style=\"text-align: right;\">\n",
       "      <th></th>\n",
       "      <th>salary</th>\n",
       "      <th>age</th>\n",
       "      <th>edu</th>\n",
       "      <th>startsal</th>\n",
       "      <th>jobtime</th>\n",
       "      <th>prevexp</th>\n",
       "      <th>minority</th>\n",
       "      <th>gender</th>\n",
       "      <th>jobcat</th>\n",
       "    </tr>\n",
       "  </thead>\n",
       "  <tbody>\n",
       "    <tr>\n",
       "      <th>0</th>\n",
       "      <td>57000</td>\n",
       "      <td>36</td>\n",
       "      <td>15</td>\n",
       "      <td>27000</td>\n",
       "      <td>98</td>\n",
       "      <td>144</td>\n",
       "      <td>no_min</td>\n",
       "      <td>m</td>\n",
       "      <td>manager</td>\n",
       "    </tr>\n",
       "    <tr>\n",
       "      <th>1</th>\n",
       "      <td>40200</td>\n",
       "      <td>30</td>\n",
       "      <td>16</td>\n",
       "      <td>18750</td>\n",
       "      <td>98</td>\n",
       "      <td>36</td>\n",
       "      <td>no_min</td>\n",
       "      <td>m</td>\n",
       "      <td>Clerical</td>\n",
       "    </tr>\n",
       "    <tr>\n",
       "      <th>2</th>\n",
       "      <td>21450</td>\n",
       "      <td>59</td>\n",
       "      <td>12</td>\n",
       "      <td>12000</td>\n",
       "      <td>98</td>\n",
       "      <td>381</td>\n",
       "      <td>no_min</td>\n",
       "      <td>f</td>\n",
       "      <td>Clerical</td>\n",
       "    </tr>\n",
       "    <tr>\n",
       "      <th>3</th>\n",
       "      <td>21900</td>\n",
       "      <td>41</td>\n",
       "      <td>8</td>\n",
       "      <td>13200</td>\n",
       "      <td>98</td>\n",
       "      <td>190</td>\n",
       "      <td>no_min</td>\n",
       "      <td>f</td>\n",
       "      <td>Clerical</td>\n",
       "    </tr>\n",
       "    <tr>\n",
       "      <th>4</th>\n",
       "      <td>45000</td>\n",
       "      <td>33</td>\n",
       "      <td>15</td>\n",
       "      <td>21000</td>\n",
       "      <td>98</td>\n",
       "      <td>138</td>\n",
       "      <td>no_min</td>\n",
       "      <td>m</td>\n",
       "      <td>Clerical</td>\n",
       "    </tr>\n",
       "  </tbody>\n",
       "</table>\n",
       "</div>"
      ],
      "text/plain": [
       "   salary  age  edu  startsal  jobtime  prevexp minority gender    jobcat\n",
       "0   57000   36   15     27000       98      144   no_min      m   manager\n",
       "1   40200   30   16     18750       98       36   no_min      m  Clerical\n",
       "2   21450   59   12     12000       98      381   no_min      f  Clerical\n",
       "3   21900   41    8     13200       98      190   no_min      f  Clerical\n",
       "4   45000   33   15     21000       98      138   no_min      m  Clerical"
      ]
     },
     "execution_count": 21,
     "metadata": {},
     "output_type": "execute_result"
    }
   ],
   "source": [
    "data = pd.read_excel(\"D:/files/research_activities/ORGANIZED_FILES/safeaipackage/employee.xlsx\")\n",
    "print(\"This dataset has {} rows and {} columns\".format(data.shape[0], data.shape[1]))\n",
    "data.head()"
   ]
  },
  {
   "cell_type": "code",
   "execution_count": 22,
   "id": "2676a648",
   "metadata": {},
   "outputs": [
    {
     "data": {
      "text/html": [
       "<div>\n",
       "<style scoped>\n",
       "    .dataframe tbody tr th:only-of-type {\n",
       "        vertical-align: middle;\n",
       "    }\n",
       "\n",
       "    .dataframe tbody tr th {\n",
       "        vertical-align: top;\n",
       "    }\n",
       "\n",
       "    .dataframe thead th {\n",
       "        text-align: right;\n",
       "    }\n",
       "</style>\n",
       "<table border=\"1\" class=\"dataframe\">\n",
       "  <thead>\n",
       "    <tr style=\"text-align: right;\">\n",
       "      <th></th>\n",
       "      <th>salary</th>\n",
       "      <th>age</th>\n",
       "      <th>edu</th>\n",
       "      <th>startsal</th>\n",
       "      <th>jobtime</th>\n",
       "      <th>prevexp</th>\n",
       "      <th>gender_</th>\n",
       "      <th>minority_</th>\n",
       "      <th>jobcat_Clerical</th>\n",
       "      <th>jobcat_Custodial</th>\n",
       "      <th>jobcat_manager</th>\n",
       "    </tr>\n",
       "  </thead>\n",
       "  <tbody>\n",
       "    <tr>\n",
       "      <th>0</th>\n",
       "      <td>57000</td>\n",
       "      <td>36</td>\n",
       "      <td>15</td>\n",
       "      <td>27000</td>\n",
       "      <td>98</td>\n",
       "      <td>144</td>\n",
       "      <td>0</td>\n",
       "      <td>0</td>\n",
       "      <td>0</td>\n",
       "      <td>0</td>\n",
       "      <td>1</td>\n",
       "    </tr>\n",
       "    <tr>\n",
       "      <th>1</th>\n",
       "      <td>40200</td>\n",
       "      <td>30</td>\n",
       "      <td>16</td>\n",
       "      <td>18750</td>\n",
       "      <td>98</td>\n",
       "      <td>36</td>\n",
       "      <td>0</td>\n",
       "      <td>0</td>\n",
       "      <td>1</td>\n",
       "      <td>0</td>\n",
       "      <td>0</td>\n",
       "    </tr>\n",
       "    <tr>\n",
       "      <th>2</th>\n",
       "      <td>21450</td>\n",
       "      <td>59</td>\n",
       "      <td>12</td>\n",
       "      <td>12000</td>\n",
       "      <td>98</td>\n",
       "      <td>381</td>\n",
       "      <td>1</td>\n",
       "      <td>0</td>\n",
       "      <td>1</td>\n",
       "      <td>0</td>\n",
       "      <td>0</td>\n",
       "    </tr>\n",
       "    <tr>\n",
       "      <th>3</th>\n",
       "      <td>21900</td>\n",
       "      <td>41</td>\n",
       "      <td>8</td>\n",
       "      <td>13200</td>\n",
       "      <td>98</td>\n",
       "      <td>190</td>\n",
       "      <td>1</td>\n",
       "      <td>0</td>\n",
       "      <td>1</td>\n",
       "      <td>0</td>\n",
       "      <td>0</td>\n",
       "    </tr>\n",
       "    <tr>\n",
       "      <th>4</th>\n",
       "      <td>45000</td>\n",
       "      <td>33</td>\n",
       "      <td>15</td>\n",
       "      <td>21000</td>\n",
       "      <td>98</td>\n",
       "      <td>138</td>\n",
       "      <td>0</td>\n",
       "      <td>0</td>\n",
       "      <td>1</td>\n",
       "      <td>0</td>\n",
       "      <td>0</td>\n",
       "    </tr>\n",
       "  </tbody>\n",
       "</table>\n",
       "</div>"
      ],
      "text/plain": [
       "   salary  age  edu  startsal  jobtime  prevexp  gender_  minority_  \\\n",
       "0   57000   36   15     27000       98      144        0          0   \n",
       "1   40200   30   16     18750       98       36        0          0   \n",
       "2   21450   59   12     12000       98      381        1          0   \n",
       "3   21900   41    8     13200       98      190        1          0   \n",
       "4   45000   33   15     21000       98      138        0          0   \n",
       "\n",
       "   jobcat_Clerical  jobcat_Custodial  jobcat_manager  \n",
       "0                0                 0               1  \n",
       "1                1                 0               0  \n",
       "2                1                 0               0  \n",
       "3                1                 0               0  \n",
       "4                1                 0               0  "
      ]
     },
     "execution_count": 22,
     "metadata": {},
     "output_type": "execute_result"
    }
   ],
   "source": [
    "data[\"gender_\"] = np.where(data[\"gender\"]==\"m\", 0, 1)\n",
    "data[\"minority_\"] = np.where(data[\"minority\"]==\"no_min\", 0, 1)\n",
    "data = pd.get_dummies(data, columns=[\"jobcat\"])\n",
    "data.drop([\"gender\", \"minority\"], axis=1, inplace=True)\n",
    "data.head()"
   ]
  },
  {
   "cell_type": "code",
   "execution_count": 23,
   "id": "fc4bb2e3",
   "metadata": {},
   "outputs": [
    {
     "data": {
      "text/plain": [
       "0    253\n",
       "1    220\n",
       "Name: promoted, dtype: int64"
      ]
     },
     "execution_count": 23,
     "metadata": {},
     "output_type": "execute_result"
    }
   ],
   "source": [
    "data[\"promoted\"] = np.where(data[\"salary\"]/data[\"startsal\"] > 2,1,0)\n",
    "data = data.drop([\"salary\", \"startsal\"], axis=1)\n",
    "\n",
    "data[\"promoted\"].value_counts()"
   ]
  },
  {
   "cell_type": "code",
   "execution_count": 14,
   "id": "07d9cff9",
   "metadata": {},
   "outputs": [],
   "source": [
    "def rga(y, yhat):\n",
    "    y = pd.DataFrame(y).reset_index(drop=True)\n",
    "    yhat = pd.DataFrame(yhat).reset_index(drop=True)\n",
    "    df = pd.concat([y,yhat], axis=1)\n",
    "    df.columns = [\"y\", \"yhat\"]\n",
    "    ryhat = yhat.rank(method=\"min\")\n",
    "    df[\"ryhat\"] = ryhat\n",
    "    support = df.groupby('ryhat')['y'].mean().reset_index(name='support')\n",
    "    rord = list(range(len(y)))\n",
    "    for jj in range(len(rord)):\n",
    "        for ii in range(len(support)):\n",
    "                if df[\"ryhat\"][jj]== support['ryhat'][ii]:\n",
    "                    rord[jj] = support['support'][ii]\n",
    "    vals = [[i, values] for i, values in enumerate(df[\"yhat\"])]\n",
    "    ranks = [x[0] for x in sorted(vals, key= lambda item: item[1])]\n",
    "    ystar = [rord[i] for i in ranks]\n",
    "    I = list(range(len(y)))\n",
    "    conc = 2*sum([I[i]*ystar[i] for i in range(len(I))])\n",
    "    dec= 2*sum([sorted(df[\"y\"], reverse=True)[i]*I[i] for i in range(len(I))]) # second term of the RGA numerator and denominator (dual Lorenz)\n",
    "    inc = 2*sum([sorted(df[\"y\"])[i]*I[i] for i in range(len(I))]) # first term of the RGA denominator (Lorenz)\n",
    "    RGA=(conc-dec)/(inc-dec)\n",
    "    return RGA "
   ]
  },
  {
   "cell_type": "code",
   "execution_count": 24,
   "id": "8e4141ca",
   "metadata": {},
   "outputs": [],
   "source": [
    "X = data.drop([\"promoted\"], axis=1)\n",
    "y = data[\"promoted\"]\n",
    "\n",
    "xtrain, xtest, ytrain, ytest = train_test_split(X, y, test_size=0.3, random_state=1)\n",
    "rf_model = RandomForestClassifier(random_state=1).fit(xtrain, ytrain)\n",
    "rf_predicted_labels = rf_model.predict(xtest)"
   ]
  },
  {
   "cell_type": "code",
   "execution_count": null,
   "id": "0d0278c5",
   "metadata": {},
   "outputs": [],
   "source": [
    "# first I permute \"age\"\n",
    "\n",
    "data[\"age\"] = np.random.permutation(data[\"age\"])\n",
    "\n",
    "X = data.drop([\"promoted\", \"salary\", \"startsal\"], axis=1)\n",
    "y = data[\"promoted\"]\n",
    "\n",
    "xtrain, xtest, ytrain, ytest = train_test_split(X, y, test_size=0.3, random_state=1)\n",
    "\n",
    "rf_age_perturbed = RandomForestClassifier(random_state=1).fit(xtrain, ytrain)\n",
    "rf_age_perturbed_preds = rf_age_perturbed.predict(xtest)\n",
    "rga(rf_predicted_labels, rf_age_perturbed_preds)"
   ]
  },
  {
   "cell_type": "code",
   "execution_count": null,
   "id": "f713f257",
   "metadata": {},
   "outputs": [],
   "source": [
    "# I permute \"edu\"\n",
    "\n",
    "data[\"edu\"] = np.random.permutation(data[\"edu\"])\n",
    "X = data.drop([\"promoted\", \"salary\", \"startsal\"], axis=1)\n",
    "y = data[\"promoted\"]\n",
    "xtrain, xtest, ytrain, ytest = train_test_split(X, y, test_size=0.3, random_state=1)\n",
    "\n",
    "rf_edu_perturbed = RandomForestClassifier(random_state=1).fit(xtrain, ytrain)\n",
    "rf_edu_perturbed_preds = rf_edu_perturbed.predict(xtest)\n",
    "rga(rf_predicted_labels, rf_edu_perturbed_preds)"
   ]
  },
  {
   "cell_type": "code",
   "execution_count": null,
   "id": "e68286bd",
   "metadata": {},
   "outputs": [],
   "source": [
    "# I permute \"prevexp\"\n",
    "\n",
    "data[\"prevexp\"] = np.random.permutation(data[\"prevexp\"])\n",
    "X = data.drop([\"promoted\", \"salary\", \"startsal\"], axis=1)\n",
    "y = data[\"promoted\"]\n",
    "xtrain, xtest, ytrain, ytest = train_test_split(X, y, test_size=0.3, random_state=1)\n",
    "\n",
    "rf_prevexp_perturbed = RandomForestClassifier(random_state=1).fit(xtrain, ytrain)\n",
    "rf_prevexp_perturbed_preds = rf_prevexp_perturbed.predict(xtest)\n",
    "rga(rf_predicted_labels, rf_prevexp_perturbed_preds)"
   ]
  },
  {
   "cell_type": "code",
   "execution_count": null,
   "id": "bb29fabb",
   "metadata": {},
   "outputs": [],
   "source": [
    "# I permute \"jobtime\"\n",
    "\n",
    "data[\"jobtime\"] = np.random.permutation(data[\"jobtime\"])\n",
    "X = data.drop([\"promoted\", \"salary\", \"startsal\"], axis=1)\n",
    "y = data[\"promoted\"]\n",
    "xtrain, xtest, ytrain, ytest = train_test_split(X, y, test_size=0.3, random_state=1)\n",
    "\n",
    "rf_jobtime_perturbed = RandomForestClassifier(random_state=1).fit(xtrain, ytrain)\n",
    "rf_jobtime_perturbed_preds = rf_jobtime_perturbed.predict(xtest)\n",
    "rga(rf_predicted_labels, rf_jobtime_perturbed_preds)"
   ]
  },
  {
   "cell_type": "code",
   "execution_count": null,
   "id": "44414d15",
   "metadata": {},
   "outputs": [],
   "source": [
    "# I permute \"gender\"\n",
    "\n",
    "data[\"gender_\"] = np.random.permutation(data[\"gender_\"])\n",
    "X = data.drop([\"promoted\", \"salary\", \"startsal\"], axis=1)\n",
    "y = data[\"promoted\"]\n",
    "xtrain, xtest, ytrain, ytest = train_test_split(X, y, test_size=0.3, random_state=1)\n",
    "\n",
    "rf_gender_perturbed = RandomForestClassifier(random_state=1).fit(xtrain, ytrain)\n",
    "rf_gender_perturbed_preds = rf_gender_perturbed.predict(xtest)\n",
    "rga(rf_predicted_labels, rf_gender_perturbed_preds)"
   ]
  },
  {
   "cell_type": "code",
   "execution_count": null,
   "id": "84861387",
   "metadata": {},
   "outputs": [],
   "source": [
    "# I permute \"minority\"\n",
    "\n",
    "data[\"minority_\"] = np.random.permutation(data[\"minority_\"])\n",
    "X = data.drop([\"promoted\", \"salary\", \"startsal\"], axis=1)\n",
    "y = data[\"promoted\"]\n",
    "xtrain, xtest, ytrain, ytest = train_test_split(X, y, test_size=0.3, random_state=1)\n",
    "\n",
    "rf_minority_perturbed = RandomForestClassifier(random_state=1).fit(xtrain, ytrain)\n",
    "rf_minority_perturbed_preds = rf_minority_perturbed.predict(xtest)\n",
    "rga(rf_predicted_labels, rf_minority_perturbed_preds)"
   ]
  },
  {
   "cell_type": "code",
   "execution_count": null,
   "id": "895c36bb",
   "metadata": {},
   "outputs": [],
   "source": [
    "# I permute \"jobcat_Clerical\"\n",
    "\n",
    "data[\"jobcat_Clerical\"] = np.random.permutation(data[\"jobcat_Clerical\"])\n",
    "X = data.drop([\"promoted\", \"salary\", \"startsal\"], axis=1)\n",
    "y = data[\"promoted\"]\n",
    "xtrain, xtest, ytrain, ytest = train_test_split(X, y, test_size=0.3, random_state=1)\n",
    "\n",
    "rf_jobcat_Clerical_perturbed = RandomForestClassifier(random_state=1).fit(xtrain, ytrain)\n",
    "rf_jobcat_Clerical_perturbed_preds = rf_jobcat_Clerical_perturbed.predict(xtest)\n",
    "rga(rf_predicted_labels, rf_jobcat_Clerical_perturbed_preds)"
   ]
  },
  {
   "cell_type": "code",
   "execution_count": null,
   "id": "4cadac84",
   "metadata": {},
   "outputs": [],
   "source": [
    "# I permute \"jobcat_Custodial\"\n",
    "\n",
    "data[\"jobcat_Custodial\"] = np.random.permutation(data[\"jobcat_Custodial\"])\n",
    "X = data.drop([\"promoted\", \"salary\", \"startsal\"], axis=1)\n",
    "y = data[\"promoted\"]\n",
    "xtrain, xtest, ytrain, ytest = train_test_split(X, y, test_size=0.3, random_state=1)\n",
    "\n",
    "rf_jobcat_Custodial_perturbed = RandomForestClassifier(random_state=1).fit(xtrain, ytrain)\n",
    "rf_jobcat_Custodial_perturbed_preds = rf_jobcat_Custodial_perturbed.predict(xtest)\n",
    "rga(rf_predicted_labels, rf_jobcat_Custodial_perturbed_preds)"
   ]
  },
  {
   "cell_type": "code",
   "execution_count": null,
   "id": "dfe6fc39",
   "metadata": {},
   "outputs": [],
   "source": [
    "# I permute \"jobcat_manager\"\n",
    "\n",
    "data[\"jobcat_manager\"] = np.random.permutation(data[\"jobcat_manager\"])\n",
    "X = data.drop([\"promoted\", \"salary\", \"startsal\"], axis=1)\n",
    "y = data[\"promoted\"]\n",
    "xtrain, xtest, ytrain, ytest = train_test_split(X, y, test_size=0.3, random_state=1)\n",
    "\n",
    "rf_jobcat_manager_perturbed = RandomForestClassifier(random_state=1).fit(xtrain, ytrain)\n",
    "rf_jobcat_manager_perturbed_preds = rf_jobcat_manager_perturbed.predict(xtest)\n",
    "rga(rf_predicted_labels, rf_jobcat_manager_perturbed_preds)"
   ]
  },
  {
   "cell_type": "code",
   "execution_count": null,
   "id": "7e56c98b",
   "metadata": {},
   "outputs": [],
   "source": [
    "rga_values = [0.8248015873015869, 0.8591269841269841, 0.7676587301587305, 0.8172619047619046, \n",
    "             0.9154761904761903, 0.9222222222222226, 0.8871031746031746, 0.908531746031746, 0.8944444444444446]\n",
    "\n",
    "plt.barh(X.columns, rga_values)"
   ]
  },
  {
   "cell_type": "code",
   "execution_count": null,
   "id": "a6dda1a1",
   "metadata": {},
   "outputs": [],
   "source": [
    "sorted_idx = np.array(rga_values).argsort()\n",
    "sorted_rga_values = [rga_values[i] for i in sorted_idx]\n",
    "plt.barh(X.columns[sorted_idx], sorted_rga_values)"
   ]
  },
  {
   "cell_type": "markdown",
   "id": "5b986cf5",
   "metadata": {},
   "source": [
    "# create a loop and repeat each for 10 times and then get the average"
   ]
  },
  {
   "cell_type": "code",
   "execution_count": 25,
   "id": "3ef93bea",
   "metadata": {},
   "outputs": [
    {
     "data": {
      "text/html": [
       "<div>\n",
       "<style scoped>\n",
       "    .dataframe tbody tr th:only-of-type {\n",
       "        vertical-align: middle;\n",
       "    }\n",
       "\n",
       "    .dataframe tbody tr th {\n",
       "        vertical-align: top;\n",
       "    }\n",
       "\n",
       "    .dataframe thead th {\n",
       "        text-align: right;\n",
       "    }\n",
       "</style>\n",
       "<table border=\"1\" class=\"dataframe\">\n",
       "  <thead>\n",
       "    <tr style=\"text-align: right;\">\n",
       "      <th></th>\n",
       "      <th>0</th>\n",
       "    </tr>\n",
       "  </thead>\n",
       "  <tbody>\n",
       "    <tr>\n",
       "      <th>age</th>\n",
       "      <td>0.811905</td>\n",
       "    </tr>\n",
       "    <tr>\n",
       "      <th>edu</th>\n",
       "      <td>0.813512</td>\n",
       "    </tr>\n",
       "    <tr>\n",
       "      <th>jobtime</th>\n",
       "      <td>0.681409</td>\n",
       "    </tr>\n",
       "    <tr>\n",
       "      <th>prevexp</th>\n",
       "      <td>0.534385</td>\n",
       "    </tr>\n",
       "    <tr>\n",
       "      <th>gender_</th>\n",
       "      <td>0.544940</td>\n",
       "    </tr>\n",
       "    <tr>\n",
       "      <th>minority_</th>\n",
       "      <td>0.516885</td>\n",
       "    </tr>\n",
       "    <tr>\n",
       "      <th>jobcat_Clerical</th>\n",
       "      <td>0.498750</td>\n",
       "    </tr>\n",
       "    <tr>\n",
       "      <th>jobcat_Custodial</th>\n",
       "      <td>0.498452</td>\n",
       "    </tr>\n",
       "    <tr>\n",
       "      <th>jobcat_manager</th>\n",
       "      <td>0.495734</td>\n",
       "    </tr>\n",
       "  </tbody>\n",
       "</table>\n",
       "</div>"
      ],
      "text/plain": [
       "                         0\n",
       "age               0.811905\n",
       "edu               0.813512\n",
       "jobtime           0.681409\n",
       "prevexp           0.534385\n",
       "gender_           0.544940\n",
       "minority_         0.516885\n",
       "jobcat_Clerical   0.498750\n",
       "jobcat_Custodial  0.498452\n",
       "jobcat_manager    0.495734"
      ]
     },
     "execution_count": 25,
     "metadata": {},
     "output_type": "execute_result"
    }
   ],
   "source": [
    "rga_values = []\n",
    "for i in X.columns:\n",
    "    data_ = data\n",
    "    rga_ = []\n",
    "    for n in range(10):\n",
    "        data_[i] = np.random.permutation(data_[i])\n",
    "        X = data_.drop([\"promoted\"], axis=1)\n",
    "        y = data_[\"promoted\"]\n",
    "        xtrain, xtest, ytrain, ytest = train_test_split(X, y, test_size=0.3, random_state=1)\n",
    "        rf_perturbed = RandomForestClassifier(random_state=1).fit(xtrain, ytrain)\n",
    "        rf_perturbed_preds = rf_perturbed.predict(xtest)\n",
    "        rga_.append(rga(rf_predicted_labels, rf_perturbed_preds))\n",
    "    rga_values.append(np.mean(rga_))\n",
    "pd.DataFrame(rga_values, index=X.columns)"
   ]
  },
  {
   "cell_type": "code",
   "execution_count": 29,
   "id": "57a0f75a",
   "metadata": {},
   "outputs": [
    {
     "data": {
      "text/html": [
       "<div>\n",
       "<style scoped>\n",
       "    .dataframe tbody tr th:only-of-type {\n",
       "        vertical-align: middle;\n",
       "    }\n",
       "\n",
       "    .dataframe tbody tr th {\n",
       "        vertical-align: top;\n",
       "    }\n",
       "\n",
       "    .dataframe thead th {\n",
       "        text-align: right;\n",
       "    }\n",
       "</style>\n",
       "<table border=\"1\" class=\"dataframe\">\n",
       "  <thead>\n",
       "    <tr style=\"text-align: right;\">\n",
       "      <th></th>\n",
       "      <th>average RGE</th>\n",
       "    </tr>\n",
       "  </thead>\n",
       "  <tbody>\n",
       "    <tr>\n",
       "      <th>age</th>\n",
       "      <td>0.811905</td>\n",
       "    </tr>\n",
       "    <tr>\n",
       "      <th>edu</th>\n",
       "      <td>0.813512</td>\n",
       "    </tr>\n",
       "    <tr>\n",
       "      <th>jobtime</th>\n",
       "      <td>0.681409</td>\n",
       "    </tr>\n",
       "    <tr>\n",
       "      <th>prevexp</th>\n",
       "      <td>0.534385</td>\n",
       "    </tr>\n",
       "    <tr>\n",
       "      <th>gender_</th>\n",
       "      <td>0.544940</td>\n",
       "    </tr>\n",
       "    <tr>\n",
       "      <th>minority_</th>\n",
       "      <td>0.516885</td>\n",
       "    </tr>\n",
       "    <tr>\n",
       "      <th>jobcat_Clerical</th>\n",
       "      <td>0.498750</td>\n",
       "    </tr>\n",
       "    <tr>\n",
       "      <th>jobcat_Custodial</th>\n",
       "      <td>0.498452</td>\n",
       "    </tr>\n",
       "    <tr>\n",
       "      <th>jobcat_manager</th>\n",
       "      <td>0.495734</td>\n",
       "    </tr>\n",
       "  </tbody>\n",
       "</table>\n",
       "</div>"
      ],
      "text/plain": [
       "                  average RGE\n",
       "age                  0.811905\n",
       "edu                  0.813512\n",
       "jobtime              0.681409\n",
       "prevexp              0.534385\n",
       "gender_              0.544940\n",
       "minority_            0.516885\n",
       "jobcat_Clerical      0.498750\n",
       "jobcat_Custodial     0.498452\n",
       "jobcat_manager       0.495734"
      ]
     },
     "execution_count": 29,
     "metadata": {},
     "output_type": "execute_result"
    }
   ],
   "source": [
    "permutation_based_importance = pd.DataFrame(rga_values, index=X.columns, columns=[\"average RGE\"])\n",
    "permutation_based_importance"
   ]
  },
  {
   "cell_type": "code",
   "execution_count": 37,
   "id": "7b2ab7dc",
   "metadata": {},
   "outputs": [
    {
     "data": {
      "text/plain": [
       "<BarContainer object of 9 artists>"
      ]
     },
     "execution_count": 37,
     "metadata": {},
     "output_type": "execute_result"
    },
    {
     "data": {
      "image/png": "[encoded data removed]",
      "text/plain": [
       "<Figure size 576x576 with 1 Axes>"
      ]
     },
     "metadata": {
      "needs_background": "light"
     },
     "output_type": "display_data"
    }
   ],
   "source": [
    "plt.figure(figsize=(8, 8))\n",
    "plt.barh(permutation_based_importance.index, permutation_based_importance[\"average RGE\"])"
   ]
  },
  {
   "cell_type": "code",
   "execution_count": null,
   "id": "b0aac9b7",
   "metadata": {},
   "outputs": [],
   "source": []
  },
  {
   "cell_type": "code",
   "execution_count": null,
   "id": "6de37147",
   "metadata": {},
   "outputs": [],
   "source": []
  },
  {
   "cell_type": "code",
   "execution_count": null,
   "id": "f17b510d",
   "metadata": {},
   "outputs": [],
   "source": []
  }
 ],
 "metadata": {
  "kernelspec": {
   "display_name": "Python 3",
   "language": "python",
   "name": "python3"
  },
  "language_info": {
   "codemirror_mode": {
    "name": "ipython",
    "version": 3
   },
   "file_extension": ".py",
   "mimetype": "text/x-python",
   "name": "python",
   "nbconvert_exporter": "python",
   "pygments_lexer": "ipython3",
   "version": "3.8.8"
  }
 },
 "nbformat": 4,
 "nbformat_minor": 5
}
