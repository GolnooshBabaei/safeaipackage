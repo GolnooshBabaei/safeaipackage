{
 "cells": [
  {
   "cell_type": "code",
   "execution_count": 2,
   "id": "99c9e2c5",
   "metadata": {},
   "outputs": [],
   "source": [
    "import pandas as pd\n",
    "import numpy as np\n",
    "import warnings\n",
    "import scipy\n",
    "import matplotlib.pyplot as plt\n",
    "from safeaipackage import check_accuracy, check_robustness\n",
    "from sklearn.model_selection import train_test_split\n",
    "from sklearn.ensemble import RandomForestClassifier\n",
    "\n",
    "warnings.filterwarnings('ignore')\n",
    "pd.set_option(\"display.max_rows\", 1000)\n",
    "pd.set_option(\"display.max_columns\", 10000)"
   ]
  },
  {
   "cell_type": "code",
   "execution_count": 3,
   "id": "82b793d3",
   "metadata": {},
   "outputs": [
    {
     "name": "stdout",
     "output_type": "stream",
     "text": [
      "This dataset has 473 rows and 9 columns\n"
     ]
    },
    {
     "data": {
      "text/html": [
       "<div>\n",
       "<style scoped>\n",
       "    .dataframe tbody tr th:only-of-type {\n",
       "        vertical-align: middle;\n",
       "    }\n",
       "\n",
       "    .dataframe tbody tr th {\n",
       "        vertical-align: top;\n",
       "    }\n",
       "\n",
       "    .dataframe thead th {\n",
       "        text-align: right;\n",
       "    }\n",
       "</style>\n",
       "<table border=\"1\" class=\"dataframe\">\n",
       "  <thead>\n",
       "    <tr style=\"text-align: right;\">\n",
       "      <th></th>\n",
       "      <th>salary</th>\n",
       "      <th>age</th>\n",
       "      <th>edu</th>\n",
       "      <th>startsal</th>\n",
       "      <th>jobtime</th>\n",
       "      <th>prevexp</th>\n",
       "      <th>minority</th>\n",
       "      <th>gender</th>\n",
       "      <th>jobcat</th>\n",
       "    </tr>\n",
       "  </thead>\n",
       "  <tbody>\n",
       "    <tr>\n",
       "      <th>0</th>\n",
       "      <td>57000</td>\n",
       "      <td>36</td>\n",
       "      <td>15</td>\n",
       "      <td>27000</td>\n",
       "      <td>98</td>\n",
       "      <td>144</td>\n",
       "      <td>no_min</td>\n",
       "      <td>m</td>\n",
       "      <td>manager</td>\n",
       "    </tr>\n",
       "    <tr>\n",
       "      <th>1</th>\n",
       "      <td>40200</td>\n",
       "      <td>30</td>\n",
       "      <td>16</td>\n",
       "      <td>18750</td>\n",
       "      <td>98</td>\n",
       "      <td>36</td>\n",
       "      <td>no_min</td>\n",
       "      <td>m</td>\n",
       "      <td>Clerical</td>\n",
       "    </tr>\n",
       "    <tr>\n",
       "      <th>2</th>\n",
       "      <td>21450</td>\n",
       "      <td>59</td>\n",
       "      <td>12</td>\n",
       "      <td>12000</td>\n",
       "      <td>98</td>\n",
       "      <td>381</td>\n",
       "      <td>no_min</td>\n",
       "      <td>f</td>\n",
       "      <td>Clerical</td>\n",
       "    </tr>\n",
       "    <tr>\n",
       "      <th>3</th>\n",
       "      <td>21900</td>\n",
       "      <td>41</td>\n",
       "      <td>8</td>\n",
       "      <td>13200</td>\n",
       "      <td>98</td>\n",
       "      <td>190</td>\n",
       "      <td>no_min</td>\n",
       "      <td>f</td>\n",
       "      <td>Clerical</td>\n",
       "    </tr>\n",
       "    <tr>\n",
       "      <th>4</th>\n",
       "      <td>45000</td>\n",
       "      <td>33</td>\n",
       "      <td>15</td>\n",
       "      <td>21000</td>\n",
       "      <td>98</td>\n",
       "      <td>138</td>\n",
       "      <td>no_min</td>\n",
       "      <td>m</td>\n",
       "      <td>Clerical</td>\n",
       "    </tr>\n",
       "  </tbody>\n",
       "</table>\n",
       "</div>"
      ],
      "text/plain": [
       "   salary  age  edu  startsal  jobtime  prevexp minority gender    jobcat\n",
       "0   57000   36   15     27000       98      144   no_min      m   manager\n",
       "1   40200   30   16     18750       98       36   no_min      m  Clerical\n",
       "2   21450   59   12     12000       98      381   no_min      f  Clerical\n",
       "3   21900   41    8     13200       98      190   no_min      f  Clerical\n",
       "4   45000   33   15     21000       98      138   no_min      m  Clerical"
      ]
     },
     "execution_count": 3,
     "metadata": {},
     "output_type": "execute_result"
    }
   ],
   "source": [
    "data = pd.read_excel(\"D:/files/research_activities/ORGANIZED_FILES/safeaipackage/employee.xlsx\")\n",
    "print(\"This dataset has {} rows and {} columns\".format(data.shape[0], data.shape[1]))\n",
    "data.head()"
   ]
  },
  {
   "cell_type": "code",
   "execution_count": 4,
   "id": "2676a648",
   "metadata": {},
   "outputs": [
    {
     "data": {
      "text/html": [
       "<div>\n",
       "<style scoped>\n",
       "    .dataframe tbody tr th:only-of-type {\n",
       "        vertical-align: middle;\n",
       "    }\n",
       "\n",
       "    .dataframe tbody tr th {\n",
       "        vertical-align: top;\n",
       "    }\n",
       "\n",
       "    .dataframe thead th {\n",
       "        text-align: right;\n",
       "    }\n",
       "</style>\n",
       "<table border=\"1\" class=\"dataframe\">\n",
       "  <thead>\n",
       "    <tr style=\"text-align: right;\">\n",
       "      <th></th>\n",
       "      <th>salary</th>\n",
       "      <th>age</th>\n",
       "      <th>edu</th>\n",
       "      <th>startsal</th>\n",
       "      <th>jobtime</th>\n",
       "      <th>prevexp</th>\n",
       "      <th>gender_</th>\n",
       "      <th>minority_</th>\n",
       "      <th>jobcat_Clerical</th>\n",
       "      <th>jobcat_Custodial</th>\n",
       "      <th>jobcat_manager</th>\n",
       "    </tr>\n",
       "  </thead>\n",
       "  <tbody>\n",
       "    <tr>\n",
       "      <th>0</th>\n",
       "      <td>57000</td>\n",
       "      <td>36</td>\n",
       "      <td>15</td>\n",
       "      <td>27000</td>\n",
       "      <td>98</td>\n",
       "      <td>144</td>\n",
       "      <td>0</td>\n",
       "      <td>0</td>\n",
       "      <td>0</td>\n",
       "      <td>0</td>\n",
       "      <td>1</td>\n",
       "    </tr>\n",
       "    <tr>\n",
       "      <th>1</th>\n",
       "      <td>40200</td>\n",
       "      <td>30</td>\n",
       "      <td>16</td>\n",
       "      <td>18750</td>\n",
       "      <td>98</td>\n",
       "      <td>36</td>\n",
       "      <td>0</td>\n",
       "      <td>0</td>\n",
       "      <td>1</td>\n",
       "      <td>0</td>\n",
       "      <td>0</td>\n",
       "    </tr>\n",
       "    <tr>\n",
       "      <th>2</th>\n",
       "      <td>21450</td>\n",
       "      <td>59</td>\n",
       "      <td>12</td>\n",
       "      <td>12000</td>\n",
       "      <td>98</td>\n",
       "      <td>381</td>\n",
       "      <td>1</td>\n",
       "      <td>0</td>\n",
       "      <td>1</td>\n",
       "      <td>0</td>\n",
       "      <td>0</td>\n",
       "    </tr>\n",
       "    <tr>\n",
       "      <th>3</th>\n",
       "      <td>21900</td>\n",
       "      <td>41</td>\n",
       "      <td>8</td>\n",
       "      <td>13200</td>\n",
       "      <td>98</td>\n",
       "      <td>190</td>\n",
       "      <td>1</td>\n",
       "      <td>0</td>\n",
       "      <td>1</td>\n",
       "      <td>0</td>\n",
       "      <td>0</td>\n",
       "    </tr>\n",
       "    <tr>\n",
       "      <th>4</th>\n",
       "      <td>45000</td>\n",
       "      <td>33</td>\n",
       "      <td>15</td>\n",
       "      <td>21000</td>\n",
       "      <td>98</td>\n",
       "      <td>138</td>\n",
       "      <td>0</td>\n",
       "      <td>0</td>\n",
       "      <td>1</td>\n",
       "      <td>0</td>\n",
       "      <td>0</td>\n",
       "    </tr>\n",
       "  </tbody>\n",
       "</table>\n",
       "</div>"
      ],
      "text/plain": [
       "   salary  age  edu  startsal  jobtime  prevexp  gender_  minority_  \\\n",
       "0   57000   36   15     27000       98      144        0          0   \n",
       "1   40200   30   16     18750       98       36        0          0   \n",
       "2   21450   59   12     12000       98      381        1          0   \n",
       "3   21900   41    8     13200       98      190        1          0   \n",
       "4   45000   33   15     21000       98      138        0          0   \n",
       "\n",
       "   jobcat_Clerical  jobcat_Custodial  jobcat_manager  \n",
       "0                0                 0               1  \n",
       "1                1                 0               0  \n",
       "2                1                 0               0  \n",
       "3                1                 0               0  \n",
       "4                1                 0               0  "
      ]
     },
     "execution_count": 4,
     "metadata": {},
     "output_type": "execute_result"
    }
   ],
   "source": [
    "data[\"gender_\"] = np.where(data[\"gender\"]==\"m\", 0, 1)\n",
    "data[\"minority_\"] = np.where(data[\"minority\"]==\"no_min\", 0, 1)\n",
    "data = pd.get_dummies(data, columns=[\"jobcat\"])\n",
    "data.drop([\"gender\", \"minority\"], axis=1, inplace=True)\n",
    "data.head()"
   ]
  },
  {
   "cell_type": "code",
   "execution_count": 5,
   "id": "fc4bb2e3",
   "metadata": {},
   "outputs": [
    {
     "data": {
      "text/plain": [
       "0    253\n",
       "1    220\n",
       "Name: promoted, dtype: int64"
      ]
     },
     "execution_count": 5,
     "metadata": {},
     "output_type": "execute_result"
    }
   ],
   "source": [
    "data[\"promoted\"] = np.where(data[\"salary\"]/data[\"startsal\"] > 2,1,0)\n",
    "\n",
    "data[\"promoted\"].value_counts()"
   ]
  },
  {
   "cell_type": "code",
   "execution_count": 6,
   "id": "a7063206",
   "metadata": {},
   "outputs": [
    {
     "name": "stdout",
     "output_type": "stream",
     "text": [
      "(331, 9)\n",
      "(142, 9)\n"
     ]
    }
   ],
   "source": [
    "X = data.drop([\"promoted\", \"salary\", \"startsal\"], axis=1)\n",
    "y = data[\"promoted\"]\n",
    "\n",
    "xtrain, xtest, ytrain, ytest = train_test_split(X, y, test_size=0.3, random_state=1)\n",
    "\n",
    "print(xtrain.shape)\n",
    "print(xtest.shape)"
   ]
  },
  {
   "cell_type": "code",
   "execution_count": 8,
   "id": "abea4935",
   "metadata": {},
   "outputs": [
    {
     "data": {
      "text/html": [
       "<div>\n",
       "<style scoped>\n",
       "    .dataframe tbody tr th:only-of-type {\n",
       "        vertical-align: middle;\n",
       "    }\n",
       "\n",
       "    .dataframe tbody tr th {\n",
       "        vertical-align: top;\n",
       "    }\n",
       "\n",
       "    .dataframe thead th {\n",
       "        text-align: right;\n",
       "    }\n",
       "</style>\n",
       "<table border=\"1\" class=\"dataframe\">\n",
       "  <thead>\n",
       "    <tr style=\"text-align: right;\">\n",
       "      <th></th>\n",
       "      <th>age</th>\n",
       "      <th>edu</th>\n",
       "      <th>jobtime</th>\n",
       "      <th>prevexp</th>\n",
       "      <th>gender_</th>\n",
       "      <th>minority_</th>\n",
       "      <th>jobcat_Clerical</th>\n",
       "      <th>jobcat_Custodial</th>\n",
       "      <th>jobcat_manager</th>\n",
       "    </tr>\n",
       "  </thead>\n",
       "  <tbody>\n",
       "    <tr>\n",
       "      <th>244</th>\n",
       "      <td>19</td>\n",
       "      <td>12</td>\n",
       "      <td>81</td>\n",
       "      <td>18</td>\n",
       "      <td>1</td>\n",
       "      <td>0</td>\n",
       "      <td>1</td>\n",
       "      <td>0</td>\n",
       "      <td>0</td>\n",
       "    </tr>\n",
       "    <tr>\n",
       "      <th>187</th>\n",
       "      <td>54</td>\n",
       "      <td>12</td>\n",
       "      <td>84</td>\n",
       "      <td>208</td>\n",
       "      <td>1</td>\n",
       "      <td>0</td>\n",
       "      <td>1</td>\n",
       "      <td>0</td>\n",
       "      <td>0</td>\n",
       "    </tr>\n",
       "    <tr>\n",
       "      <th>325</th>\n",
       "      <td>30</td>\n",
       "      <td>8</td>\n",
       "      <td>76</td>\n",
       "      <td>144</td>\n",
       "      <td>0</td>\n",
       "      <td>1</td>\n",
       "      <td>0</td>\n",
       "      <td>1</td>\n",
       "      <td>0</td>\n",
       "    </tr>\n",
       "    <tr>\n",
       "      <th>98</th>\n",
       "      <td>20</td>\n",
       "      <td>12</td>\n",
       "      <td>92</td>\n",
       "      <td>5</td>\n",
       "      <td>1</td>\n",
       "      <td>1</td>\n",
       "      <td>1</td>\n",
       "      <td>0</td>\n",
       "      <td>0</td>\n",
       "    </tr>\n",
       "    <tr>\n",
       "      <th>224</th>\n",
       "      <td>21</td>\n",
       "      <td>15</td>\n",
       "      <td>82</td>\n",
       "      <td>0</td>\n",
       "      <td>1</td>\n",
       "      <td>0</td>\n",
       "      <td>1</td>\n",
       "      <td>0</td>\n",
       "      <td>0</td>\n",
       "    </tr>\n",
       "  </tbody>\n",
       "</table>\n",
       "</div>"
      ],
      "text/plain": [
       "     age  edu  jobtime  prevexp  gender_  minority_  jobcat_Clerical  \\\n",
       "244   19   12       81       18        1          0                1   \n",
       "187   54   12       84      208        1          0                1   \n",
       "325   30    8       76      144        0          1                0   \n",
       "98    20   12       92        5        1          1                1   \n",
       "224   21   15       82        0        1          0                1   \n",
       "\n",
       "     jobcat_Custodial  jobcat_manager  \n",
       "244                 0               0  \n",
       "187                 0               0  \n",
       "325                 1               0  \n",
       "98                  0               0  \n",
       "224                 0               0  "
      ]
     },
     "execution_count": 8,
     "metadata": {},
     "output_type": "execute_result"
    }
   ],
   "source": [
    "xtrain.head()"
   ]
  },
  {
   "cell_type": "code",
   "execution_count": 9,
   "id": "3bf73d28",
   "metadata": {},
   "outputs": [
    {
     "data": {
      "text/plain": [
       "array([1, 1, 1, 1, 1, 1, 0, 0, 1, 0, 1, 0, 1, 0, 1, 1, 1, 0, 0, 1, 1, 1,\n",
       "       0, 0, 0, 0, 0, 0, 1, 1, 1, 0, 0, 0, 1, 1, 0, 0, 1, 1, 0, 1, 1, 0,\n",
       "       1, 0, 0, 1, 1, 1, 1, 1, 1, 1, 1, 0, 1, 0, 0, 1, 0, 0, 1, 0, 0, 0,\n",
       "       0, 1, 0, 0, 1, 0, 0, 0, 0, 0, 0, 1, 1, 1, 1, 0, 1, 1, 1, 1, 1, 1,\n",
       "       0, 1, 0, 1, 0, 0, 0, 0, 1, 0, 0, 1, 1, 1, 0, 0, 0, 0, 1, 0, 1, 0,\n",
       "       1, 0, 0, 1, 1, 1, 0, 1, 1, 0, 0, 0, 0, 0, 0, 0, 1, 0, 0, 1, 0, 1,\n",
       "       1, 0, 1, 0, 0, 0, 1, 1, 1, 0])"
      ]
     },
     "execution_count": 9,
     "metadata": {},
     "output_type": "execute_result"
    }
   ],
   "source": [
    "rf_model = RandomForestClassifier(random_state=1).fit(xtrain, ytrain)\n",
    "\n",
    "rf_predicted_labels = rf_model.predict(xtest)\n",
    "rf_predicted_labels"
   ]
  },
  {
   "cell_type": "code",
   "execution_count": 10,
   "id": "3dc4715e",
   "metadata": {},
   "outputs": [],
   "source": [
    "def rga(y, yhat):\n",
    "    y = pd.DataFrame(y).reset_index(drop=True)\n",
    "    yhat = pd.DataFrame(yhat).reset_index(drop=True)\n",
    "    df = pd.concat([y,yhat], axis=1)\n",
    "    df.columns = [\"y\", \"yhat\"]\n",
    "    ryhat = yhat.rank(method=\"min\")\n",
    "    df[\"ryhat\"] = ryhat\n",
    "    support = df.groupby('ryhat')['y'].mean().reset_index(name='support')\n",
    "    rord = list(range(len(y)))\n",
    "    for jj in range(len(rord)):\n",
    "        for ii in range(len(support)):\n",
    "                if df[\"ryhat\"][jj]== support['ryhat'][ii]:\n",
    "                    rord[jj] = support['support'][ii]\n",
    "    vals = [[i, values] for i, values in enumerate(df[\"yhat\"])]\n",
    "    ranks = [x[0] for x in sorted(vals, key= lambda item: item[1])]\n",
    "    ystar = [rord[i] for i in ranks]\n",
    "    I = list(range(len(y)))\n",
    "    conc = 2*sum([I[i]*ystar[i] for i in range(len(I))])\n",
    "    dec= 2*sum([sorted(df[\"y\"], reverse=True)[i]*I[i] for i in range(len(I))]) # second term of the RGA numerator and denominator (dual Lorenz)\n",
    "    inc = 2*sum([sorted(df[\"y\"])[i]*I[i] for i in range(len(I))]) # first term of the RGA denominator (Lorenz)\n",
    "    RGA=(conc-dec)/(inc-dec)\n",
    "    return RGA "
   ]
  },
  {
   "cell_type": "code",
   "execution_count": 11,
   "id": "694f8ec8",
   "metadata": {},
   "outputs": [],
   "source": [
    "def delta_function(data):\n",
    "        result = (rgr(data.iloc[:,0], data.iloc[:,2]))-(rgr(data.iloc[:,0], data.iloc[:,1]))\n",
    "        return result\n",
    "    \n",
    "def rga_statistic_test(y, yhat_rm, yhat_cm):\n",
    "        y = pd.DataFrame(y).reset_index(drop=True)\n",
    "        yhat_rm = pd.DataFrame(yhat_rm).reset_index(drop=True)\n",
    "        yhat_cm = pd.DataFrame(yhat_cm).reset_index(drop=True)\n",
    "        jk_mat = pd.concat([y,yhat_rm, yhat_cm], axis=1, keys=[\"y\", \"yhat_rm\", \"yhat_cm\"])\n",
    "        n = len(jk_mat)\n",
    "        index = np.arange(n)\n",
    "        jk_results = []\n",
    "        for i in range(n):\n",
    "            jk_sample = jk_mat.iloc[[x for x in index if x != i],:]\n",
    "            jk_sample.reset_index(drop=True, inplace=True)\n",
    "            jk_statistic = delta_function(jk_sample)\n",
    "            jk_results.append(jk_statistic)\n",
    "        se = np.sqrt(((n-1)/n)*(sum([(x-np.mean(jk_results))**2 for x in jk_results])))\n",
    "        z = (rga(y,yhat_cm)-rga(y,yhat_rm))/se\n",
    "        p_value = 2*scipy.stats.norm.cdf(-abs(z))\n",
    "        return p_value"
   ]
  },
  {
   "cell_type": "code",
   "execution_count": 157,
   "id": "997e7da6",
   "metadata": {},
   "outputs": [
    {
     "data": {
      "text/plain": [
       "0.6628605769230771"
      ]
     },
     "execution_count": 157,
     "metadata": {},
     "output_type": "execute_result"
    }
   ],
   "source": [
    "#ACCURACY\n",
    "\n",
    "rga_full = rga(y= ytest, yhat=rf_predicted_labels)\n",
    "rga_full"
   ]
  },
  {
   "cell_type": "code",
   "execution_count": 158,
   "id": "b0ea4f44",
   "metadata": {},
   "outputs": [
    {
     "data": {
      "text/plain": [
       "0.7289663461538461"
      ]
     },
     "execution_count": 158,
     "metadata": {},
     "output_type": "execute_result"
    }
   ],
   "source": [
    "## Backward removing variables from a full model to see how rga of the model changes when each variable is removed\n",
    "## model without prevexp\n",
    "\n",
    "X_prevexp = X.drop(\"prevexp\", axis=1)\n",
    "xtrain_prevexp, xtest_prevexp, ytrain, ytest = train_test_split(X_prevexp, y, test_size=0.3, random_state=1)\n",
    "\n",
    "rfmodel_prevexp = RandomForestClassifier(random_state=1).fit(xtrain_prevexp, ytrain)\n",
    "rf_predictions_prevexp = rfmodel_prevexp.predict(xtest_prevexp)\n",
    "\n",
    "rga_prevexp = rga(ytest, rf_predictions_prevexp)\n",
    "rga_prevexp"
   ]
  },
  {
   "cell_type": "code",
   "execution_count": 159,
   "id": "d260f3e3",
   "metadata": {},
   "outputs": [
    {
     "data": {
      "text/plain": [
       "0.025726964419195985"
      ]
     },
     "execution_count": 159,
     "metadata": {},
     "output_type": "execute_result"
    }
   ],
   "source": [
    "## rga test\n",
    "\n",
    "pvalue_prevexp = rga_statistic_test(ytest, rf_predictions_prevexp, rf_predicted_labels)\n",
    "pvalue_prevexp"
   ]
  },
  {
   "cell_type": "code",
   "execution_count": 160,
   "id": "a0f76f00",
   "metadata": {},
   "outputs": [
    {
     "data": {
      "text/plain": [
       "0.6400240384615384"
      ]
     },
     "execution_count": 160,
     "metadata": {},
     "output_type": "execute_result"
    }
   ],
   "source": [
    "## model without age\n",
    "\n",
    "X_age = X.drop(\"age\", axis=1)\n",
    "xtrain_age, xtest_age, ytrain, ytest = train_test_split(X_age, y, test_size=0.3, random_state=1)\n",
    "\n",
    "rfmodel_age = RandomForestClassifier(random_state=1).fit(xtrain_age, ytrain)\n",
    "rf_predictions_age = rfmodel_age.predict(xtest_age)\n",
    "\n",
    "rga_age = rga(ytest, rf_predictions_age)\n",
    "rga_age"
   ]
  },
  {
   "cell_type": "code",
   "execution_count": 161,
   "id": "9a0f2843",
   "metadata": {},
   "outputs": [
    {
     "data": {
      "text/plain": [
       "0.500129353052433"
      ]
     },
     "execution_count": 161,
     "metadata": {},
     "output_type": "execute_result"
    }
   ],
   "source": [
    "## rga test\n",
    "\n",
    "pvalue_age = rga_statistic_test(ytest, rf_predictions_age, rf_predicted_labels)\n",
    "pvalue_age"
   ]
  },
  {
   "cell_type": "code",
   "execution_count": 162,
   "id": "1f45db26",
   "metadata": {},
   "outputs": [
    {
     "data": {
      "text/plain": [
       "0.6720753205128207"
      ]
     },
     "execution_count": 162,
     "metadata": {},
     "output_type": "execute_result"
    }
   ],
   "source": [
    "## model without edu\n",
    "\n",
    "X_edu = X.drop(\"edu\", axis=1)\n",
    "xtrain_edu, xtest_edu, ytrain, ytest = train_test_split(X_edu, y, test_size=0.3, random_state=1)\n",
    "\n",
    "rfmodel_edu = RandomForestClassifier(random_state=1).fit(xtrain_edu, ytrain)\n",
    "rf_predictions_edu = rfmodel_edu.predict(xtest_edu)\n",
    "\n",
    "rga_edu = rga(ytest, rf_predictions_edu)\n",
    "rga_edu"
   ]
  },
  {
   "cell_type": "code",
   "execution_count": 163,
   "id": "1c951449",
   "metadata": {},
   "outputs": [
    {
     "data": {
      "text/plain": [
       "0.7361127246065553"
      ]
     },
     "execution_count": 163,
     "metadata": {},
     "output_type": "execute_result"
    }
   ],
   "source": [
    "## rga test\n",
    "\n",
    "pvalue_edu = rga_statistic_test(ytest, rf_predictions_edu, rf_predicted_labels)\n",
    "pvalue_edu"
   ]
  },
  {
   "cell_type": "code",
   "execution_count": 164,
   "id": "c26abd90",
   "metadata": {},
   "outputs": [
    {
     "data": {
      "text/plain": [
       "0.677684294871795"
      ]
     },
     "execution_count": 164,
     "metadata": {},
     "output_type": "execute_result"
    }
   ],
   "source": [
    "## model without jobtime\n",
    "\n",
    "X_jobtime = X.drop(\"jobtime\", axis=1)\n",
    "xtrain_jobtime, xtest_jobtime, ytrain, ytest = train_test_split(X_jobtime, y, test_size=0.3, random_state=1)\n",
    "\n",
    "rfmodel_jobtime = RandomForestClassifier(random_state=1).fit(xtrain_jobtime, ytrain)\n",
    "rf_predictions_jobtime = rfmodel_jobtime.predict(xtest_jobtime)\n",
    "\n",
    "rga_jobtime = rga(ytest, rf_predictions_jobtime)\n",
    "rga_jobtime"
   ]
  },
  {
   "cell_type": "code",
   "execution_count": 165,
   "id": "cb14dea5",
   "metadata": {},
   "outputs": [
    {
     "data": {
      "text/plain": [
       "0.7015668936312338"
      ]
     },
     "execution_count": 165,
     "metadata": {},
     "output_type": "execute_result"
    }
   ],
   "source": [
    "## rga test\n",
    "\n",
    "pvalue_jobtime = rga_statistic_test(ytest, rf_predictions_jobtime, rf_predicted_labels)\n",
    "pvalue_jobtime"
   ]
  },
  {
   "cell_type": "code",
   "execution_count": 167,
   "id": "fe7bf9ec",
   "metadata": {},
   "outputs": [
    {
     "data": {
      "text/plain": [
       "0.67568108974359"
      ]
     },
     "execution_count": 167,
     "metadata": {},
     "output_type": "execute_result"
    }
   ],
   "source": [
    "## model without gender\n",
    "\n",
    "X_gender = X.drop(\"gender_\", axis=1)\n",
    "xtrain_gender, xtest_gender, ytrain, ytest = train_test_split(X_gender, y, test_size=0.3, random_state=1)\n",
    "\n",
    "rfmodel_gender = RandomForestClassifier(random_state=1).fit(xtrain_gender, ytrain)\n",
    "rf_predictions_gender = rfmodel_gender.predict(xtest_gender)\n",
    "\n",
    "rga_gender = rga(ytest, rf_predictions_gender)\n",
    "rga_gender"
   ]
  },
  {
   "cell_type": "code",
   "execution_count": 168,
   "id": "f6531544",
   "metadata": {},
   "outputs": [
    {
     "data": {
      "text/plain": [
       "0.5661132329858288"
      ]
     },
     "execution_count": 168,
     "metadata": {},
     "output_type": "execute_result"
    }
   ],
   "source": [
    "## rga test\n",
    "\n",
    "pvalue_gender = rga_statistic_test(ytest, rf_predictions_gender, rf_predicted_labels)\n",
    "pvalue_gender"
   ]
  },
  {
   "cell_type": "code",
   "execution_count": 169,
   "id": "978bdfbd",
   "metadata": {},
   "outputs": [
    {
     "data": {
      "text/plain": [
       "0.7083333333333335"
      ]
     },
     "execution_count": 169,
     "metadata": {},
     "output_type": "execute_result"
    }
   ],
   "source": [
    "## model without minority_\n",
    "\n",
    "X_minority = X.drop(\"minority_\", axis=1)\n",
    "xtrain_minority, xtest_minority, ytrain, ytest = train_test_split(X_minority, y, test_size=0.3, random_state=1)\n",
    "\n",
    "rfmodel_minority = RandomForestClassifier(random_state=1).fit(xtrain_minority, ytrain)\n",
    "rf_predictions_minority = rfmodel_minority.predict(xtest_minority)\n",
    "\n",
    "rga_minority = rga(ytest, rf_predictions_minority)\n",
    "rga_minority"
   ]
  },
  {
   "cell_type": "code",
   "execution_count": 170,
   "id": "c1646a19",
   "metadata": {},
   "outputs": [
    {
     "data": {
      "text/plain": [
       "0.12388543060538741"
      ]
     },
     "execution_count": 170,
     "metadata": {},
     "output_type": "execute_result"
    }
   ],
   "source": [
    "## rga test\n",
    "\n",
    "pvalue_minority = rga_statistic_test(ytest, rf_predictions_minority, rf_predicted_labels)\n",
    "pvalue_minority"
   ]
  },
  {
   "cell_type": "code",
   "execution_count": 171,
   "id": "246ddd4d",
   "metadata": {},
   "outputs": [
    {
     "data": {
      "text/plain": [
       "0.7381810897435895"
      ]
     },
     "execution_count": 171,
     "metadata": {},
     "output_type": "execute_result"
    }
   ],
   "source": [
    "## model without jobcat_Clerical\n",
    "\n",
    "X_jobcat_Clerical = X.drop(\"jobcat_Clerical\", axis=1)\n",
    "xtrain_jobcat_Clerical, xtest_jobcat_Clerical, ytrain, ytest = train_test_split(X_jobcat_Clerical, y, test_size=0.3, random_state=1)\n",
    "\n",
    "rfmodel_jobcat_Clerical = RandomForestClassifier(random_state=1).fit(xtrain_jobcat_Clerical, ytrain)\n",
    "rf_predictions_jobcat_Clerical = rfmodel_jobcat_Clerical.predict(xtest_jobcat_Clerical)\n",
    "\n",
    "rga_jobcat_Clerical = rga(ytest, rf_predictions_jobcat_Clerical)\n",
    "rga_jobcat_Clerical"
   ]
  },
  {
   "cell_type": "code",
   "execution_count": 172,
   "id": "fb7776e4",
   "metadata": {},
   "outputs": [
    {
     "data": {
      "text/plain": [
       "0.0021626719176778423"
      ]
     },
     "execution_count": 172,
     "metadata": {},
     "output_type": "execute_result"
    }
   ],
   "source": [
    "## rga test\n",
    "\n",
    "pvalue_jobcat_Clerical = rga_statistic_test(ytest, rf_predictions_jobcat_Clerical, rf_predicted_labels)\n",
    "pvalue_jobcat_Clerical"
   ]
  },
  {
   "cell_type": "code",
   "execution_count": 173,
   "id": "577f0722",
   "metadata": {},
   "outputs": [
    {
     "data": {
      "text/plain": [
       "0.7133413461538461"
      ]
     },
     "execution_count": 173,
     "metadata": {},
     "output_type": "execute_result"
    }
   ],
   "source": [
    "## model without jobcat_Custodial\n",
    "\n",
    "X_jobcat_Custodial = X.drop(\"jobcat_Custodial\", axis=1)\n",
    "xtrain_jobcat_Custodial, xtest_jobcat_Custodial, ytrain, ytest = train_test_split(X_jobcat_Custodial, y, test_size=0.3, random_state=1)\n",
    "\n",
    "rfmodel_jobcat_Custodial = RandomForestClassifier(random_state=1).fit(xtrain_jobcat_Custodial, ytrain)\n",
    "rf_predictions_jobcat_Custodial = rfmodel_jobcat_Custodial.predict(xtest_jobcat_Custodial)\n",
    "\n",
    "rga_jobcat_Custodial = rga(ytest, rf_predictions_jobcat_Custodial)\n",
    "rga_jobcat_Custodial"
   ]
  },
  {
   "cell_type": "code",
   "execution_count": 174,
   "id": "b4ee3a03",
   "metadata": {},
   "outputs": [
    {
     "data": {
      "text/plain": [
       "0.04733908527580307"
      ]
     },
     "execution_count": 174,
     "metadata": {},
     "output_type": "execute_result"
    }
   ],
   "source": [
    "## rga test\n",
    "\n",
    "pvalue_jobcat_Custodial = rga_statistic_test(ytest, rf_predictions_jobcat_Custodial, rf_predicted_labels)\n",
    "pvalue_jobcat_Custodial"
   ]
  },
  {
   "cell_type": "code",
   "execution_count": 175,
   "id": "fde5b227",
   "metadata": {},
   "outputs": [
    {
     "data": {
      "text/plain": [
       "0.7317708333333334"
      ]
     },
     "execution_count": 175,
     "metadata": {},
     "output_type": "execute_result"
    }
   ],
   "source": [
    "## model without jobcat_manager\n",
    "\n",
    "X_jobcat_manager = X.drop(\"jobcat_manager\", axis=1)\n",
    "xtrain_jobcat_manager, xtest_jobcat_manager, ytrain, ytest = train_test_split(X_jobcat_manager, y, test_size=0.3, random_state=1)\n",
    "\n",
    "rfmodel_jobcat_manager = RandomForestClassifier(random_state=1).fit(xtrain_jobcat_manager, ytrain)\n",
    "rf_predictions_jobcat_manager = rfmodel_jobcat_manager.predict(xtest_jobcat_manager)\n",
    "\n",
    "rga_jobcat_manager = rga(ytest, rf_predictions_jobcat_manager)\n",
    "rga_jobcat_manager"
   ]
  },
  {
   "cell_type": "code",
   "execution_count": 176,
   "id": "129c810a",
   "metadata": {},
   "outputs": [
    {
     "data": {
      "text/plain": [
       "0.0067295307070078395"
      ]
     },
     "execution_count": 176,
     "metadata": {},
     "output_type": "execute_result"
    }
   ],
   "source": [
    "## rga test\n",
    "\n",
    "pvalue_jobcat_manager = rga_statistic_test(ytest, rf_predictions_jobcat_manager, rf_predicted_labels)\n",
    "pvalue_jobcat_manager"
   ]
  },
  {
   "cell_type": "code",
   "execution_count": null,
   "id": "988863d8",
   "metadata": {},
   "outputs": [],
   "source": []
  },
  {
   "cell_type": "code",
   "execution_count": 81,
   "id": "66a67819",
   "metadata": {},
   "outputs": [],
   "source": [
    "def rgr(yhat, yhat_pert):\n",
    "    yhat = pd.DataFrame(yhat).reset_index(drop=True)\n",
    "    yhat_pert = pd.DataFrame(yhat_pert).reset_index(drop=True)\n",
    "    df = pd.concat([yhat,yhat_pert], axis=1)\n",
    "    df.columns = [\"yhat\", \"yhat_pert\"]\n",
    "    ryhat_pert = yhat_pert.rank(method=\"min\")\n",
    "    ryhat_pert.columns = [\"ryhat_pert\"]\n",
    "    df[\"ryhat_pert\"] = ryhat_pert\n",
    "    support = df.groupby('ryhat_pert')['yhat'].mean().reset_index(name='support')\n",
    "    rord = list(range(len(yhat)))\n",
    "    for jj in range(len(rord)):\n",
    "        for ii in range(len(support)):\n",
    "                if df[\"ryhat_pert\"][jj]== support['ryhat_pert'][ii]:\n",
    "                    rord[jj] = support['support'][ii]         \n",
    "    vals = [[i, values] for i, values in enumerate(df[\"yhat_pert\"])]\n",
    "    ranks = [x[0] for x in sorted(vals, key= lambda item: item[1])]\n",
    "    yhatstar = [rord[i] for i in ranks]\n",
    "    I = list(range(1,len(yhatstar)+1))   ########by this line everything is correct######\n",
    "    conc = 2*sum([I[i]*yhatstar[i] for i in range(len(I))])\n",
    "    dec = 2*sum([sorted(df[\"yhat\"], reverse=True)[i]*I[i] for i in range(len(I))]) \n",
    "    inc = 2*sum([sorted(df[\"yhat\"])[i]*I[i] for i in range(len(I))]) \n",
    "    RGR = (conc-dec)/(inc-dec)\n",
    "    return RGR"
   ]
  },
  {
   "cell_type": "code",
   "execution_count": 42,
   "id": "c30c1f07",
   "metadata": {},
   "outputs": [
    {
     "data": {
      "text/plain": [
       "array([0, 0, 0, 0, 1, 0, 0, 1, 1, 1, 0, 0, 1, 0, 1, 1, 0, 0, 0, 1, 0, 0,\n",
       "       0, 1, 0, 0, 0, 1, 1, 1, 1, 0, 0, 0, 0, 0, 0, 1, 1, 0, 1, 0, 0, 0,\n",
       "       1, 1, 1, 0, 0, 1, 0, 1, 1, 1, 1, 0, 1, 0, 0, 0, 1, 0, 0, 1, 0, 1,\n",
       "       1, 1, 0, 1, 1, 0, 0, 0, 1, 0, 0, 0, 0, 1, 0, 0, 0, 0, 1, 0, 0, 1,\n",
       "       0, 0, 1, 0, 1, 1, 1, 0, 1, 0, 1, 1, 0, 0, 1, 1, 0, 1, 1, 1, 0, 1,\n",
       "       0, 0, 0, 0, 0, 1, 1, 0, 1, 0, 1, 0, 1, 0, 0, 0, 0, 0, 0, 0, 1, 0,\n",
       "       1, 1, 1, 1, 1, 1, 0, 0, 1, 0])"
      ]
     },
     "execution_count": 42,
     "metadata": {},
     "output_type": "execute_result"
    }
   ],
   "source": [
    "## I need to know how I can permute data to generate yhat_pert\n",
    "\n",
    "yhat_pert = np.random.permutation(rf_predicted_labels)\n",
    "yhat_pert"
   ]
  },
  {
   "cell_type": "code",
   "execution_count": 84,
   "id": "5dc6d3ef",
   "metadata": {},
   "outputs": [
    {
     "data": {
      "text/plain": [
       "0.5018548387096774"
      ]
     },
     "execution_count": 84,
     "metadata": {},
     "output_type": "execute_result"
    }
   ],
   "source": [
    "rgr_vals = []\n",
    "\n",
    "for i in range(20):\n",
    "    yhat_pert = np.random.permutation(rf_predicted_labels)\n",
    "    rgr_ = rgr(rf_predicted_labels, yhat_pert)\n",
    "    rgr_vals.append(rgr_)\n",
    "\n",
    "np.mean(rgr_vals)"
   ]
  },
  {
   "cell_type": "code",
   "execution_count": 72,
   "id": "b30d97ac",
   "metadata": {},
   "outputs": [
    {
     "data": {
      "text/plain": [
       "0.45604838709677437"
      ]
     },
     "execution_count": 72,
     "metadata": {},
     "output_type": "execute_result"
    }
   ],
   "source": [
    "#ROBUSTNESS\n",
    "rgr = rgr(rf_predicted_labels, yhat_pert)\n",
    "rgr"
   ]
  },
  {
   "cell_type": "code",
   "execution_count": 74,
   "id": "8dcda8f0",
   "metadata": {},
   "outputs": [],
   "source": [
    "def rgr_statistic_test(yhat_mod1,yhat_mod2,yhat_pert_mod1,yhat_pert_mod2):\n",
    "        jk_mat = pd.concat([yhat_mod1,yhat_mod2,yhat_pert_mod1,yhat_pert_mod2], axis=1, keys=[\"yhat_mod1\", \n",
    "                                                                                        \"yhat_mode2\", \n",
    "                                                                                        \"yhat_pert_mode1\",\n",
    "                                                                                        \"yhat_pert_mode2\"])\n",
    "        n = len(jk_mat)\n",
    "        index = np.arange(n)\n",
    "        jk_results = []\n",
    "        for i in range(n):\n",
    "            jk_sample = jk_mat.iloc[[x for x in index if x != i],:]\n",
    "            jk_sample.reset_index(drop=True, inplace=True)\n",
    "            jk_statistic = delta_function(jk_sample)\n",
    "            jk_results.append(jk_statistic)\n",
    "        se = np.sqrt(((n-1)/n)*(sum([(x-np.mean(jk_results))**2 for x in jk_results])))\n",
    "        z = (rgr(yhat_mod1, yhat_pert_mod1)- rgr(yhat_mod2, yhat_pert_mod2))/se\n",
    "        p_value = 2*scipy.stats.norm.cdf(-abs(z))\n",
    "        return p_value"
   ]
  },
  {
   "cell_type": "markdown",
   "id": "9a5dbf72",
   "metadata": {},
   "source": [
    "# RGE\n"
   ]
  },
  {
   "cell_type": "code",
   "execution_count": 177,
   "id": "6f7387f0",
   "metadata": {},
   "outputs": [
    {
     "data": {
      "text/plain": [
       "0.9300476947535771"
      ]
     },
     "execution_count": 177,
     "metadata": {},
     "output_type": "execute_result"
    }
   ],
   "source": [
    "## check contribution of variables to the prediction\n",
    "\n",
    "rga_exp_gender = rga(rf_predictions_gender, rf_predicted_labels)\n",
    "\n",
    "rga_exp_gender"
   ]
  },
  {
   "cell_type": "code",
   "execution_count": 214,
   "id": "96d6a661",
   "metadata": {},
   "outputs": [
    {
     "data": {
      "text/plain": [
       "0.9293650793650795"
      ]
     },
     "execution_count": 214,
     "metadata": {},
     "output_type": "execute_result"
    }
   ],
   "source": [
    "rga(rf_predicted_labels, rf_predictions_gender)"
   ]
  },
  {
   "cell_type": "code",
   "execution_count": 178,
   "id": "f00ef54a",
   "metadata": {},
   "outputs": [
    {
     "data": {
      "text/plain": [
       "0.8349358974358975"
      ]
     },
     "execution_count": 178,
     "metadata": {},
     "output_type": "execute_result"
    }
   ],
   "source": [
    "rga_exp_age = rga(rf_predictions_age, rf_predicted_labels)\n",
    "\n",
    "rga_exp_age "
   ]
  },
  {
   "cell_type": "code",
   "execution_count": 179,
   "id": "ee5a02a4",
   "metadata": {},
   "outputs": [
    {
     "data": {
      "text/plain": [
       "0.8948779035139964"
      ]
     },
     "execution_count": 179,
     "metadata": {},
     "output_type": "execute_result"
    }
   ],
   "source": [
    "rga_exp_edu = rga(rf_predictions_edu, rf_predicted_labels)\n",
    "\n",
    "rga_exp_edu"
   ]
  },
  {
   "cell_type": "code",
   "execution_count": 180,
   "id": "9d31c741",
   "metadata": {},
   "outputs": [
    {
     "data": {
      "text/plain": [
       "0.9180622009569376"
      ]
     },
     "execution_count": 180,
     "metadata": {},
     "output_type": "execute_result"
    }
   ],
   "source": [
    "rga_exp_jobcat_Clerical = rga(rf_predictions_jobcat_Clerical, rf_predicted_labels)\n",
    "\n",
    "rga_exp_jobcat_Clerical"
   ]
  },
  {
   "cell_type": "code",
   "execution_count": 181,
   "id": "9272849e",
   "metadata": {},
   "outputs": [
    {
     "data": {
      "text/plain": [
       "0.9084507042253519"
      ]
     },
     "execution_count": 181,
     "metadata": {},
     "output_type": "execute_result"
    }
   ],
   "source": [
    "rga_exp_jobcat_Custodial = rga(rf_predictions_jobcat_Custodial, rf_predicted_labels)\n",
    "\n",
    "rga_exp_jobcat_Custodial"
   ]
  },
  {
   "cell_type": "code",
   "execution_count": 183,
   "id": "40d08000",
   "metadata": {},
   "outputs": [
    {
     "data": {
      "text/plain": [
       "0.9119880119880118"
      ]
     },
     "execution_count": 183,
     "metadata": {},
     "output_type": "execute_result"
    }
   ],
   "source": [
    "rga_exp_jobcat_manager = rga(rf_predictions_jobcat_manager, rf_predicted_labels)\n",
    "\n",
    "rga_exp_jobcat_manager"
   ]
  },
  {
   "cell_type": "code",
   "execution_count": 184,
   "id": "f16c080e",
   "metadata": {},
   "outputs": [
    {
     "data": {
      "text/plain": [
       "0.8027727180732641"
      ]
     },
     "execution_count": 184,
     "metadata": {},
     "output_type": "execute_result"
    }
   ],
   "source": [
    "rga_exp_jobtime = rga(rf_predictions_jobtime, rf_predicted_labels)\n",
    "\n",
    "rga_exp_jobtime"
   ]
  },
  {
   "cell_type": "code",
   "execution_count": 185,
   "id": "11ae17d1",
   "metadata": {},
   "outputs": [
    {
     "data": {
      "text/plain": [
       "0.8742050874403816"
      ]
     },
     "execution_count": 185,
     "metadata": {},
     "output_type": "execute_result"
    }
   ],
   "source": [
    "rga_exp_minority = rga(rf_predictions_minority, rf_predicted_labels)\n",
    "\n",
    "rga_exp_minority"
   ]
  },
  {
   "cell_type": "code",
   "execution_count": 186,
   "id": "8d6d97b4",
   "metadata": {},
   "outputs": [
    {
     "data": {
      "text/plain": [
       "0.880782211633909"
      ]
     },
     "execution_count": 186,
     "metadata": {},
     "output_type": "execute_result"
    }
   ],
   "source": [
    "rga_exp_prevexp = rga(rf_predictions_prevexp, rf_predicted_labels)\n",
    "\n",
    "rga_exp_prevexp"
   ]
  },
  {
   "cell_type": "code",
   "execution_count": 199,
   "id": "3e05b0b2",
   "metadata": {},
   "outputs": [
    {
     "data": {
      "text/plain": [
       "[0.8349358974358975,\n",
       " 0.8948779035139964,\n",
       " 0.9300476947535771,\n",
       " 0.9119880119880118,\n",
       " 0.9180622009569376,\n",
       " 0.9084507042253519,\n",
       " 0.8027727180732641,\n",
       " 0.8742050874403816,\n",
       " 0.880782211633909]"
      ]
     },
     "execution_count": 199,
     "metadata": {},
     "output_type": "execute_result"
    }
   ],
   "source": [
    "rga_exp_values = [rga_exp_age, rga_exp_edu, rga_exp_gender, rga_exp_jobcat_manager, rga_exp_jobcat_Clerical,\n",
    "                 rga_exp_jobcat_Custodial, rga_exp_jobtime, rga_exp_minority, rga_exp_prevexp]\n",
    "\n",
    "rga_exp_values"
   ]
  },
  {
   "cell_type": "code",
   "execution_count": 204,
   "id": "61fb8944",
   "metadata": {},
   "outputs": [
    {
     "data": {
      "text/html": [
       "<div>\n",
       "<style scoped>\n",
       "    .dataframe tbody tr th:only-of-type {\n",
       "        vertical-align: middle;\n",
       "    }\n",
       "\n",
       "    .dataframe tbody tr th {\n",
       "        vertical-align: top;\n",
       "    }\n",
       "\n",
       "    .dataframe thead th {\n",
       "        text-align: right;\n",
       "    }\n",
       "</style>\n",
       "<table border=\"1\" class=\"dataframe\">\n",
       "  <thead>\n",
       "    <tr style=\"text-align: right;\">\n",
       "      <th></th>\n",
       "      <th>RGA(yhat_reducedmodel,yhat_completemodel)</th>\n",
       "    </tr>\n",
       "  </thead>\n",
       "  <tbody>\n",
       "    <tr>\n",
       "      <th>gender</th>\n",
       "      <td>0.930048</td>\n",
       "    </tr>\n",
       "    <tr>\n",
       "      <th>jobcat_Clerical</th>\n",
       "      <td>0.918062</td>\n",
       "    </tr>\n",
       "    <tr>\n",
       "      <th>jobcat_manager</th>\n",
       "      <td>0.911988</td>\n",
       "    </tr>\n",
       "    <tr>\n",
       "      <th>jobcat_Custodial</th>\n",
       "      <td>0.908451</td>\n",
       "    </tr>\n",
       "    <tr>\n",
       "      <th>edu</th>\n",
       "      <td>0.894878</td>\n",
       "    </tr>\n",
       "    <tr>\n",
       "      <th>preexp</th>\n",
       "      <td>0.880782</td>\n",
       "    </tr>\n",
       "    <tr>\n",
       "      <th>minority</th>\n",
       "      <td>0.874205</td>\n",
       "    </tr>\n",
       "    <tr>\n",
       "      <th>age</th>\n",
       "      <td>0.834936</td>\n",
       "    </tr>\n",
       "    <tr>\n",
       "      <th>jobtime</th>\n",
       "      <td>0.802773</td>\n",
       "    </tr>\n",
       "  </tbody>\n",
       "</table>\n",
       "</div>"
      ],
      "text/plain": [
       "                  RGA(yhat_reducedmodel,yhat_completemodel)\n",
       "gender                                             0.930048\n",
       "jobcat_Clerical                                    0.918062\n",
       "jobcat_manager                                     0.911988\n",
       "jobcat_Custodial                                   0.908451\n",
       "edu                                                0.894878\n",
       "preexp                                             0.880782\n",
       "minority                                           0.874205\n",
       "age                                                0.834936\n",
       "jobtime                                            0.802773"
      ]
     },
     "execution_count": 204,
     "metadata": {},
     "output_type": "execute_result"
    }
   ],
   "source": [
    "rga_exp = pd.DataFrame(rga_exp_values, index=[\"age\", \"edu\", \"gender\", \"jobcat_manager\", \"jobcat_Clerical\",\n",
    "                                   \"jobcat_Custodial\", \"jobtime\", \"minority\", \"preexp\"], \n",
    "             columns=[\"RGA(yhat_reducedmodel,yhat_completemodel)\"])\n",
    "\n",
    "rga_exp.sort_values(by=\"RGA(yhat_reducedmodel,yhat_completemodel)\", ascending=False)"
   ]
  },
  {
   "cell_type": "code",
   "execution_count": 205,
   "id": "926031af",
   "metadata": {},
   "outputs": [
    {
     "data": {
      "text/plain": [
       "array([0.25367499, 0.07545832, 0.28296983, 0.28984408, 0.02370476,\n",
       "       0.02303507, 0.02029623, 0.01779073, 0.01322598])"
      ]
     },
     "execution_count": 205,
     "metadata": {},
     "output_type": "execute_result"
    }
   ],
   "source": [
    "feature_importances = rf_model.feature_importances_\n",
    "feature_importances"
   ]
  },
  {
   "cell_type": "code",
   "execution_count": 210,
   "id": "8ae4c6b3",
   "metadata": {},
   "outputs": [
    {
     "data": {
      "image/png": "[encoded data removed]",
      "text/plain": [
       "<Figure size 720x432 with 1 Axes>"
      ]
     },
     "metadata": {
      "needs_background": "light"
     },
     "output_type": "display_data"
    }
   ],
   "source": [
    "feature_importances = rf_model.feature_importances_\n",
    "\n",
    "# Get feature names (replace 'data.feature_names' with your own feature names if available)\n",
    "feature_names = X.columns\n",
    "\n",
    "# Sort indices by importance\n",
    "indices = np.argsort(feature_importances)\n",
    "\n",
    "# Plotting\n",
    "plt.figure(figsize=(10, 6))\n",
    "plt.barh(range(len(indices)), feature_importances[indices], align=\"center\")\n",
    "plt.yticks(range(len(indices)), [feature_names[i] for i in indices])\n",
    "plt.xlabel(\"Feature Importance\")\n",
    "plt.ylabel(\"Feature\")\n",
    "plt.title(\"Random Forest Classifier - Feature Importance\")\n",
    "plt.show()"
   ]
  }
 ],
 "metadata": {
  "kernelspec": {
   "display_name": "Python 3",
   "language": "python",
   "name": "python3"
  },
  "language_info": {
   "codemirror_mode": {
    "name": "ipython",
    "version": 3
   },
   "file_extension": ".py",
   "mimetype": "text/x-python",
   "name": "python",
   "nbconvert_exporter": "python",
   "pygments_lexer": "ipython3",
   "version": "3.8.8"
  }
 },
 "nbformat": 4,
 "nbformat_minor": 5
}
